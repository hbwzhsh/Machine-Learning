{
 "cells": [
  {
   "cell_type": "markdown",
   "metadata": {},
   "source": [
    "## Simple RNN language model to predict plausible dinosaur names - part 1\n",
    "\n",
    "The decision to do a language model based on dinosaur names was inspired by a project I had when working on a deep learning course offered by Deeplearning.ai. The data used within this notebook was found [here](\"https://github.com/brunoklein99/deep-learning-notes\") and consists of a list of dinosaur names. I initially started out to develop a simple architecture and found myself wondering how different changes to the model architecture might either improve or make a language model worse. I use cross-entropy loss with logits, and to specifically measure the performance of different models, I compare the last cost to the initial cost to see what the percentage decrease is for any given change. I compare two architectures at a time with a winner-take-all system in which the best model at a given step is then tested at the next step. Each model will implemented with gradient clipping and be trained for 30 epochs with a lr = 0.01 and then 2 epochs at a lr = 0.005.\n",
    "\n",
    "Below I set out the 5 unique ways in which I test out different architectures to see if there is an improvement in the model performance:\n",
    "\n",
    "1. Standatd LSTM cells with 512 hidden units using a cost of using three input characters to predict the single next chacter\n",
    "\n",
    "2. Standard LSTM cells with 512 hidden units using a cost of using three input characters to predict the three next chacters with respect to the input sequence\n",
    "\n",
    "3. Standard LSTM cells with 512 hidden units using a dense layer before the softmax output and uses the most effective cost method from the first two methods.\n",
    "\n",
    "4. Standard LSTM cells with 512 hidden units using the best method (softmax or dense->softmax) and the optimal cost method with a longer sequence to see if there is an increase in performance. (a shorter sequence was not tested as the cost method of predicting the next three characters already takes into account predicting characters given shorter sequences)\n",
    "\n",
    "5. Using a standard rnn architecture of rnn cells simply with tanh activations and no memory gates using all of the optimal methods within part 4\n",
    "\n",
    "\n",
    "Within this particular notebook, I test out the first two models. As described earlier, the better performing model will be used in the next round to be compared with method 3. "
   ]
  },
  {
   "cell_type": "code",
   "execution_count": 1,
   "metadata": {},
   "outputs": [],
   "source": [
    "import numpy as np\n",
    "import tensorflow as tf\n",
    "import matplotlib.pyplot as plt\n",
    "import latex\n",
    "from sklearn.utils import shuffle\n",
    "np.random.seed(10)\n",
    "\n",
    "%matplotlib inline\n",
    "import warnings\n",
    "warnings.filterwarnings('ignore')"
   ]
  },
  {
   "cell_type": "markdown",
   "metadata": {},
   "source": [
    "### Data Preprocessing"
   ]
  },
  {
   "cell_type": "code",
   "execution_count": 2,
   "metadata": {},
   "outputs": [
    {
     "name": "stdout",
     "output_type": "stream",
     "text": [
      "['a', 'c', 'h', 'e', 'n', 'o', 's', 'u', 'r', '\\n', 'd', 'y', 'x', 'b', 'l', 'i', 't', 'p', 'v', 'm', 'g', 'f', 'j', 'k', 'w', 'z', 'q']\n",
      "no chars: 27\n"
     ]
    }
   ],
   "source": [
    "# Reading in data - creating dictionaries specifying how to encode data (into characters)\n",
    "chars = []\n",
    "all_names = []\n",
    "with open(\"../../data/dino_names/names.txt\") as names:\n",
    "    lines = names.readlines()\n",
    "    for line in lines:\n",
    "        line = line.lower()\n",
    "        for char in line:\n",
    "            if char not in chars:\n",
    "                chars.append(char)\n",
    "        all_names.append(line) # \\n included\n",
    "                \n",
    "print(chars)\n",
    "print(\"no chars:\",len(chars))"
   ]
  },
  {
   "cell_type": "code",
   "execution_count": 3,
   "metadata": {},
   "outputs": [
    {
     "name": "stdout",
     "output_type": "stream",
     "text": [
      "1536\n",
      "max char len: 27\n",
      "min char len: 4\n"
     ]
    }
   ],
   "source": [
    "# Analysis of the names set\n",
    "print(len(all_names))\n",
    "print(\"max char len:\", len(max(all_names,key=len)))\n",
    "print(\"min char len:\", len(min(all_names,key=len)))"
   ]
  },
  {
   "cell_type": "code",
   "execution_count": 4,
   "metadata": {},
   "outputs": [],
   "source": [
    "# Creating encoder and decoder\n",
    "i = 1\n",
    "encoder = {\"\\n\":0} # char to id, set \\n to be 0\n",
    "decoder = {0:\"\\n\"} # id to char\n",
    "\n",
    "for char in chars:\n",
    "    if char != \"\\n\":\n",
    "        encoder[char] = i\n",
    "        decoder[i] = char\n",
    "        i += 1"
   ]
  },
  {
   "cell_type": "code",
   "execution_count": 5,
   "metadata": {},
   "outputs": [],
   "source": [
    "# returns one hot encoding for a particular character\n",
    "def get_one_hot_encoding(char):\n",
    "    char_enc = encoder[char]\n",
    "    hot_vec = np.zeros((27,1)) # vocab_size = 27\n",
    "    hot_vec[char_enc] = 1\n",
    "    hot_vec = hot_vec.T # shape (1,27)\n",
    "    return hot_vec"
   ]
  },
  {
   "cell_type": "code",
   "execution_count": 6,
   "metadata": {},
   "outputs": [],
   "source": [
    "# Returns the one_hot_encoding representation for a set of characters, i.e. \"abc\"\n",
    "def get_character_encoding(chars):\n",
    "    ret_enc = []\n",
    "    for c in chars:\n",
    "        c_one_hot = get_one_hot_encoding(c) # one_hot_encoding\n",
    "        ret_enc.append(c_one_hot)\n",
    "        \n",
    "    ret_enc = np.array(ret_enc)\n",
    "    ret_enc.shape = (3,27)\n",
    "    return ret_enc"
   ]
  },
  {
   "cell_type": "code",
   "execution_count": 7,
   "metadata": {},
   "outputs": [],
   "source": [
    "# returns a list of ((3,27),(1,27)) pairs corresponding with ((x_train_set),(y_output))\n",
    "def get_training_examples(lis_names,seed):\n",
    "    shuf_names = shuffle(lis_names,random_state=seed) # shuffling order of names\n",
    "    training_set = []\n",
    "    \n",
    "    for name in lis_names:\n",
    "        m = len(name)\n",
    "        i = 3\n",
    "        while i < m: # this means we won't overrun the number of chars in a name\n",
    "            x_temp = get_character_encoding(name[i-3:i])\n",
    "            y_temp = get_one_hot_encoding(name[i]) # x^<t+1>\n",
    "            training_set.append((x_temp,y_temp))\n",
    "            i += 1\n",
    "            \n",
    "    return training_set"
   ]
  },
  {
   "cell_type": "code",
   "execution_count": 8,
   "metadata": {},
   "outputs": [
    {
     "name": "stdout",
     "output_type": "stream",
     "text": [
      "Number of training examples: 15301\n",
      "x shape: (3, 27)\n",
      "y shape: (1, 27)\n"
     ]
    }
   ],
   "source": [
    "# Getting initial training set / testing func.\n",
    "training_set = get_training_examples(all_names,seed=0)\n",
    "print(\"Number of training examples:\", len(training_set))\n",
    "print(\"x shape:\", training_set[100][0].shape)\n",
    "print(\"y shape:\", training_set[100][1].shape)"
   ]
  },
  {
   "cell_type": "markdown",
   "metadata": {},
   "source": [
    "### Building model which uses one softmax output to compute loss - MODEL 1"
   ]
  },
  {
   "cell_type": "code",
   "execution_count": 9,
   "metadata": {},
   "outputs": [],
   "source": [
    "# placeholders for model 1\n",
    "# predicting one word only, so y shape = (1,num_chars)\n",
    "def get_placeholders():\n",
    "    X = tf.placeholder(tf.float32, shape=[3, 27], name='X')\n",
    "    y = tf.placeholder(tf.float32, shape=[1, 27], name='Y')\n",
    "    return X,y"
   ]
  },
  {
   "cell_type": "code",
   "execution_count": 10,
   "metadata": {},
   "outputs": [],
   "source": [
    "# Defining the rnn block with lstm cells for model 1\n",
    "def rnn_cell(the_input,n_input=3):\n",
    "    the_input = tf.split(the_input, n_input, axis=0) # create subtensor for each char\n",
    "    rnn_cell = tf.nn.rnn_cell.BasicLSTMCell(num_units=512,activation=tf.nn.tanh) # 512 hidden units per cell\n",
    "    outputs, curr_state = tf.nn.static_rnn(rnn_cell,inputs=the_input,dtype=tf.float32) # output for each input\n",
    "    \n",
    "    flat = tf.layers.flatten(outputs[-1]) # flatten last activation from lstm\n",
    "    out = tf.layers.dense(flat,27,activation=None,kernel_initializer=tf.contrib.layers.xavier_initializer()) # logits, 27D output\n",
    "    return out # returns logits"
   ]
  },
  {
   "cell_type": "code",
   "execution_count": 11,
   "metadata": {},
   "outputs": [],
   "source": [
    "# cost function used for both model 1 and model 2\n",
    "# Cross entropy loss because we are comparing the output of y^<t> and x^<t+1> for an arbitrary input sequence len\n",
    "def cost_function(logits,y):\n",
    "    return tf.reduce_mean(tf.nn.softmax_cross_entropy_with_logits_v2(labels=y,logits=logits))"
   ]
  },
  {
   "cell_type": "code",
   "execution_count": 12,
   "metadata": {},
   "outputs": [
    {
     "name": "stdout",
     "output_type": "stream",
     "text": [
      "3.328307\n"
     ]
    }
   ],
   "source": [
    "# Testing rnn cells and cost function for model 1\n",
    "tf.reset_default_graph()\n",
    "x,y = get_placeholders()\n",
    "logits = rnn_cell(x)\n",
    "cost = cost_function(logits,y)\n",
    "\n",
    "init = tf.global_variables_initializer()\n",
    "with tf.Session() as sess:\n",
    "    sess.run(init)\n",
    "    acost = sess.run(cost,feed_dict={x:training_set[100][0],y:training_set[100][1]})\n",
    "    print(acost)"
   ]
  },
  {
   "cell_type": "code",
   "execution_count": 35,
   "metadata": {},
   "outputs": [],
   "source": [
    "# Model for language model using stochastic gradient descent w/ gradient clipping\n",
    "# Note - this model builds the computation graph for both model 1 and model 2\n",
    "def model(names_set,lr=0.01,num_epochs=15,print_cost=True,retrain=True,model1=True):\n",
    "    tf.reset_default_graph() # resetting graph\n",
    "    tf.set_random_seed(1)\n",
    "    seed=0\n",
    "    costs=[]\n",
    "    \n",
    "    if model1: # using model 1\n",
    "        x,y = get_placeholders()\n",
    "        logits = rnn_cell(x)\n",
    "    else: # using model 2\n",
    "        x,y = get_placeholders2()\n",
    "        logits = rnn_cell2(x)\n",
    "    cost = cost_function(logits,y)\n",
    "    \n",
    "    optimizer = tf.train.AdamOptimizer(learning_rate=lr)\n",
    "    grads, variables = zip(*optimizer.compute_gradients(cost))\n",
    "    grads, _ = tf.clip_by_global_norm(grads, 5.0) # gradient clipping\n",
    "    optimizer = optimizer.apply_gradients(zip(grads, variables))\n",
    "    \n",
    "    init = tf.global_variables_initializer()\n",
    "    saver = tf.train.Saver() # to save/load model\n",
    "    with tf.Session() as sess:\n",
    "        if retrain:\n",
    "            if model1: # use model 1 to continue training\n",
    "                saver = tf.train.import_meta_graph(\"../../data/dino_names/model/language_model.ckpt.meta\")\n",
    "                saver.restore(sess, \"../../data/dino_names/model/language_model.ckpt\")\n",
    "            else: # use model 2 to continue training\n",
    "                saver = tf.train.import_meta_graph(\"../../data/dino_names/model2/language_model.ckpt.meta\")\n",
    "                saver.restore(sess, \"../../data/dino_names/model2/language_model.ckpt\")\n",
    "        else:\n",
    "            sess.run(init) # only run init when you are training a new model\n",
    "\n",
    "        for epoch in range(num_epochs):\n",
    "            old_running_cost = 0 # used to print out the increase to total cost each step\n",
    "            running_cost = 0\n",
    "            seed += 1\n",
    "            if model1:\n",
    "                training_set = get_training_examples(names_set,seed)\n",
    "            else:\n",
    "                training_set = get_training_examples2(names_set,seed)\n",
    "                \n",
    "            for aset in training_set:\n",
    "                (ax,ay) = aset\n",
    "                _,temp_cost = sess.run([optimizer,cost], feed_dict={x:ax,y:ay})\n",
    "                running_cost += temp_cost\n",
    "                \n",
    "                if print_cost: # print each training example cost update\n",
    "                    one_step_cost = running_cost - old_running_cost\n",
    "                    print(\"Step cost:\",one_step_cost)\n",
    "                    old_running_cost += temp_cost\n",
    "                \n",
    "            costs.append(running_cost)\n",
    "            if (epoch+1) % 1 == 0: # printing costs\n",
    "                print(\"Cost at epoch {}: {}\".format(epoch+1,running_cost))\n",
    "                \n",
    "            if (epoch+1) % 3 == 0: # save model every three epoch\n",
    "                if model1:\n",
    "                    loc = saver.save(sess, \"../../data/dino_names/model/language_model.ckpt\")\n",
    "                else:\n",
    "                    loc = saver.save(sess, \"../../data/dino_names/model2/language_model.ckpt\")\n",
    "        \n",
    "        # save model once more once training is complete\n",
    "        if model1:\n",
    "            loc = saver.save(sess, \"../../data/dino_names/model/language_model.ckpt\")\n",
    "        else:\n",
    "            loc = saver.save(sess, \"../../data/dino_names/model2/language_model.ckpt\")\n",
    "        return costs"
   ]
  },
  {
   "cell_type": "code",
   "execution_count": 53,
   "metadata": {
    "scrolled": true
   },
   "outputs": [
    {
     "name": "stdout",
     "output_type": "stream",
     "text": [
      "Cost at epoch 1: 25351.687621803954\n",
      "Cost at epoch 2: 22001.783078623375\n",
      "Cost at epoch 3: 20335.594542323848\n",
      "Cost at epoch 4: 19063.959569256927\n",
      "Cost at epoch 5: 18199.930159021023\n",
      "Cost at epoch 6: 17459.363595034374\n",
      "Cost at epoch 7: 17075.95508049745\n",
      "Cost at epoch 8: 16872.01777623087\n",
      "Cost at epoch 9: 16490.51161030396\n",
      "Cost at epoch 10: 16232.312919180227\n",
      "Cost at epoch 11: 16353.662010788317\n",
      "Cost at epoch 12: 16158.763027611356\n",
      "Cost at epoch 13: 16253.157042901124\n",
      "Cost at epoch 14: 16258.579187020416\n",
      "Cost at epoch 15: 16635.54854227798\n",
      "Cost at epoch 16: 16370.128277285861\n",
      "Cost at epoch 17: 16522.879588683205\n",
      "Cost at epoch 18: 16874.99381262077\n",
      "Cost at epoch 19: 16736.93957086139\n",
      "Cost at epoch 20: 16880.0320827266\n",
      "Cost at epoch 21: 17425.94609177695\n",
      "Cost at epoch 22: 17119.14995725909\n",
      "Cost at epoch 23: 16730.897301489502\n",
      "Cost at epoch 24: 17005.072792743318\n",
      "Cost at epoch 25: 16911.630104823507\n",
      "Cost at epoch 26: 17232.242128715956\n",
      "Cost at epoch 27: 17056.99726678295\n",
      "Cost at epoch 28: 17790.347902040474\n",
      "Cost at epoch 29: 17140.11240464306\n",
      "Cost at epoch 30: 15785.68774454083\n"
     ]
    }
   ],
   "source": [
    "acosts1 = model(all_names,lr=0.01,num_epochs=30,print_cost=False,retrain=False)"
   ]
  },
  {
   "cell_type": "code",
   "execution_count": 54,
   "metadata": {},
   "outputs": [
    {
     "name": "stdout",
     "output_type": "stream",
     "text": [
      "INFO:tensorflow:Restoring parameters from ../../data/dino_names/model/language_model.ckpt\n",
      "Cost at epoch 1: 13874.489991506316\n",
      "Cost at epoch 2: 11909.582915918014\n"
     ]
    }
   ],
   "source": [
    "acosts2 = model(all_names,lr=0.005,num_epochs=2,print_cost=False,retrain=True)"
   ]
  },
  {
   "cell_type": "code",
   "execution_count": 55,
   "metadata": {},
   "outputs": [
    {
     "data": {
      "image/png": "[encoded data removed]",
      "text/plain": [
       "<Figure size 432x288 with 1 Axes>"
      ]
     },
     "metadata": {},
     "output_type": "display_data"
    },
    {
     "name": "stdout",
     "output_type": "stream",
     "text": [
      "model 1 percentage change: 0.4697747579405746\n"
     ]
    }
   ],
   "source": [
    "total_costs1 = acosts1 + acosts2\n",
    "ax_i = [i for i in range(len(total_costs1))]\n",
    "plt.plot(ax_i,total_costs1)\n",
    "plt.title(\"Cost vs Epoch for model 1\")\n",
    "plt.show()\n",
    "print(\"model 1 percentage change:\",total_costs1[-1]/total_costs1[0])"
   ]
  },
  {
   "cell_type": "code",
   "execution_count": 18,
   "metadata": {},
   "outputs": [],
   "source": [
    "# This sample cell samples the model in order to create a dinosaur name\n",
    "def sample_cell(the_input,a,c):\n",
    "    past_state = (a,c)\n",
    "    the_input = tf.split(the_input,1,axis=0) # create subtensor for each char\n",
    "    rnn_cell = tf.nn.rnn_cell.BasicLSTMCell(num_units=512,activation=tf.nn.tanh) # 512 hidden units per cell\n",
    "    outputs, curr_state = tf.nn.static_rnn(rnn_cell,inputs=the_input,initial_state=past_state,dtype=tf.float32) # output for each input\n",
    "    \n",
    "    flat = tf.layers.flatten(outputs[-1]) # flatten last activation from lstm\n",
    "    out = tf.layers.dense(flat,27,activation=None,kernel_initializer=tf.contrib.layers.xavier_initializer()) # logits, 27D output\n",
    "    out = tf.nn.softmax(out)\n",
    "    achar = tf.argmax(out,axis=-1)\n",
    "    achar = tf.reshape(achar,()) # character in int representation\n",
    "    return achar,curr_state # returns logits"
   ]
  },
  {
   "cell_type": "code",
   "execution_count": 59,
   "metadata": {
    "scrolled": true
   },
   "outputs": [
    {
     "name": "stdout",
     "output_type": "stream",
     "text": [
      "INFO:tensorflow:Restoring parameters from ../../data/dino_names/model/language_model.ckpt\n",
      "l\n",
      "sampled char: o\n",
      "state a difference at 1: 9.329215\n",
      "state c difference at 1: 0.45990437\n",
      "sampled char: c\n",
      "state a difference at 2: -8.7732115\n",
      "state c difference at 2: -0.42222527\n",
      "sampled char: i\n",
      "state a difference at 3: 16.162529\n",
      "state c difference at 3: 1.8428881\n",
      "sampled char: s\n",
      "state a difference at 4: -16.37145\n",
      "state c difference at 4: -4.2320986\n",
      "sampled char: a\n",
      "state a difference at 5: -18.313978\n",
      "state c difference at 5: -18.118649\n"
     ]
    }
   ],
   "source": [
    "# Sampling the characters and ensuring the hidden state is updating each time step, from model 1\n",
    "tf.reset_default_graph()\n",
    "x = tf.placeholder(tf.float32, shape=[1, 27])\n",
    "a = tf.placeholder(tf.float32, shape=[1, 512])\n",
    "c = tf.placeholder(tf.float32, shape=[1, 512])\n",
    "out = sample_cell(x,a,c)\n",
    "\n",
    "ax = get_one_hot_encoding(\"l\")\n",
    "out_char = -1\n",
    "i = 0 # counts timesteps\n",
    "\n",
    "saver = tf.train.Saver()\n",
    "sess = tf.InteractiveSession()\n",
    "saver = tf.train.import_meta_graph(\"../../data/dino_names/model/language_model.ckpt.meta\")\n",
    "saver.restore(sess, \"../../data/dino_names/model/language_model.ckpt\")\n",
    "\n",
    "print(\"l\") # first character\n",
    "while out_char != 0 and i < 6:\n",
    "    if i == 0:\n",
    "        (achar,past_state) = sess.run(out,feed_dict={x:ax,a:np.zeros((1,512)),c:np.zeros((1,512))})\n",
    "        out_char = achar\n",
    "        a_past_state = past_state\n",
    "    else:\n",
    "        print(\"sampled char:\",decoder[achar]) # print character\n",
    "        a_a = past_state[0]\n",
    "        a_c = past_state[1]\n",
    "        ax = get_one_hot_encoding(decoder[achar])\n",
    "        (achar,past_state) = sess.run(out,feed_dict={x:ax,a:a_a,c:a_c})\n",
    "        out_char = achar\n",
    "        print(\"state a difference at \" + str(i) + \":\",np.sum(np.subtract(a_past_state[0],past_state[0]))) # sanity check\n",
    "        print(\"state c difference at \" + str(i) + \":\",np.sum(np.subtract(a_past_state[1],past_state[1])))\n",
    "        a_past_state = past_state\n",
    "        \n",
    "    i += 1"
   ]
  },
  {
   "cell_type": "markdown",
   "metadata": {},
   "source": [
    "### Training a language model using clusters of y variables, such that at any given point y<sup>t</sup> is attempting to predict x<sup>t+1</sup> for a sequence of length 3 - MODEL 2\n",
    "\n",
    "This differs from earlier training in that the y data is in sets of three clusters: shape(3,27) rather than (1,27). I am testing this to see if there is a performance improvement over the one output softmax model above."
   ]
  },
  {
   "cell_type": "code",
   "execution_count": 25,
   "metadata": {},
   "outputs": [],
   "source": [
    "# returns a list of ((3,27),(3,27)) pairs corresponding with ((x_train_set),(y_output))\n",
    "def get_training_examples2(lis_names,seed):\n",
    "    shuf_names = shuffle(lis_names,random_state=seed) # shuffling order of names\n",
    "    training_set = []\n",
    "    \n",
    "    for name in lis_names:\n",
    "        m = len(name)\n",
    "        i = 3\n",
    "        while i < m: # this means we won't overrun the number of chars in a name\n",
    "            x_temp = get_character_encoding(name[i-3:i])\n",
    "            y_temp = get_character_encoding(name[i-2:i+1]) # x^<t+1>\n",
    "            training_set.append((x_temp,y_temp))\n",
    "            i += 1\n",
    "            \n",
    "    return training_set"
   ]
  },
  {
   "cell_type": "code",
   "execution_count": 26,
   "metadata": {},
   "outputs": [
    {
     "name": "stdout",
     "output_type": "stream",
     "text": [
      "Number of training examples: 15301\n",
      "x shape: (3, 27)\n",
      "y shape: (3, 27)\n"
     ]
    }
   ],
   "source": [
    "# Getting initial training set / testing func.\n",
    "training_set2 = get_training_examples2(all_names,seed=0)\n",
    "print(\"Number of training examples:\", len(training_set2))\n",
    "print(\"x shape:\", training_set2[100][0].shape)\n",
    "print(\"y shape:\", training_set2[100][1].shape)"
   ]
  },
  {
   "cell_type": "code",
   "execution_count": 34,
   "metadata": {},
   "outputs": [],
   "source": [
    "# placeholder function for model 2\n",
    "def get_placeholders2():\n",
    "    X = tf.placeholder(tf.float32, shape=[3, 27], name='X')\n",
    "    y = tf.placeholder(tf.float32, shape=[3, 27], name='Y')\n",
    "    return X,y"
   ]
  },
  {
   "cell_type": "code",
   "execution_count": 30,
   "metadata": {},
   "outputs": [],
   "source": [
    "# Defining the rnn block with lstm cells for model 2, multiple outputs\n",
    "def rnn_cell2(the_input,n_input=3):\n",
    "    the_input = tf.split(the_input, n_input, axis=0) # create subtensor for each char\n",
    "    rnn_cell = tf.nn.rnn_cell.LSTMCell(num_units=512,activation=tf.nn.tanh) # 512 hidden units per cell\n",
    "    outputs, curr_state = tf.nn.static_rnn(rnn_cell,inputs=the_input,dtype=tf.float32) # output for each input\n",
    "    \n",
    "    flats = [tf.layers.flatten(out) for out in outputs] # flatten all outputs\n",
    "    out = [tf.layers.dense(flat,27,activation=None,kernel_initializer=tf.contrib.layers.xavier_initializer(),reuse=tf.AUTO_REUSE,name=\"out2\") for flat in flats]\n",
    "\n",
    "    return out # returns logits shape:(3,27)"
   ]
  },
  {
   "cell_type": "code",
   "execution_count": 47,
   "metadata": {},
   "outputs": [
    {
     "name": "stdout",
     "output_type": "stream",
     "text": [
      "3.2813303\n",
      "3\n",
      "(1, 27)\n"
     ]
    }
   ],
   "source": [
    "# Testing rnn cells and cost function for model 2\n",
    "tf.reset_default_graph()\n",
    "x,y = get_placeholders2()\n",
    "logits = rnn_cell2(x)\n",
    "cost = cost_function(logits,y)\n",
    "\n",
    "init = tf.global_variables_initializer()\n",
    "with tf.Session() as sess:\n",
    "    sess.run(init)\n",
    "    alogits = sess.run(logits,feed_dict={x:training_set2[100][0],y:training_set2[100][1]})\n",
    "    acost = sess.run(cost,feed_dict={x:training_set2[100][0],y:training_set2[100][1]})\n",
    "    print(acost)\n",
    "    print(len(alogits)) # three output logits, each of shape (1,27)\n",
    "    print(alogits[0].shape)"
   ]
  },
  {
   "cell_type": "code",
   "execution_count": 48,
   "metadata": {
    "scrolled": true
   },
   "outputs": [
    {
     "name": "stdout",
     "output_type": "stream",
     "text": [
      "Cost at epoch 1: 28755.944729174487\n",
      "Cost at epoch 2: 27130.30936356075\n",
      "Cost at epoch 3: 26413.89690341754\n",
      "Cost at epoch 4: 25838.534138939343\n",
      "Cost at epoch 5: 25383.48333191406\n",
      "Cost at epoch 6: 25093.63515411876\n",
      "Cost at epoch 7: 24709.333341025747\n",
      "Cost at epoch 8: 24603.555900692474\n",
      "Cost at epoch 9: 24488.009772976337\n",
      "Cost at epoch 10: 24320.640451534884\n",
      "Cost at epoch 11: 24197.787657008972\n",
      "Cost at epoch 12: 23945.17895105388\n",
      "Cost at epoch 13: 24109.969193848316\n",
      "Cost at epoch 14: 24003.142630041577\n",
      "Cost at epoch 15: 24319.904619313776\n",
      "Cost at epoch 16: 23836.38036400359\n",
      "Cost at epoch 17: 23706.81246945262\n",
      "Cost at epoch 18: 23810.844961984083\n",
      "Cost at epoch 19: 23804.395439034328\n",
      "Cost at epoch 20: 23671.3024658449\n",
      "Cost at epoch 21: 23716.122535487637\n",
      "Cost at epoch 22: 23569.07189572975\n",
      "Cost at epoch 23: 23709.36378868483\n",
      "Cost at epoch 24: 23643.585512259044\n",
      "Cost at epoch 25: 23796.3549305778\n",
      "Cost at epoch 26: 23738.058931378648\n",
      "Cost at epoch 27: 23548.40046333894\n",
      "Cost at epoch 28: 23706.778668936342\n",
      "Cost at epoch 29: 24035.63610912673\n",
      "Cost at epoch 30: 23740.547374693677\n"
     ]
    }
   ],
   "source": [
    "acosts1_2 = model(all_names,lr=0.01,num_epochs=30,print_cost=False,retrain=False,model1=False)"
   ]
  },
  {
   "cell_type": "code",
   "execution_count": 51,
   "metadata": {},
   "outputs": [
    {
     "name": "stdout",
     "output_type": "stream",
     "text": [
      "INFO:tensorflow:Restoring parameters from ../../data/dino_names/model2/language_model.ckpt\n",
      "Cost at epoch 1: 22655.270631609485\n",
      "Cost at epoch 2: 22238.77230563201\n"
     ]
    }
   ],
   "source": [
    "acosts2_2 = model(all_names,lr=0.005,num_epochs=2,print_cost=False,retrain=True,model1=False)"
   ]
  },
  {
   "cell_type": "code",
   "execution_count": 56,
   "metadata": {},
   "outputs": [
    {
     "data": {
      "image/png": "[encoded data removed]",
      "text/plain": [
       "<Figure size 432x288 with 1 Axes>"
      ]
     },
     "metadata": {},
     "output_type": "display_data"
    },
    {
     "name": "stdout",
     "output_type": "stream",
     "text": [
      "model 2 percentage change: 0.7733626043268038\n"
     ]
    }
   ],
   "source": [
    "total_costs2 = acosts1_2 + acosts2_2\n",
    "ax_i2 = [i for i in range(len(total_costs2))]\n",
    "plt.plot(ax_i2,total_costs2)\n",
    "plt.title(\"Cost vs Epoch for model 2\")\n",
    "plt.show()\n",
    "print(\"model 2 percentage change:\",total_costs2[-1]/total_costs2[0])"
   ]
  },
  {
   "cell_type": "code",
   "execution_count": 63,
   "metadata": {},
   "outputs": [],
   "source": [
    "# This sample cell samples the model in order to create a dinosaur name\n",
    "def sample_cell2(the_input,a,c):\n",
    "    past_state = (a,c)\n",
    "    the_input = tf.split(the_input,1,axis=0) # create subtensor for each char\n",
    "    rnn_cell = tf.nn.rnn_cell.LSTMCell(num_units=512,activation=tf.nn.tanh) # 512 hidden units per cell\n",
    "    outputs, curr_state = tf.nn.static_rnn(rnn_cell,inputs=the_input,initial_state=past_state,dtype=tf.float32) # output for each input\n",
    "    \n",
    "    flat = tf.layers.flatten(outputs[-1]) # flatten last activation from lstm\n",
    "    out = tf.layers.dense(flat,27,activation=None,kernel_initializer=tf.contrib.layers.xavier_initializer(),reuse=tf.AUTO_REUSE,name=\"out2\") # logits, 27D output\n",
    "    out = tf.nn.softmax(out)\n",
    "    achar = tf.argmax(out,axis=-1)\n",
    "    achar = tf.reshape(achar,()) # character in int representation\n",
    "    return achar,curr_state # returns logits"
   ]
  },
  {
   "cell_type": "code",
   "execution_count": 77,
   "metadata": {
    "scrolled": true
   },
   "outputs": [
    {
     "name": "stdout",
     "output_type": "stream",
     "text": [
      "INFO:tensorflow:Restoring parameters from ../../data/dino_names/model2/language_model.ckpt\n",
      "z\n",
      "sampled char: h\n",
      "state a difference at 1: 6.128443\n",
      "state c difference at 1: -0.19699511\n",
      "sampled char: o\n",
      "state a difference at 2: -1.8080018\n",
      "state c difference at 2: 0.28743368\n",
      "sampled char: n\n",
      "state a difference at 3: 3.0209372\n",
      "state c difference at 3: -2.2347364\n",
      "sampled char: g\n",
      "state a difference at 4: -16.01978\n",
      "state c difference at 4: 3.4217541\n",
      "sampled char: o\n",
      "state a difference at 5: 33.405457\n",
      "state c difference at 5: 13.166895\n",
      "sampled char: s\n",
      "state a difference at 6: 36.539436\n",
      "state c difference at 6: 4.7498055\n",
      "sampled char: a\n",
      "state a difference at 7: 32.80292\n",
      "state c difference at 7: 15.5264435\n"
     ]
    }
   ],
   "source": [
    "# Sampling the characters and ensuring the hidden state is updating each time step, from model 2\n",
    "tf.reset_default_graph()\n",
    "x = tf.placeholder(tf.float32, shape=[1, 27])\n",
    "a = tf.placeholder(tf.float32, shape=[1, 512])\n",
    "c = tf.placeholder(tf.float32, shape=[1, 512])\n",
    "out = sample_cell2(x,a,c)\n",
    "input_char = \"z\"\n",
    "ax = get_one_hot_encoding(input_char)\n",
    "out_char = -1\n",
    "i = 0 # counts timesteps\n",
    "\n",
    "saver = tf.train.Saver()\n",
    "sess = tf.InteractiveSession()\n",
    "saver = tf.train.import_meta_graph(\"../../data/dino_names/model2/language_model.ckpt.meta\")\n",
    "saver.restore(sess, \"../../data/dino_names/model2/language_model.ckpt\")\n",
    "\n",
    "print(input_char) # first character\n",
    "while out_char != 0 and i < 8:\n",
    "    if i == 0:\n",
    "        (achar,past_state) = sess.run(out,feed_dict={x:ax,a:np.zeros((1,512)),c:np.zeros((1,512))})\n",
    "        out_char = achar\n",
    "        a_past_state = past_state\n",
    "    else:\n",
    "        print(\"sampled char:\",decoder[achar]) # print character\n",
    "        a_a = past_state[0]\n",
    "        a_c = past_state[1]\n",
    "        ax = get_one_hot_encoding(decoder[achar])\n",
    "        (achar,past_state) = sess.run(out,feed_dict={x:ax,a:a_a,c:a_c})\n",
    "        out_char = achar\n",
    "        print(\"state a difference at \" + str(i) + \":\",np.sum(np.subtract(a_past_state[0],past_state[0]))) # sanity check\n",
    "        print(\"state c difference at \" + str(i) + \":\",np.sum(np.subtract(a_past_state[1],past_state[1])))\n",
    "        a_past_state = past_state\n",
    "        \n",
    "    i += 1"
   ]
  },
  {
   "cell_type": "code",
   "execution_count": null,
   "metadata": {},
   "outputs": [],
   "source": []
  }
 ],
 "metadata": {
  "kernelspec": {
   "display_name": "Python 3",
   "language": "python",
   "name": "python3"
  },
  "language_info": {
   "codemirror_mode": {
    "name": "ipython",
    "version": 3
   },
   "file_extension": ".py",
   "mimetype": "text/x-python",
   "name": "python",
   "nbconvert_exporter": "python",
   "pygments_lexer": "ipython3",
   "version": "3.6.5"
  }
 },
 "nbformat": 4,
 "nbformat_minor": 2
}
