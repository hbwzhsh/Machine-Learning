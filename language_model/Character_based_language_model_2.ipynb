{
 "cells": [
  {
   "cell_type": "markdown",
   "metadata": {},
   "source": [
    "## Simple RNN language model to predict plausible dinosaur names - part 2\n",
    "\n",
    "As described in the initial notebook, this notebook is aimed towards completing the analysis of the 3,4,5 types of models to see what the optimal performance model is. Given the performance from the first notebook I will be using the cost architecture from MODEL 1. My overall conclusion is that my initial set lr was too high and it was not allowing my model to effectively learn. Further, I found that a midsized input sequence led to the best performance and that a dense layer before the softmax output increased performance as well."
   ]
  },
  {
   "cell_type": "code",
   "execution_count": 1,
   "metadata": {},
   "outputs": [],
   "source": [
    "import numpy as np\n",
    "import tensorflow as tf\n",
    "import matplotlib.pyplot as plt\n",
    "import latex\n",
    "from sklearn.utils import shuffle\n",
    "np.random.seed(10)\n",
    "\n",
    "%matplotlib inline\n",
    "import warnings\n",
    "warnings.filterwarnings('ignore')"
   ]
  },
  {
   "cell_type": "markdown",
   "metadata": {},
   "source": [
    "### Data preprocessing - copy of last notebook"
   ]
  },
  {
   "cell_type": "code",
   "execution_count": 2,
   "metadata": {},
   "outputs": [
    {
     "name": "stdout",
     "output_type": "stream",
     "text": [
      "['a', 'c', 'h', 'e', 'n', 'o', 's', 'u', 'r', '\\n', 'd', 'y', 'x', 'b', 'l', 'i', 't', 'p', 'v', 'm', 'g', 'f', 'j', 'k', 'w', 'z', 'q']\n",
      "no chars: 27\n"
     ]
    }
   ],
   "source": [
    "# Reading in data - creating dictionaries specifying how to encode data (into characters)\n",
    "chars = []\n",
    "all_names = []\n",
    "with open(\"../../data/dino_names/names.txt\") as names:\n",
    "    lines = names.readlines()\n",
    "    for line in lines:\n",
    "        line = line.lower()\n",
    "        for char in line:\n",
    "            if char not in chars:\n",
    "                chars.append(char)\n",
    "        all_names.append(line) # \\n included\n",
    "                \n",
    "print(chars)\n",
    "print(\"no chars:\",len(chars))"
   ]
  },
  {
   "cell_type": "code",
   "execution_count": 3,
   "metadata": {},
   "outputs": [
    {
     "name": "stdout",
     "output_type": "stream",
     "text": [
      "1536\n",
      "max char len: 27\n",
      "min char len: 4\n"
     ]
    }
   ],
   "source": [
    "# Analysis of the names set\n",
    "print(len(all_names))\n",
    "print(\"max char len:\", len(max(all_names,key=len)))\n",
    "print(\"min char len:\", len(min(all_names,key=len)))"
   ]
  },
  {
   "cell_type": "code",
   "execution_count": 4,
   "metadata": {},
   "outputs": [],
   "source": [
    "# Creating encoder and decoder\n",
    "i = 1\n",
    "encoder = {\"\\n\":0} # char to id, set \\n to be 0\n",
    "decoder = {0:\"\\n\"} # id to char\n",
    "\n",
    "for char in chars:\n",
    "    if char != \"\\n\":\n",
    "        encoder[char] = i\n",
    "        decoder[i] = char\n",
    "        i += 1"
   ]
  },
  {
   "cell_type": "code",
   "execution_count": 5,
   "metadata": {},
   "outputs": [],
   "source": [
    "# returns one hot encoding for a particular character\n",
    "def get_one_hot_encoding(char):\n",
    "    char_enc = encoder[char]\n",
    "    hot_vec = np.zeros((27,1)) # vocab_size = 27\n",
    "    hot_vec[char_enc] = 1\n",
    "    hot_vec = hot_vec.T # shape (1,27)\n",
    "    return hot_vec"
   ]
  },
  {
   "cell_type": "code",
   "execution_count": 18,
   "metadata": {},
   "outputs": [],
   "source": [
    "# Returns the one_hot_encoding representation for a set of characters, i.e. \"abc\"\n",
    "def get_character_encoding(chars,ishape=3):\n",
    "    ret_enc = []\n",
    "    for c in chars:\n",
    "        c_one_hot = get_one_hot_encoding(c) # one_hot_encoding\n",
    "        ret_enc.append(c_one_hot)\n",
    "        \n",
    "    ret_enc = np.array(ret_enc)\n",
    "    ret_enc.shape = (ishape,27)\n",
    "    return ret_enc"
   ]
  },
  {
   "cell_type": "code",
   "execution_count": 7,
   "metadata": {},
   "outputs": [],
   "source": [
    "# returns a list of ((3,27),(1,27)) pairs corresponding with ((x_train_set),(y_output))\n",
    "def get_training_examples(lis_names,seed):\n",
    "    shuf_names = shuffle(lis_names,random_state=seed) # shuffling order of names\n",
    "    training_set = []\n",
    "    \n",
    "    for name in lis_names:\n",
    "        m = len(name)\n",
    "        i = 3\n",
    "        while i < m: # this means we won't overrun the number of chars in a name\n",
    "            x_temp = get_character_encoding(name[i-3:i])\n",
    "            y_temp = get_one_hot_encoding(name[i]) # x^<t+1>\n",
    "            training_set.append((x_temp,y_temp))\n",
    "            i += 1\n",
    "            \n",
    "    return training_set"
   ]
  },
  {
   "cell_type": "code",
   "execution_count": 8,
   "metadata": {},
   "outputs": [
    {
     "name": "stdout",
     "output_type": "stream",
     "text": [
      "Number of training examples: 15301\n",
      "x shape: (3, 27)\n",
      "y shape: (1, 27)\n"
     ]
    }
   ],
   "source": [
    "# Getting initial training set / testing func.\n",
    "training_set = get_training_examples(all_names,seed=0)\n",
    "print(\"Number of training examples:\", len(training_set))\n",
    "print(\"x shape:\", training_set[100][0].shape)\n",
    "print(\"y shape:\", training_set[100][1].shape)"
   ]
  },
  {
   "cell_type": "markdown",
   "metadata": {},
   "source": [
    "### Building MODEL 3 - which uses the cost architecture of MODEL 1 - and has an additional dense layer before the softmax output"
   ]
  },
  {
   "cell_type": "code",
   "execution_count": 10,
   "metadata": {},
   "outputs": [],
   "source": [
    "# placeholders for model 1\n",
    "# predicting one word only, so y shape = (1,num_chars)\n",
    "def get_placeholders():\n",
    "    X = tf.placeholder(tf.float32, shape=[3, 27], name='X')\n",
    "    y = tf.placeholder(tf.float32, shape=[1, 27], name='Y')\n",
    "    return X,y"
   ]
  },
  {
   "cell_type": "code",
   "execution_count": 11,
   "metadata": {},
   "outputs": [],
   "source": [
    "# Defining the rnn block with lstm cells for model 3 - uses dense layer w/ tanh activation\n",
    "def rnn_cell3(the_input,n_input=3):\n",
    "    the_input = tf.split(the_input, n_input, axis=0) # create subtensor for each char\n",
    "    rnn_cell = tf.nn.rnn_cell.LSTMCell(num_units=512,activation=tf.nn.tanh)\n",
    "    outputs, curr_state = tf.nn.static_rnn(rnn_cell,inputs=the_input,dtype=tf.float32)\n",
    "    \n",
    "    flat = tf.layers.flatten(outputs[-1]) # flatten last activation from lstm\n",
    "    dense = tf.layers.dense(flat,100,activation=tf.nn.tanh,kernel_initializer=tf.contrib.layers.xavier_initializer())\n",
    "    out = tf.layers.dense(dense,27,activation=None,kernel_initializer=tf.contrib.layers.xavier_initializer()) # logits\n",
    "    return out # returns logits"
   ]
  },
  {
   "cell_type": "code",
   "execution_count": 12,
   "metadata": {},
   "outputs": [],
   "source": [
    "# cost function used for all models moving forward\n",
    "def cost_function(logits,y):\n",
    "    return tf.reduce_mean(tf.nn.softmax_cross_entropy_with_logits_v2(labels=y,logits=logits))"
   ]
  },
  {
   "cell_type": "code",
   "execution_count": 13,
   "metadata": {},
   "outputs": [
    {
     "name": "stdout",
     "output_type": "stream",
     "text": [
      "3.281639\n"
     ]
    }
   ],
   "source": [
    "# Testing rnn cells and cost function for model 3\n",
    "tf.reset_default_graph()\n",
    "x,y = get_placeholders()\n",
    "logits = rnn_cell3(x)\n",
    "cost = cost_function(logits,y)\n",
    "\n",
    "init = tf.global_variables_initializer()\n",
    "with tf.Session() as sess:\n",
    "    sess.run(init)\n",
    "    acost = sess.run(cost,feed_dict={x:training_set[100][0],y:training_set[100][1]})\n",
    "    print(acost)"
   ]
  },
  {
   "cell_type": "code",
   "execution_count": 60,
   "metadata": {},
   "outputs": [],
   "source": [
    "# Model for language model using stochastic gradient descent w/ gradient clipping\n",
    "# Note - this model builds the computation graph for model 3, model 4, model 5\n",
    "def model(names_set,lr=0.01,num_epochs=15,retrain=True,model_n=\"model3\"):\n",
    "    tf.reset_default_graph() # resetting graph\n",
    "    tf.set_random_seed(1)\n",
    "    seed=0\n",
    "    costs=[]\n",
    "    \n",
    "    if model_n == \"model3\":\n",
    "        x,y = get_placeholders()\n",
    "        logits = rnn_cell3(x)\n",
    "    elif model_n == \"model4\": # using model 2\n",
    "        x,y = get_placeholders4()\n",
    "        logits = rnn_cell3(x,n_input=4)\n",
    "    else: # model 5\n",
    "        x,y = get_placeholders4()\n",
    "        logits = rnn_cell5(x,n_input=4)\n",
    "        \n",
    "    cost = cost_function(logits,y)\n",
    "    \n",
    "    optimizer = tf.train.AdamOptimizer(learning_rate=lr)\n",
    "    grads, variables = zip(*optimizer.compute_gradients(cost))\n",
    "    grads, _ = tf.clip_by_global_norm(grads, 5.0) # gradient clipping\n",
    "    optimizer = optimizer.apply_gradients(zip(grads, variables))\n",
    "    \n",
    "    init = tf.global_variables_initializer()\n",
    "    saver = tf.train.Saver() # to save/load model\n",
    "    with tf.Session() as sess:\n",
    "        if retrain:\n",
    "            if model_n == \"model3\": # use model 1 to continue training\n",
    "                saver = tf.train.import_meta_graph(\"../../data/dino_names/model3/language_model.ckpt.meta\")\n",
    "                saver.restore(sess, \"../../data/dino_names/model3/language_model.ckpt\")\n",
    "            elif model_n == \"model4\": # use model 2 to continue training\n",
    "                saver = tf.train.import_meta_graph(\"../../data/dino_names/model4/language_model.ckpt.meta\")\n",
    "                saver.restore(sess, \"../../data/dino_names/model4/language_model.ckpt\")\n",
    "            else: # model 5\n",
    "                saver = tf.train.import_meta_graph(\"../../data/dino_names/model5/language_model.ckpt.meta\")\n",
    "                saver.restore(sess, \"../../data/dino_names/model5/language_model.ckpt\")\n",
    "        else:\n",
    "            sess.run(init) # only run init when you are training a new model\n",
    "\n",
    "        for epoch in range(num_epochs):\n",
    "            old_running_cost = 0 # used to print out the increase to total cost each step\n",
    "            running_cost = 0\n",
    "            seed += 1\n",
    "            if model_n == \"model3\":\n",
    "                training_set = get_training_examples(names_set,seed)\n",
    "            elif model_n == \"model4\":\n",
    "                training_set = get_training_examples4(names_set,seed)\n",
    "            else: # model 5\n",
    "                training_set = get_training_examples4(names_set,seed)\n",
    "                \n",
    "            for aset in training_set:\n",
    "                (ax,ay) = aset\n",
    "                _,temp_cost = sess.run([optimizer,cost], feed_dict={x:ax,y:ay})\n",
    "                running_cost += temp_cost\n",
    "                \n",
    "            costs.append(running_cost)\n",
    "            if (epoch+1) % 1 == 0: # printing costs\n",
    "                print(\"Cost at epoch {}: {}\".format(epoch+1,running_cost))\n",
    "                # model saved on every iteration\n",
    "                if model_n == \"model3\":\n",
    "                    loc = saver.save(sess, \"../../data/dino_names/model3/language_model.ckpt\")\n",
    "                elif model_n == \"model4\":\n",
    "                    loc = saver.save(sess, \"../../data/dino_names/model4/language_model.ckpt\")\n",
    "                else: # model 5\n",
    "                    loc = saver.save(sess, \"../../data/dino_names/model5/language_model.ckpt\")\n",
    "\n",
    "        return costs"
   ]
  },
  {
   "cell_type": "code",
   "execution_count": 25,
   "metadata": {
    "scrolled": true
   },
   "outputs": [
    {
     "name": "stdout",
     "output_type": "stream",
     "text": [
      "Cost at epoch 1: 28119.10464586968\n",
      "Cost at epoch 2: 24682.88822403022\n",
      "Cost at epoch 3: 23539.918142724047\n",
      "Cost at epoch 4: 22876.409683206606\n",
      "Cost at epoch 5: 22606.765319740345\n",
      "Cost at epoch 6: 22396.693825631475\n",
      "Cost at epoch 7: 22325.538178497118\n",
      "Cost at epoch 8: 21758.330335539322\n",
      "Cost at epoch 9: 21396.466091868504\n",
      "Cost at epoch 10: 21772.1196852814\n",
      "Cost at epoch 11: 21541.957956359227\n",
      "Cost at epoch 12: 21171.743624677194\n",
      "Cost at epoch 13: 20816.849670364467\n"
     ]
    }
   ],
   "source": [
    "# I chose a different number of training steps as the standard approach would have led to divergence\n",
    "acosts3_1 = model(all_names,lr=0.01,num_epochs=13,retrain=False,model_n=\"model3\")"
   ]
  },
  {
   "cell_type": "code",
   "execution_count": 26,
   "metadata": {},
   "outputs": [
    {
     "name": "stdout",
     "output_type": "stream",
     "text": [
      "INFO:tensorflow:Restoring parameters from ../../data/dino_names/model3/language_model.ckpt\n",
      "Cost at epoch 1: 18261.07530364884\n",
      "Cost at epoch 2: 16089.376677761578\n",
      "Cost at epoch 3: 15376.597761849958\n",
      "Cost at epoch 4: 14958.221101894527\n",
      "Cost at epoch 5: 14675.547610226506\n"
     ]
    }
   ],
   "source": [
    "acosts3_2 = model(all_names,lr=0.001,num_epochs=5,retrain=True,model_n=\"model3\")"
   ]
  },
  {
   "cell_type": "code",
   "execution_count": 28,
   "metadata": {},
   "outputs": [
    {
     "name": "stdout",
     "output_type": "stream",
     "text": [
      "INFO:tensorflow:Restoring parameters from ../../data/dino_names/model3/language_model.ckpt\n",
      "Cost at epoch 1: 14382.980015900186\n",
      "Cost at epoch 2: 13916.668336423836\n",
      "Cost at epoch 3: 13718.444981583165\n",
      "Cost at epoch 4: 13600.921183897502\n",
      "Cost at epoch 5: 13519.678591767142\n"
     ]
    }
   ],
   "source": [
    "acosts3_3 = model(all_names,lr=0.0001,num_epochs=5,retrain=True,model_n=\"model3\")"
   ]
  },
  {
   "cell_type": "code",
   "execution_count": 30,
   "metadata": {},
   "outputs": [
    {
     "name": "stdout",
     "output_type": "stream",
     "text": [
      "INFO:tensorflow:Restoring parameters from ../../data/dino_names/model3/language_model.ckpt\n",
      "Cost at epoch 1: 13330.08892276076\n",
      "Cost at epoch 2: 13320.386157818233\n",
      "Cost at epoch 3: 13311.513022570638\n"
     ]
    }
   ],
   "source": [
    "acosts3_4 = model(all_names,lr=0.00001,num_epochs=3,retrain=True,model_n=\"model3\")"
   ]
  },
  {
   "cell_type": "code",
   "execution_count": 32,
   "metadata": {},
   "outputs": [
    {
     "data": {
      "image/png": "[encoded data removed]",
      "text/plain": [
       "<Figure size 432x288 with 1 Axes>"
      ]
     },
     "metadata": {},
     "output_type": "display_data"
    },
    {
     "name": "stdout",
     "output_type": "stream",
     "text": [
      "model 3 percentage change: 0.47339747087309625\n"
     ]
    }
   ],
   "source": [
    "total_costs3 = acosts3_1 + acosts3_2 + acosts3_3 + acosts3_4\n",
    "ax_i3 = [i for i in range(len(total_costs3))]\n",
    "plt.plot(ax_i3,total_costs3)\n",
    "plt.title(\"Cost vs Epoch for model 3\")\n",
    "plt.show()\n",
    "print(\"model 3 percentage change:\",total_costs3[-1]/total_costs3[0])"
   ]
  },
  {
   "cell_type": "code",
   "execution_count": 33,
   "metadata": {},
   "outputs": [],
   "source": [
    "# This sample cell samples the model in order to create a dinosaur name\n",
    "def sample_cell(the_input,a,c):\n",
    "    past_state = (a,c)\n",
    "    the_input = tf.split(the_input,1,axis=0) # create subtensor for each char\n",
    "    rnn_cell = tf.nn.rnn_cell.LSTMCell(num_units=512,activation=tf.nn.tanh) # 512 hidden units per cell\n",
    "    outputs, curr_state = tf.nn.static_rnn(rnn_cell,inputs=the_input,initial_state=past_state,dtype=tf.float32) # output for each input\n",
    "    \n",
    "    flat = tf.layers.flatten(outputs[-1]) # flatten last activation from lstm\n",
    "    dense = tf.layers.dense(flat,100,activation=tf.nn.tanh,kernel_initializer=tf.contrib.layers.xavier_initializer())\n",
    "    out = tf.layers.dense(dense,27,activation=None,kernel_initializer=tf.contrib.layers.xavier_initializer()) # logits, 27D output\n",
    "    out = tf.nn.softmax(out)\n",
    "    achar = tf.argmax(out,axis=-1)\n",
    "    achar = tf.reshape(achar,()) # character in int representation\n",
    "    return achar,curr_state # returns logits"
   ]
  },
  {
   "cell_type": "code",
   "execution_count": 40,
   "metadata": {
    "scrolled": true
   },
   "outputs": [
    {
     "name": "stdout",
     "output_type": "stream",
     "text": [
      "INFO:tensorflow:Restoring parameters from ../../data/dino_names/model3/language_model.ckpt\n",
      "c\n",
      "sampled char: r\n",
      "state a difference at 1: -2.7144313\n",
      "state c difference at 1: -0.11834049\n",
      "sampled char: a\n",
      "state a difference at 2: 2.0354805\n",
      "state c difference at 2: 0.64591444\n",
      "sampled char: t\n",
      "state a difference at 3: -3.50314\n",
      "state c difference at 3: -0.040999427\n",
      "sampled char: o\n",
      "state a difference at 4: -9.135405\n",
      "state c difference at 4: -0.79870915\n",
      "sampled char: s\n",
      "state a difference at 5: 4.8003073\n",
      "state c difference at 5: 0.86166877\n",
      "sampled char: a\n",
      "state a difference at 6: 1.3442166\n",
      "state c difference at 6: -1.1419038\n",
      "sampled char: u\n",
      "state a difference at 7: 1.9743168\n",
      "state c difference at 7: 1.801465\n",
      "sampled char: r\n",
      "state a difference at 8: 3.0045896\n",
      "state c difference at 8: -2.3951216\n",
      "sampled char: o\n",
      "state a difference at 9: 6.1986084\n",
      "state c difference at 9: -0.9192736\n",
      "sampled char: s\n",
      "state a difference at 10: -2.8639412\n",
      "state c difference at 10: 13.653273\n"
     ]
    }
   ],
   "source": [
    "# Sampling the characters and ensuring the hidden state is updating each time step, from model 3\n",
    "tf.reset_default_graph()\n",
    "x = tf.placeholder(tf.float32, shape=[1, 27])\n",
    "a = tf.placeholder(tf.float32, shape=[1, 512])\n",
    "c = tf.placeholder(tf.float32, shape=[1, 512])\n",
    "out = sample_cell(x,a,c)\n",
    "\n",
    "ax = get_one_hot_encoding(\"c\")\n",
    "out_char = -1\n",
    "i = 0 # counts timesteps\n",
    "\n",
    "saver = tf.train.Saver()\n",
    "sess = tf.InteractiveSession()\n",
    "saver = tf.train.import_meta_graph(\"../../data/dino_names/model3/language_model.ckpt.meta\")\n",
    "saver.restore(sess, \"../../data/dino_names/model3/language_model.ckpt\")\n",
    "\n",
    "print(\"c\") # first character\n",
    "while out_char != 0 and i < 11:\n",
    "    if i == 0:\n",
    "        (achar,past_state) = sess.run(out,feed_dict={x:ax,a:np.zeros((1,512)),c:np.zeros((1,512))})\n",
    "        out_char = achar\n",
    "        a_past_state = past_state\n",
    "    else:\n",
    "        print(\"sampled char:\",decoder[achar]) # print character\n",
    "        a_a = past_state[0]\n",
    "        a_c = past_state[1]\n",
    "        ax = get_one_hot_encoding(decoder[achar])\n",
    "        (achar,past_state) = sess.run(out,feed_dict={x:ax,a:a_a,c:a_c})\n",
    "        out_char = achar\n",
    "        print(\"state a difference at \" + str(i) + \":\",np.sum(np.subtract(a_past_state[0],past_state[0]))) # sanity check\n",
    "        print(\"state c difference at \" + str(i) + \":\",np.sum(np.subtract(a_past_state[1],past_state[1])))\n",
    "        a_past_state = past_state\n",
    "        \n",
    "    i += 1"
   ]
  },
  {
   "cell_type": "markdown",
   "metadata": {},
   "source": [
    "### Building MODEL 4 - which uses a dense layer with 100 units before the softmax layer and now uses sequences of length 4 rather than 3 to see if there is a performance boost with longer input sequences\n",
    "\n",
    "The dense layer was found to make the gradient smoother and also improve the overall training and optimization performance. Note - this means that names that have a length less than 5 will be ignored. Also it should be noted that I initially tried a sequence length of 5 but found that to be highly ineffective."
   ]
  },
  {
   "cell_type": "code",
   "execution_count": 43,
   "metadata": {},
   "outputs": [],
   "source": [
    "# placeholders for model 1\n",
    "# predicting one word only, so y shape = (1,num_chars)\n",
    "def get_placeholders4():\n",
    "    X = tf.placeholder(tf.float32, shape=[4, 27], name='X')\n",
    "    y = tf.placeholder(tf.float32, shape=[1, 27], name='Y')\n",
    "    return X,y"
   ]
  },
  {
   "cell_type": "code",
   "execution_count": 44,
   "metadata": {},
   "outputs": [],
   "source": [
    "# returns a list of ((5,27),(1,27)) pairs corresponding with ((x_train_set),(y_output))\n",
    "# This corresponds with MODEL 5\n",
    "def get_training_examples4(lis_names,seed):\n",
    "    shuf_names = shuffle(lis_names,random_state=seed) # shuffling order of names\n",
    "    training_set = []\n",
    "    \n",
    "    for name in lis_names:\n",
    "        m = len(name)\n",
    "        if m >= 5: # ignore names that are too short\n",
    "            i = 4\n",
    "            while i < m: # this means we won't overrun the number of chars in a name\n",
    "                x_temp = get_character_encoding(name[i-4:i],4)\n",
    "                y_temp = get_one_hot_encoding(name[i]) # x^<t+1>\n",
    "                training_set.append((x_temp,y_temp))\n",
    "                i += 1\n",
    "            \n",
    "    return training_set"
   ]
  },
  {
   "cell_type": "code",
   "execution_count": 45,
   "metadata": {},
   "outputs": [
    {
     "name": "stdout",
     "output_type": "stream",
     "text": [
      "Number of training examples: 13765\n",
      "x shape: (4, 27)\n",
      "y shape: (1, 27)\n"
     ]
    }
   ],
   "source": [
    "# Testing new traing examples function for model 4\n",
    "training_set4 = get_training_examples4(all_names,seed=0)\n",
    "print(\"Number of training examples:\", len(training_set4))\n",
    "print(\"x shape:\", training_set4[100][0].shape)\n",
    "print(\"y shape:\", training_set4[100][1].shape)"
   ]
  },
  {
   "cell_type": "code",
   "execution_count": 48,
   "metadata": {},
   "outputs": [
    {
     "name": "stdout",
     "output_type": "stream",
     "text": [
      "Cost at epoch 1: 22031.760993168184\n",
      "Cost at epoch 2: 18458.060904262136\n",
      "Cost at epoch 3: 16806.202032723548\n",
      "Cost at epoch 4: 15339.331320494503\n",
      "Cost at epoch 5: 14054.86121266467\n",
      "Cost at epoch 6: 12775.282201337948\n",
      "Cost at epoch 7: 11852.643405871586\n",
      "Cost at epoch 8: 11248.6722918388\n",
      "Cost at epoch 9: 10816.88454346093\n",
      "Cost at epoch 10: 10655.181507300893\n",
      "Cost at epoch 11: 10236.20877039611\n",
      "Cost at epoch 12: 10193.541512789914\n",
      "Cost at epoch 13: 9988.611908869489\n"
     ]
    }
   ],
   "source": [
    "acosts4_1 = model(all_names,lr=0.005,num_epochs=13,retrain=False,model_n=\"model4\")"
   ]
  },
  {
   "cell_type": "code",
   "execution_count": 49,
   "metadata": {},
   "outputs": [
    {
     "name": "stdout",
     "output_type": "stream",
     "text": [
      "INFO:tensorflow:Restoring parameters from ../../data/dino_names/model4/language_model.ckpt\n",
      "Cost at epoch 1: 9966.989500515409\n",
      "Cost at epoch 2: 6736.570996250002\n",
      "Cost at epoch 3: 5845.386564075365\n",
      "Cost at epoch 4: 5442.366508625973\n",
      "Cost at epoch 5: 5228.997070315792\n"
     ]
    }
   ],
   "source": [
    "acosts4_2 = model(all_names,lr=0.0005,num_epochs=5,retrain=True,model_n=\"model4\")"
   ]
  },
  {
   "cell_type": "code",
   "execution_count": 50,
   "metadata": {},
   "outputs": [
    {
     "name": "stdout",
     "output_type": "stream",
     "text": [
      "INFO:tensorflow:Restoring parameters from ../../data/dino_names/model4/language_model.ckpt\n",
      "Cost at epoch 1: 5196.347926332022\n",
      "Cost at epoch 2: 4802.712599944936\n",
      "Cost at epoch 3: 4595.480441101919\n",
      "Cost at epoch 4: 4470.490718779306\n",
      "Cost at epoch 5: 4387.000201146346\n"
     ]
    }
   ],
   "source": [
    "acosts4_3 = model(all_names,lr=0.00005,num_epochs=5,retrain=True,model_n=\"model4\")"
   ]
  },
  {
   "cell_type": "code",
   "execution_count": 51,
   "metadata": {},
   "outputs": [
    {
     "name": "stdout",
     "output_type": "stream",
     "text": [
      "INFO:tensorflow:Restoring parameters from ../../data/dino_names/model4/language_model.ckpt\n",
      "Cost at epoch 1: 4274.045278612893\n",
      "Cost at epoch 2: 4257.898329842668\n",
      "Cost at epoch 3: 4242.871365139809\n",
      "Cost at epoch 4: 4228.926574189046\n",
      "Cost at epoch 5: 4215.939390218729\n"
     ]
    }
   ],
   "source": [
    "acosts4_4 = model(all_names,lr=0.00001,num_epochs=5,retrain=True,model_n=\"model4\")"
   ]
  },
  {
   "cell_type": "code",
   "execution_count": 52,
   "metadata": {},
   "outputs": [
    {
     "data": {
      "image/png": "[encoded data removed]",
      "text/plain": [
       "<Figure size 432x288 with 1 Axes>"
      ]
     },
     "metadata": {},
     "output_type": "display_data"
    },
    {
     "name": "stdout",
     "output_type": "stream",
     "text": [
      "model 4 percentage change: 0.19135734957936626\n"
     ]
    }
   ],
   "source": [
    "# This was a relatively very smooth gradient and thus far the highest performing model\n",
    "total_costs4 = acosts4_1 + acosts4_2 + acosts4_3 + acosts4_4\n",
    "ax_i4 = [i for i in range(len(total_costs4))]\n",
    "plt.plot(ax_i4,total_costs4)\n",
    "plt.title(\"Cost vs Epoch for model 4\")\n",
    "plt.show()\n",
    "print(\"model 4 percentage change:\",total_costs4[-1]/total_costs4[0])"
   ]
  },
  {
   "cell_type": "code",
   "execution_count": 56,
   "metadata": {},
   "outputs": [
    {
     "name": "stdout",
     "output_type": "stream",
     "text": [
      "INFO:tensorflow:Restoring parameters from ../../data/dino_names/model4/language_model.ckpt\n",
      "t\n",
      "h\n",
      "o\n",
      "l\n",
      "u\n",
      "s\n"
     ]
    }
   ],
   "source": [
    "# Sampling the characters and ensuring the hidden state is updating each time step, from model 4\n",
    "tf.reset_default_graph()\n",
    "x = tf.placeholder(tf.float32, shape=[1, 27])\n",
    "a = tf.placeholder(tf.float32, shape=[1, 512])\n",
    "c = tf.placeholder(tf.float32, shape=[1, 512])\n",
    "out = sample_cell(x,a,c)\n",
    "\n",
    "ax = get_one_hot_encoding(\"t\")\n",
    "out_char = -1\n",
    "i = 0 # counts timesteps\n",
    "\n",
    "saver = tf.train.Saver()\n",
    "sess = tf.InteractiveSession()\n",
    "saver = tf.train.import_meta_graph(\"../../data/dino_names/model4/language_model.ckpt.meta\")\n",
    "saver.restore(sess, \"../../data/dino_names/model4/language_model.ckpt\")\n",
    "\n",
    "print(\"t\") # first character\n",
    "while out_char != 0:\n",
    "    if i == 0:\n",
    "        (achar,past_state) = sess.run(out,feed_dict={x:ax,a:np.zeros((1,512)),c:np.zeros((1,512))})\n",
    "        out_char = achar\n",
    "        a_past_state = past_state\n",
    "    else:\n",
    "        print(decoder[achar]) # print character\n",
    "        a_a = past_state[0]\n",
    "        a_c = past_state[1]\n",
    "        ax = get_one_hot_encoding(decoder[achar])\n",
    "        (achar,past_state) = sess.run(out,feed_dict={x:ax,a:a_a,c:a_c})\n",
    "        out_char = achar\n",
    "        #print(\"state a difference at \" + str(i) + \":\",np.sum(np.subtract(a_past_state[0],past_state[0]))) # sanity check\n",
    "        #print(\"state c difference at \" + str(i) + \":\",np.sum(np.subtract(a_past_state[1],past_state[1])))\n",
    "        a_past_state = past_state\n",
    "        \n",
    "    i += 1"
   ]
  },
  {
   "cell_type": "markdown",
   "metadata": {},
   "source": [
    "### Building MODEL 5 - based on the comparatively outstanding performance from model 4, model 5 will use a dense layer w/ length 4 input sequences, lr=0.005 starting and will use standard rnn cells without memory gates"
   ]
  },
  {
   "cell_type": "code",
   "execution_count": 57,
   "metadata": {},
   "outputs": [],
   "source": [
    "# Using standatd rnn cells \n",
    "def rnn_cell5(the_input,n_input=4):\n",
    "    the_input = tf.split(the_input, n_input, axis=0) # create subtensor for each char\n",
    "    rnn_cell = tf.nn.rnn_cell.BasicRNNCell(num_units=512,activation=tf.nn.tanh)\n",
    "    outputs, curr_state = tf.nn.static_rnn(rnn_cell,inputs=the_input,dtype=tf.float32)\n",
    "    \n",
    "    flat = tf.layers.flatten(outputs[-1]) # flatten last activation from lstm\n",
    "    dense = tf.layers.dense(flat,100,activation=tf.nn.tanh,kernel_initializer=tf.contrib.layers.xavier_initializer())\n",
    "    out = tf.layers.dense(dense,27,activation=None,kernel_initializer=tf.contrib.layers.xavier_initializer()) # logits\n",
    "    return out # returns logits"
   ]
  },
  {
   "cell_type": "code",
   "execution_count": 58,
   "metadata": {},
   "outputs": [
    {
     "name": "stdout",
     "output_type": "stream",
     "text": [
      "3.4748602\n"
     ]
    }
   ],
   "source": [
    "# Testing rnn cells and cost function for model 5\n",
    "tf.reset_default_graph()\n",
    "x,y = get_placeholders4()\n",
    "logits = rnn_cell5(x)\n",
    "cost = cost_function(logits,y)\n",
    "\n",
    "init = tf.global_variables_initializer()\n",
    "with tf.Session() as sess:\n",
    "    sess.run(init)\n",
    "    acost = sess.run(cost,feed_dict={x:training_set4[100][0],y:training_set4[100][1]})\n",
    "    print(acost)"
   ]
  },
  {
   "cell_type": "code",
   "execution_count": 63,
   "metadata": {},
   "outputs": [
    {
     "name": "stdout",
     "output_type": "stream",
     "text": [
      "Cost at epoch 1: 24555.917863879353\n",
      "Cost at epoch 2: 21883.042540550698\n",
      "Cost at epoch 3: 21276.668862056336\n",
      "Cost at epoch 4: 20688.92791122629\n",
      "Cost at epoch 5: 20058.541762511362\n",
      "Cost at epoch 6: 19464.79265206994\n",
      "Cost at epoch 7: 18938.302535669704\n",
      "Cost at epoch 8: 18466.502566482726\n",
      "Cost at epoch 9: 18044.938780543394\n",
      "Cost at epoch 10: 17673.959982830434\n",
      "Cost at epoch 11: 17351.822750971973\n",
      "Cost at epoch 12: 17053.454431724458\n",
      "Cost at epoch 13: 16769.461917686145\n"
     ]
    }
   ],
   "source": [
    "acosts5_1 = model(all_names,lr=0.0001,num_epochs=13,retrain=False,model_n=\"model5\")"
   ]
  },
  {
   "cell_type": "code",
   "execution_count": 65,
   "metadata": {
    "scrolled": true
   },
   "outputs": [
    {
     "name": "stdout",
     "output_type": "stream",
     "text": [
      "INFO:tensorflow:Restoring parameters from ../../data/dino_names/model5/language_model.ckpt\n",
      "Cost at epoch 1: 15916.214103656686\n",
      "Cost at epoch 2: 15678.257254178538\n",
      "Cost at epoch 3: 15401.017784358322\n",
      "Cost at epoch 4: 15141.079871492759\n",
      "Cost at epoch 5: 14908.165333490222\n",
      "Cost at epoch 6: 14629.25554901026\n",
      "Cost at epoch 7: 14331.34552031882\n",
      "Cost at epoch 8: 14033.510031507216\n",
      "Cost at epoch 9: 13704.141754718337\n",
      "Cost at epoch 10: 13439.21299905855\n",
      "Cost at epoch 11: 13192.81241386915\n",
      "Cost at epoch 12: 12924.96341347342\n",
      "Cost at epoch 13: 12670.902871248869\n",
      "Cost at epoch 14: 12462.809615293778\n",
      "Cost at epoch 15: 12269.858070615777\n",
      "Cost at epoch 16: 12000.9627952749\n",
      "Cost at epoch 17: 11742.220508183946\n",
      "Cost at epoch 18: 11409.828158060676\n",
      "Cost at epoch 19: 11160.300550180902\n",
      "Cost at epoch 20: 10943.87613020537\n"
     ]
    }
   ],
   "source": [
    "acosts5_2 = model(all_names,lr=0.0001,num_epochs=20,retrain=True,model_n=\"model5\")"
   ]
  },
  {
   "cell_type": "code",
   "execution_count": 66,
   "metadata": {
    "scrolled": true
   },
   "outputs": [
    {
     "name": "stdout",
     "output_type": "stream",
     "text": [
      "INFO:tensorflow:Restoring parameters from ../../data/dino_names/model5/language_model.ckpt\n",
      "Cost at epoch 1: 10662.862451610972\n",
      "Cost at epoch 2: 10597.05927763485\n",
      "Cost at epoch 3: 10273.30966259607\n",
      "Cost at epoch 4: 10039.466317098344\n",
      "Cost at epoch 5: 9734.057546342416\n",
      "Cost at epoch 6: 9578.45297750223\n",
      "Cost at epoch 7: 9471.057693486524\n",
      "Cost at epoch 8: 9322.559418350473\n",
      "Cost at epoch 9: 9155.70826961142\n",
      "Cost at epoch 10: 8965.732786358163\n",
      "Cost at epoch 11: 8798.806581916102\n",
      "Cost at epoch 12: 8720.403263411063\n",
      "Cost at epoch 13: 8430.064076490718\n",
      "Cost at epoch 14: 8178.9528367946605\n",
      "Cost at epoch 15: 8164.49293423518\n",
      "Cost at epoch 16: 7982.811914235273\n",
      "Cost at epoch 17: 7832.328959268354\n",
      "Cost at epoch 18: 7699.799669234322\n",
      "Cost at epoch 19: 7488.421987246722\n",
      "Cost at epoch 20: 7429.994954747851\n",
      "Cost at epoch 21: 7277.3789349400595\n",
      "Cost at epoch 22: 7201.137158562956\n",
      "Cost at epoch 23: 7254.222656658403\n",
      "Cost at epoch 24: 7033.9572474213\n",
      "Cost at epoch 25: 6993.33145114219\n",
      "Cost at epoch 26: 6911.037968453817\n",
      "Cost at epoch 27: 6845.509006897933\n",
      "Cost at epoch 28: 6837.197926569648\n",
      "Cost at epoch 29: 6702.458614477667\n",
      "Cost at epoch 30: 6523.253054180316\n",
      "Cost at epoch 31: 6653.5166419665775\n",
      "Cost at epoch 32: 6585.6326136242\n",
      "Cost at epoch 33: 6583.387117031107\n",
      "Cost at epoch 34: 6454.2404254975145\n",
      "Cost at epoch 35: 6391.006244817339\n",
      "Cost at epoch 36: 6400.918167069024\n",
      "Cost at epoch 37: 6371.440872649165\n",
      "Cost at epoch 38: 6509.3576831854325\n",
      "Cost at epoch 39: 6301.019523917837\n",
      "Cost at epoch 40: 6346.041592908445\n",
      "Cost at epoch 41: 6320.748360271625\n",
      "Cost at epoch 42: 6230.903302232294\n",
      "Cost at epoch 43: 6261.77797552495\n",
      "Cost at epoch 44: 6189.229926752364\n",
      "Cost at epoch 45: 6203.084342750266\n",
      "Cost at epoch 46: 6269.861634520854\n",
      "Cost at epoch 47: 6166.029745787128\n",
      "Cost at epoch 48: 6168.021248985949\n",
      "Cost at epoch 49: 6132.01418939996\n",
      "Cost at epoch 50: 6185.694254306909\n"
     ]
    }
   ],
   "source": [
    "acosts5_3 = model(all_names,lr=0.0001,num_epochs=50,retrain=True,model_n=\"model5\")"
   ]
  },
  {
   "cell_type": "code",
   "execution_count": 67,
   "metadata": {
    "scrolled": true
   },
   "outputs": [
    {
     "name": "stdout",
     "output_type": "stream",
     "text": [
      "INFO:tensorflow:Restoring parameters from ../../data/dino_names/model5/language_model.ckpt\n",
      "Cost at epoch 1: 10498.867150067967\n",
      "Cost at epoch 2: 7918.304069678139\n",
      "Cost at epoch 3: 7139.064142230756\n",
      "Cost at epoch 4: 6738.801499603137\n",
      "Cost at epoch 5: 6484.377004305677\n",
      "Cost at epoch 6: 6300.491067524029\n",
      "Cost at epoch 7: 6161.3440720377\n",
      "Cost at epoch 8: 6052.960677893685\n",
      "Cost at epoch 9: 5967.249535194571\n",
      "Cost at epoch 10: 5897.688194335353\n",
      "Cost at epoch 11: 5839.485806824008\n",
      "Cost at epoch 12: 5789.261300505138\n",
      "Cost at epoch 13: 5745.055365237539\n",
      "Cost at epoch 14: 5706.541338059933\n",
      "Cost at epoch 15: 5672.8501626107645\n",
      "Cost at epoch 16: 5643.798734126665\n",
      "Cost at epoch 17: 5618.2503281443405\n",
      "Cost at epoch 18: 5595.704408095829\n",
      "Cost at epoch 19: 5575.577550888121\n",
      "Cost at epoch 20: 5555.539786556659\n",
      "Cost at epoch 21: 5536.91016442293\n",
      "Cost at epoch 22: 5519.891416772001\n",
      "Cost at epoch 23: 5504.358975355745\n",
      "Cost at epoch 24: 5490.362196226945\n",
      "Cost at epoch 25: 5477.635542677751\n",
      "Cost at epoch 26: 5465.687745652003\n",
      "Cost at epoch 27: 5454.836858715481\n",
      "Cost at epoch 28: 5444.774416416912\n",
      "Cost at epoch 29: 5435.408400001207\n",
      "Cost at epoch 30: 5426.994638987436\n",
      "Cost at epoch 31: 5419.665597087221\n",
      "Cost at epoch 32: 5413.768357024842\n",
      "Cost at epoch 33: 5410.978747933264\n",
      "Cost at epoch 34: 5406.116236841357\n",
      "Cost at epoch 35: 5398.7083695552365\n",
      "Cost at epoch 36: 5391.7810162031465\n",
      "Cost at epoch 37: 5385.587308636479\n",
      "Cost at epoch 38: 5379.4194149403975\n",
      "Cost at epoch 39: 5371.178917897275\n",
      "Cost at epoch 40: 5354.371646963914\n",
      "Cost at epoch 41: 5344.742244021973\n",
      "Cost at epoch 42: 5337.713276366176\n",
      "Cost at epoch 43: 5331.7547016423705\n",
      "Cost at epoch 44: 5326.584097359802\n",
      "Cost at epoch 45: 5322.091491761464\n",
      "Cost at epoch 46: 5318.037113479123\n",
      "Cost at epoch 47: 5314.252907924146\n",
      "Cost at epoch 48: 5310.681459896722\n",
      "Cost at epoch 49: 5307.452749029817\n",
      "Cost at epoch 50: 5304.427066067878\n"
     ]
    }
   ],
   "source": [
    "acosts5_4 = model(all_names,lr=0.00001,num_epochs=50,retrain=True,model_n=\"model5\")"
   ]
  },
  {
   "cell_type": "code",
   "execution_count": 68,
   "metadata": {
    "scrolled": false
   },
   "outputs": [
    {
     "data": {
      "image/png": "[encoded data removed]",
      "text/plain": [
       "<Figure size 432x288 with 1 Axes>"
      ]
     },
     "metadata": {},
     "output_type": "display_data"
    },
    {
     "name": "stdout",
     "output_type": "stream",
     "text": [
      "model 5 percentage change: 0.21601420461950846\n"
     ]
    }
   ],
   "source": [
    "total_costs5 = acosts5_1 + acosts5_2 + acosts5_3 + acosts5_4\n",
    "ax_i5 = [i for i in range(len(total_costs5))]\n",
    "plt.plot(ax_i5,total_costs5)\n",
    "plt.title(\"Cost vs Epoch for model 5\")\n",
    "plt.show()\n",
    "print(\"model 5 percentage change:\",total_costs5[-1]/total_costs5[0])"
   ]
  },
  {
   "cell_type": "code",
   "execution_count": null,
   "metadata": {},
   "outputs": [],
   "source": []
  }
 ],
 "metadata": {
  "kernelspec": {
   "display_name": "Python 3",
   "language": "python",
   "name": "python3"
  },
  "language_info": {
   "codemirror_mode": {
    "name": "ipython",
    "version": 3
   },
   "file_extension": ".py",
   "mimetype": "text/x-python",
   "name": "python",
   "nbconvert_exporter": "python",
   "pygments_lexer": "ipython3",
   "version": "3.6.5"
  }
 },
 "nbformat": 4,
 "nbformat_minor": 2
}
