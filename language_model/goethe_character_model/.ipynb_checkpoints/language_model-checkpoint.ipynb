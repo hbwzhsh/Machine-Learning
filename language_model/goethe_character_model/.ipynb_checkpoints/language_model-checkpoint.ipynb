{
 "cells": [
  {
   "cell_type": "markdown",
   "metadata": {},
   "source": [
    "## Language model for Wilhelm Meister"
   ]
  },
  {
   "cell_type": "code",
   "execution_count": 1,
   "metadata": {},
   "outputs": [],
   "source": [
    "import numpy as np\n",
    "import tensorflow as tf\n",
    "np.random.seed(10)\n",
    "\n",
    "import warnings\n",
    "warnings.filterwarnings('ignore')"
   ]
  },
  {
   "cell_type": "markdown",
   "metadata": {},
   "source": [
    "### Loading Data"
   ]
  },
  {
   "cell_type": "code",
   "execution_count": 2,
   "metadata": {},
   "outputs": [
    {
     "name": "stdout",
     "output_type": "stream",
     "text": [
      "(601213, 30, 67)\n",
      "(601213, 67)\n"
     ]
    }
   ],
   "source": [
    "X_data = np.load(\"../../../data/goethe/X_arr.npy\")\n",
    "y_data = np.load(\"../../../data/goethe/y_arr.npy\")\n",
    "X_data.shape = (601213,30,67)\n",
    "y_data.shape = (601213,67)\n",
    "print(X_data.shape)\n",
    "print(y_data.shape)"
   ]
  },
  {
   "cell_type": "code",
   "execution_count": 3,
   "metadata": {},
   "outputs": [],
   "source": [
    "# creating a data set of tuples for easier shuffling\n",
    "all_data = []\n",
    "for i in range(0,X_data.shape[0]):\n",
    "    ax = X_data[i]\n",
    "    ax.shape = (1,30,67)\n",
    "    ay = y_data[i]\n",
    "    ay.shape = (1,67)\n",
    "    all_data.append((ax,ay))"
   ]
  },
  {
   "cell_type": "markdown",
   "metadata": {},
   "source": [
    "### Model Functions"
   ]
  },
  {
   "cell_type": "code",
   "execution_count": 4,
   "metadata": {},
   "outputs": [],
   "source": [
    "def get_placeholders():\n",
    "    X = tf.placeholder(tf.float32, shape=[None,30,67], name='X')\n",
    "    y = tf.placeholder(tf.float32, shape=[None,67], name='Y')\n",
    "    return X,y"
   ]
  },
  {
   "cell_type": "code",
   "execution_count": 5,
   "metadata": {},
   "outputs": [],
   "source": [
    "# Cross entropy loss to compare predicted char with actual char from novel\n",
    "def cost_function(logits,y):\n",
    "    return tf.reduce_mean(tf.nn.softmax_cross_entropy_with_logits_v2(labels=y,logits=logits))"
   ]
  },
  {
   "cell_type": "code",
   "execution_count": 6,
   "metadata": {},
   "outputs": [],
   "source": [
    "# returns the number of non-zero entries (i.e. non-padding input)\n",
    "def get_len(seq):\n",
    "    lis_ints = tf.sign(tf.reduce_max(tf.abs(seq),2)) \n",
    "    len_seq = tf.reduce_sum(lis_ints, 1) # squash the (?,27) last dim and sum all nonzero entries\n",
    "    len_seq = tf.cast(len_seq, tf.int32)\n",
    "    return len_seq"
   ]
  },
  {
   "cell_type": "code",
   "execution_count": 7,
   "metadata": {},
   "outputs": [],
   "source": [
    "# Unidirectional rnn\n",
    "def rnn_cell(the_input):\n",
    "    # the_input = tf.unstack(the_input, axis=1)\n",
    "    forward_cell = tf.nn.rnn_cell.LSTMCell(num_units=256,activation=tf.nn.tanh,reuse=tf.AUTO_REUSE,name=\"lstm0\")\n",
    "    outputs,curr_state = tf.nn.dynamic_rnn(forward_cell,inputs=the_input,dtype=tf.float32,sequence_length=get_len(the_input))\n",
    "    num_chars = tf.reshape(get_len(the_input),())\n",
    "    flat = tf.reshape(outputs[-1][num_chars-1], [1,256]) # getting the last rnn prediction output\n",
    "    out = tf.layers.dense(flat,67,activation=None,kernel_initializer=tf.contrib.layers.xavier_initializer(seed=0))\n",
    "    return out"
   ]
  },
  {
   "cell_type": "code",
   "execution_count": 8,
   "metadata": {},
   "outputs": [
    {
     "name": "stdout",
     "output_type": "stream",
     "text": [
      "(1, 30, 67)\n",
      "(1, 67)\n"
     ]
    }
   ],
   "source": [
    "# Getting testing examples\n",
    "ax = all_data[0][0]\n",
    "print(ax.shape)\n",
    "ay = all_data[0][1]\n",
    "print(ay.shape)"
   ]
  },
  {
   "cell_type": "code",
   "execution_count": 9,
   "metadata": {},
   "outputs": [
    {
     "name": "stdout",
     "output_type": "stream",
     "text": [
      "4.209082\n",
      "(1, 67)\n"
     ]
    }
   ],
   "source": [
    "# Testing the forward prop and cost function\n",
    "X,y = get_placeholders()\n",
    "pred = rnn_cell(X)\n",
    "cost = cost_function(pred,y)\n",
    "\n",
    "init = tf.global_variables_initializer()\n",
    "with tf.Session() as sess:\n",
    "    sess.run(init)\n",
    "    out = sess.run(pred,feed_dict={X:ax,y:ay})\n",
    "    acost = sess.run(cost,feed_dict={X:ax,y:ay})\n",
    "    \n",
    "print(acost)\n",
    "print(out.shape)"
   ]
  },
  {
   "cell_type": "code",
   "execution_count": 18,
   "metadata": {},
   "outputs": [],
   "source": [
    "def model(all_data,lr=0.001,num_epochs=1,retrain=True,print_cost=False):\n",
    "    tf.reset_default_graph() # resetting graph\n",
    "    tf.set_random_seed(1)\n",
    "    costs = []\n",
    "    \n",
    "    X,y = get_placeholders()\n",
    "    pred = rnn_cell(X)\n",
    "    cost = cost_function(pred,y)\n",
    "    \n",
    "    optimizer = tf.train.AdamOptimizer(learning_rate=lr)\n",
    "    grads, variables = zip(*optimizer.compute_gradients(cost))\n",
    "    grads, _ = tf.clip_by_global_norm(grads, 5.0) # gradient clipping\n",
    "    optimizer = optimizer.apply_gradients(zip(grads, variables))\n",
    "    \n",
    "    init = tf.global_variables_initializer()\n",
    "    saver = tf.train.Saver() # to save/load model\n",
    "    with tf.Session() as sess:\n",
    "        if retrain:\n",
    "            saver = tf.train.import_meta_graph(\"../../../data/goethe/model/language_model.ckpt.meta\")\n",
    "            saver.restore(sess, \"../../../data/goethe/model/language_model.ckpt\")\n",
    "        else:\n",
    "            sess.run(init) # only run init for new model\n",
    "        \n",
    "        for epoch in range(num_epochs):\n",
    "            running_cost = 0\n",
    "            old_running_cost = 0 # used to show total cost change per stochastic step\n",
    "            np.random.shuffle(all_data) # shuffling the data each epoch\n",
    "            for aset in all_data:\n",
    "                (ax,ay) = aset\n",
    "                _,temp_cost = sess.run([optimizer,cost], feed_dict={X:ax,y:ay})\n",
    "                running_cost += temp_cost\n",
    "                \n",
    "                if print_cost:\n",
    "                    cost_change = running_cost - old_running_cost\n",
    "                    old_running_cost = running_cost\n",
    "                    print(\"Cost change:\",cost_change)\n",
    "                    \n",
    "            costs.append(running_cost)\n",
    "            print(\"Cost at epoch {}: {}\".format(epoch+1,running_cost))\n",
    "            loc = saver.save(sess, \"../../../data/goethe/model/language_model.ckpt\") # save model on each epoch\n",
    "            \n",
    "    return costs"
   ]
  },
  {
   "cell_type": "code",
   "execution_count": 23,
   "metadata": {},
   "outputs": [],
   "source": [
    "small_data = all_data[:1000]"
   ]
  },
  {
   "cell_type": "code",
   "execution_count": 24,
   "metadata": {},
   "outputs": [],
   "source": [
    "import time"
   ]
  },
  {
   "cell_type": "code",
   "execution_count": 25,
   "metadata": {},
   "outputs": [
    {
     "name": "stdout",
     "output_type": "stream",
     "text": [
      "Cost at epoch 1: 2442.7007448524237\n",
      "16.230627059936523\n"
     ]
    }
   ],
   "source": [
    "start = time.time()\n",
    "acosts = model(small_data,lr=0.001,num_epochs=1,retrain=False,print_cost=False)\n",
    "print(time.time()-start)"
   ]
  },
  {
   "cell_type": "code",
   "execution_count": null,
   "metadata": {},
   "outputs": [],
   "source": []
  }
 ],
 "metadata": {
  "kernelspec": {
   "display_name": "Python 3",
   "language": "python",
   "name": "python3"
  },
  "language_info": {
   "codemirror_mode": {
    "name": "ipython",
    "version": 3
   },
   "file_extension": ".py",
   "mimetype": "text/x-python",
   "name": "python",
   "nbconvert_exporter": "python",
   "pygments_lexer": "ipython3",
   "version": "3.6.5"
  }
 },
 "nbformat": 4,
 "nbformat_minor": 2
}
