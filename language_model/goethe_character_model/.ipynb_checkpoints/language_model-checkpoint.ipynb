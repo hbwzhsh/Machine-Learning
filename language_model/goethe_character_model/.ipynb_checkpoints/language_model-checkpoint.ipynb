{
 "cells": [
  {
   "cell_type": "markdown",
   "metadata": {},
   "source": [
    "## Language model for Wilhelm Meister\n",
    "\n",
    "This model corresponds with the variable character length input."
   ]
  },
  {
   "cell_type": "code",
   "execution_count": 2,
   "metadata": {},
   "outputs": [],
   "source": [
    "import numpy as np\n",
    "import tensorflow as tf\n",
    "np.random.seed(10)\n",
    "\n",
    "import warnings\n",
    "warnings.filterwarnings('ignore')"
   ]
  },
  {
   "cell_type": "markdown",
   "metadata": {},
   "source": [
    "### Loading Data"
   ]
  },
  {
   "cell_type": "code",
   "execution_count": 3,
   "metadata": {},
   "outputs": [
    {
     "name": "stdout",
     "output_type": "stream",
     "text": [
      "(601216, 30, 67)\n",
      "(601216, 67)\n"
     ]
    }
   ],
   "source": [
    "X_data = np.load(\"../../../data/goethe/X_arr.npy\")\n",
    "y_data = np.load(\"../../../data/goethe/y_arr.npy\")\n",
    "X_data.shape = (601216,30,67)\n",
    "y_data.shape = (601216,67)\n",
    "print(X_data.shape)\n",
    "print(y_data.shape)"
   ]
  },
  {
   "cell_type": "code",
   "execution_count": 4,
   "metadata": {},
   "outputs": [],
   "source": [
    "# creating a data set of tuples for easier shuffling\n",
    "all_data = []\n",
    "for i in range(0,X_data.shape[0]):\n",
    "    ax = X_data[i]\n",
    "    ax.shape = (1,30,67)\n",
    "    ay = y_data[i]\n",
    "    ay.shape = (1,67)\n",
    "    all_data.append((ax,ay))"
   ]
  },
  {
   "cell_type": "markdown",
   "metadata": {},
   "source": [
    "### Model Functions"
   ]
  },
  {
   "cell_type": "code",
   "execution_count": 5,
   "metadata": {},
   "outputs": [],
   "source": [
    "def get_placeholders():\n",
    "    X = tf.placeholder(tf.float32, shape=[None,30,67], name='X')\n",
    "    y = tf.placeholder(tf.float32, shape=[None,67], name='Y')\n",
    "    return X,y"
   ]
  },
  {
   "cell_type": "code",
   "execution_count": 6,
   "metadata": {},
   "outputs": [],
   "source": [
    "# Cross entropy loss to compare predicted char with actual char from novel\n",
    "def cost_function(logits,y):\n",
    "    return tf.reduce_mean(tf.nn.softmax_cross_entropy_with_logits_v2(labels=y,logits=logits))"
   ]
  },
  {
   "cell_type": "code",
   "execution_count": 7,
   "metadata": {},
   "outputs": [],
   "source": [
    "# returns the number of non-zero entries (i.e. non-padding input)\n",
    "def get_len(seq):\n",
    "    lis_ints = tf.sign(tf.reduce_max(tf.abs(seq),2)) \n",
    "    len_seq = tf.reduce_sum(lis_ints, 1) # squash the (?,27) last dim and sum all nonzero entries\n",
    "    len_seq = tf.cast(len_seq, tf.int32)\n",
    "    return len_seq"
   ]
  },
  {
   "cell_type": "code",
   "execution_count": 8,
   "metadata": {},
   "outputs": [],
   "source": [
    "# Unidirectional rnn\n",
    "def rnn_cell(the_input):\n",
    "    # the_input = tf.unstack(the_input, axis=1)\n",
    "    forward_cell = tf.nn.rnn_cell.LSTMCell(num_units=256,activation=tf.nn.tanh,reuse=tf.AUTO_REUSE,name=\"lstm0\")\n",
    "    outputs,curr_state = tf.nn.dynamic_rnn(forward_cell,inputs=the_input,dtype=tf.float32,sequence_length=get_len(the_input))\n",
    "    num_chars = tf.reshape(get_len(the_input),())\n",
    "    flat = tf.reshape(outputs[-1][num_chars-1], [1,256]) # getting the last rnn prediction output\n",
    "    out = tf.layers.dense(flat,67,activation=None,kernel_initializer=tf.contrib.layers.xavier_initializer(seed=0))\n",
    "    return out"
   ]
  },
  {
   "cell_type": "code",
   "execution_count": 9,
   "metadata": {},
   "outputs": [
    {
     "name": "stdout",
     "output_type": "stream",
     "text": [
      "(1, 30, 67)\n",
      "(1, 67)\n"
     ]
    }
   ],
   "source": [
    "# Getting testing examples\n",
    "ax = all_data[0][0]\n",
    "ax2 = all_data[1][0]\n",
    "print(ax.shape)\n",
    "ay = all_data[0][1]\n",
    "print(ay.shape)"
   ]
  },
  {
   "cell_type": "code",
   "execution_count": 10,
   "metadata": {},
   "outputs": [
    {
     "name": "stdout",
     "output_type": "stream",
     "text": [
      "4.169738\n",
      "(1, 67)\n"
     ]
    }
   ],
   "source": [
    "# Testing the forward prop and cost function\n",
    "X,y = get_placeholders()\n",
    "pred = rnn_cell(X)\n",
    "cost = cost_function(pred,y)\n",
    "\n",
    "init = tf.global_variables_initializer()\n",
    "with tf.Session() as sess:\n",
    "    sess.run(init)\n",
    "    out = sess.run(pred,feed_dict={X:ax,y:ay})\n",
    "    acost = sess.run(cost,feed_dict={X:ax,y:ay})\n",
    "    \n",
    "print(acost)\n",
    "print(out.shape)"
   ]
  },
  {
   "cell_type": "code",
   "execution_count": 11,
   "metadata": {},
   "outputs": [],
   "source": [
    "def model(all_data,lr=0.001,num_epochs=1,retrain=True,print_cost=False):\n",
    "    tf.reset_default_graph() # resetting graph\n",
    "    tf.set_random_seed(1)\n",
    "    costs = []\n",
    "    \n",
    "    X,y = get_placeholders()\n",
    "    pred = rnn_cell(X)\n",
    "    cost = cost_function(pred,y)\n",
    "    \n",
    "    optimizer = tf.train.AdamOptimizer(learning_rate=lr)\n",
    "    grads, variables = zip(*optimizer.compute_gradients(cost))\n",
    "    grads, _ = tf.clip_by_global_norm(grads, 5.0) # gradient clipping\n",
    "    optimizer = optimizer.apply_gradients(zip(grads, variables))\n",
    "    \n",
    "    init = tf.global_variables_initializer()\n",
    "    saver = tf.train.Saver() # to save/load model\n",
    "    with tf.Session() as sess:\n",
    "        if retrain:\n",
    "            saver = tf.train.import_meta_graph(\"../../../data/goethe/model/language_model.ckpt.meta\")\n",
    "            saver.restore(sess, \"../../../data/goethe/model/language_model.ckpt\")\n",
    "        else:\n",
    "            sess.run(init) # only run init for new model\n",
    "        \n",
    "        for epoch in range(num_epochs):\n",
    "            start = time.time()\n",
    "            running_cost = 0\n",
    "            old_running_cost = 0 # used to show total cost change per stochastic step\n",
    "            np.random.shuffle(all_data) # shuffling the data each epoch\n",
    "            for aset in all_data:\n",
    "                (ax,ay) = aset\n",
    "                _,temp_cost = sess.run([optimizer,cost], feed_dict={X:ax,y:ay})\n",
    "                running_cost += temp_cost\n",
    "                \n",
    "                if print_cost:\n",
    "                    cost_change = running_cost - old_running_cost\n",
    "                    old_running_cost = running_cost\n",
    "                    print(\"Cost change:\",cost_change)\n",
    "                    \n",
    "            costs.append(running_cost)\n",
    "            print(\"Cost at epoch {}: {}, took: {}\".format(epoch+1,running_cost,time.time()-start))\n",
    "            loc = saver.save(sess, \"../../../data/goethe/model/language_model.ckpt\") # save model on each epoch\n",
    "            \n",
    "    return costs"
   ]
  },
  {
   "cell_type": "code",
   "execution_count": 12,
   "metadata": {},
   "outputs": [],
   "source": [
    "import time"
   ]
  },
  {
   "cell_type": "code",
   "execution_count": 13,
   "metadata": {},
   "outputs": [
    {
     "name": "stdout",
     "output_type": "stream",
     "text": [
      "Cost at epoch 1: 965676.767146199\n",
      "Cost at epoch 2: 849474.8872904718\n",
      "Cost at epoch 3: 824538.1005650768\n",
      "Cost at epoch 4: 814300.9861731377\n",
      "Cost at epoch 5: 808328.5675513552\n",
      "65225.13166999817\n"
     ]
    }
   ],
   "source": [
    "start = time.time()\n",
    "acosts = model(all_data,lr=0.001,num_epochs=5,retrain=False,print_cost=False)\n",
    "print(time.time()-start)"
   ]
  },
  {
   "cell_type": "code",
   "execution_count": null,
   "metadata": {},
   "outputs": [
    {
     "name": "stdout",
     "output_type": "stream",
     "text": [
      "INFO:tensorflow:Restoring parameters from ../../../data/goethe/model/language_model.ckpt\n",
      "Cost at epoch 1: 807290.2152265992, took:12127.424995183945\n",
      "Cost at epoch 2: 807875.3710603345, took:13286.836048841476\n",
      "Cost at epoch 3: 817729.0371951577, took:11121.283535003662\n",
      "Cost at epoch 4: 833756.3013035274, took:14971.63272690773\n",
      "Cost at epoch 5: 861691.0771627927, took:11139.098929166794\n",
      "Cost at epoch 6: 897471.2254729965, took:9835.154791116714\n",
      "Cost at epoch 7: 978145.6041760879, took:9888.452490568161\n"
     ]
    }
   ],
   "source": [
    "acosts = model(all_data,lr=0.001,num_epochs=10,retrain=True,print_cost=False)"
   ]
  },
  {
   "cell_type": "code",
   "execution_count": null,
   "metadata": {},
   "outputs": [
    {
     "name": "stdout",
     "output_type": "stream",
     "text": [
      "INFO:tensorflow:Restoring parameters from ../../../data/goethe/model/language_model.ckpt\n",
      "Cost at epoch 1: 740841.3659302207, took: 17452.68856716156\n"
     ]
    }
   ],
   "source": [
    "# the first portion of the trained model was reloaded and trained here\n",
    "acosts = model(all_data,lr=0.0001,num_epochs=10,retrain=True,print_cost=False)"
   ]
  },
  {
   "cell_type": "markdown",
   "metadata": {},
   "source": [
    "### Sampling using the novel"
   ]
  },
  {
   "cell_type": "code",
   "execution_count": 26,
   "metadata": {},
   "outputs": [],
   "source": [
    "# returns one hot encoding for a particular character\n",
    "def get_one_hot_encoding(char):\n",
    "    char_enc = encoder[char]\n",
    "    hot_vec = np.zeros((67,1)) # vocab_size = 66 (indexed at 1 so need 67 spots)\n",
    "    hot_vec[char_enc] = 1\n",
    "    hot_vec = hot_vec.T # shape (1,67)\n",
    "    hot_vec.shape = (1,1,67)\n",
    "    return hot_vec"
   ]
  },
  {
   "cell_type": "code",
   "execution_count": 21,
   "metadata": {},
   "outputs": [],
   "source": [
    "# Making an encoder and decoder for all of the characters in the novel\n",
    "keys = ['B', 'o', 'k', ' ', 'I', 'C', 'h', 'a', 'p', 't', 'e', 'r', '\\n', \n",
    "        'T', 'H', 'E', 'P', 'L', 'A', 'Y', 'w', 's', 'l', 'i', 'n', 'b', \n",
    "        'g', 'u', ':', 'd', 'm', 'c', ',', 'f', '.', 'S', 'M', 'y', '’', \n",
    "        'N', 'v', ';', '-', 'x', 'O', 'q', '!', '“', 'W', '?', '”', 'j', \n",
    "        'z', 'V', 'J', 'G', 'D', 'F', '‘', 'K', '—', 'U', 'Q', 'R', 'X', 'Z']\n",
    "\n",
    "encoder = {}\n",
    "decoder = {}\n",
    "key_no = 1 # the int representing a key\n",
    "for key in keys:\n",
    "    encoder[key] = key_no\n",
    "    decoder[key_no] = key\n",
    "    key_no += 1"
   ]
  },
  {
   "cell_type": "code",
   "execution_count": 70,
   "metadata": {},
   "outputs": [],
   "source": [
    "# This sample cell samples the model and takes in a previous state of the lstm\n",
    "def sample_cell(the_input,a,c):\n",
    "    past_state = tf.contrib.rnn.LSTMStateTuple(a,c)\n",
    "    forward_cell = tf.nn.rnn_cell.LSTMCell(num_units=256,activation=tf.nn.tanh,reuse=tf.AUTO_REUSE,name=\"lstm0\")\n",
    "    outputs,curr_state = tf.nn.dynamic_rnn(forward_cell,inputs=the_input,initial_state=past_state,dtype=tf.float32,sequence_length=get_len(the_input))\n",
    "    num_chars = tf.reshape(get_len(the_input),())\n",
    "    flat = tf.reshape(outputs[-1][num_chars-1], [1,256]) # getting the last rnn prediction output\n",
    "    \n",
    "    out = tf.layers.dense(flat,67,activation=None,kernel_initializer=tf.contrib.layers.xavier_initializer(seed=0))\n",
    "    out = tf.nn.softmax(out) # softmax on the logits\n",
    "    achar = tf.argmax(out,axis=-1)\n",
    "    achar = tf.reshape(achar,()) # character in int representation\n",
    "    \n",
    "    return achar,curr_state # returns the curr state as well as pred"
   ]
  },
  {
   "cell_type": "code",
   "execution_count": 110,
   "metadata": {},
   "outputs": [
    {
     "name": "stdout",
     "output_type": "stream",
     "text": [
      "INFO:tensorflow:Restoring parameters from ../../../data/goethe/model/language_model.ckpt\n"
     ]
    },
    {
     "ename": "ValueError",
     "evalue": "Cannot feed value of shape (1, 8, 67) for Tensor 'Placeholder:0', which has shape '(1, 1, 67)'",
     "output_type": "error",
     "traceback": [
      "\u001b[0;31m---------------------------------------------------------------------------\u001b[0m",
      "\u001b[0;31mValueError\u001b[0m                                Traceback (most recent call last)",
      "\u001b[0;32m<ipython-input-110-0c38d00e5620>\u001b[0m in \u001b[0;36m<module>\u001b[0;34m()\u001b[0m\n\u001b[1;32m     15\u001b[0m \u001b[0;32mfor\u001b[0m \u001b[0mi\u001b[0m \u001b[0;32min\u001b[0m \u001b[0mrange\u001b[0m\u001b[0;34m(\u001b[0m\u001b[0;36m0\u001b[0m\u001b[0;34m,\u001b[0m\u001b[0;36m2000\u001b[0m\u001b[0;34m)\u001b[0m\u001b[0;34m:\u001b[0m \u001b[0;31m# sampling for n iterations\u001b[0m\u001b[0;34m\u001b[0m\u001b[0m\n\u001b[1;32m     16\u001b[0m     \u001b[0;32mif\u001b[0m \u001b[0mi\u001b[0m \u001b[0;34m==\u001b[0m \u001b[0;36m0\u001b[0m\u001b[0;34m:\u001b[0m\u001b[0;34m\u001b[0m\u001b[0m\n\u001b[0;32m---> 17\u001b[0;31m         \u001b[0;34m(\u001b[0m\u001b[0machar\u001b[0m\u001b[0;34m,\u001b[0m\u001b[0mpast_state\u001b[0m\u001b[0;34m)\u001b[0m \u001b[0;34m=\u001b[0m \u001b[0msess\u001b[0m\u001b[0;34m.\u001b[0m\u001b[0mrun\u001b[0m\u001b[0;34m(\u001b[0m\u001b[0mout\u001b[0m\u001b[0;34m,\u001b[0m\u001b[0mfeed_dict\u001b[0m\u001b[0;34m=\u001b[0m\u001b[0;34m{\u001b[0m\u001b[0mx\u001b[0m\u001b[0;34m:\u001b[0m\u001b[0max\u001b[0m\u001b[0;34m,\u001b[0m\u001b[0ma\u001b[0m\u001b[0;34m:\u001b[0m\u001b[0mnp\u001b[0m\u001b[0;34m.\u001b[0m\u001b[0mzeros\u001b[0m\u001b[0;34m(\u001b[0m\u001b[0;34m(\u001b[0m\u001b[0;36m1\u001b[0m\u001b[0;34m,\u001b[0m\u001b[0;36m256\u001b[0m\u001b[0;34m)\u001b[0m\u001b[0;34m)\u001b[0m\u001b[0;34m,\u001b[0m\u001b[0mc\u001b[0m\u001b[0;34m:\u001b[0m\u001b[0mnp\u001b[0m\u001b[0;34m.\u001b[0m\u001b[0mzeros\u001b[0m\u001b[0;34m(\u001b[0m\u001b[0;34m(\u001b[0m\u001b[0;36m1\u001b[0m\u001b[0;34m,\u001b[0m\u001b[0;36m256\u001b[0m\u001b[0;34m)\u001b[0m\u001b[0;34m)\u001b[0m\u001b[0;34m}\u001b[0m\u001b[0;34m)\u001b[0m\u001b[0;34m\u001b[0m\u001b[0m\n\u001b[0m\u001b[1;32m     18\u001b[0m         \u001b[0mall_chars\u001b[0m \u001b[0;34m+=\u001b[0m \u001b[0mdecoder\u001b[0m\u001b[0;34m[\u001b[0m\u001b[0machar\u001b[0m\u001b[0;34m]\u001b[0m \u001b[0;31m# adding to the string\u001b[0m\u001b[0;34m\u001b[0m\u001b[0m\n\u001b[1;32m     19\u001b[0m         \u001b[0ma_past_state\u001b[0m \u001b[0;34m=\u001b[0m \u001b[0mpast_state\u001b[0m\u001b[0;34m\u001b[0m\u001b[0m\n",
      "\u001b[0;32m/Library/Frameworks/Python.framework/Versions/3.6/lib/python3.6/site-packages/tensorflow/python/client/session.py\u001b[0m in \u001b[0;36mrun\u001b[0;34m(self, fetches, feed_dict, options, run_metadata)\u001b[0m\n\u001b[1;32m    898\u001b[0m     \u001b[0;32mtry\u001b[0m\u001b[0;34m:\u001b[0m\u001b[0;34m\u001b[0m\u001b[0m\n\u001b[1;32m    899\u001b[0m       result = self._run(None, fetches, feed_dict, options_ptr,\n\u001b[0;32m--> 900\u001b[0;31m                          run_metadata_ptr)\n\u001b[0m\u001b[1;32m    901\u001b[0m       \u001b[0;32mif\u001b[0m \u001b[0mrun_metadata\u001b[0m\u001b[0;34m:\u001b[0m\u001b[0;34m\u001b[0m\u001b[0m\n\u001b[1;32m    902\u001b[0m         \u001b[0mproto_data\u001b[0m \u001b[0;34m=\u001b[0m \u001b[0mtf_session\u001b[0m\u001b[0;34m.\u001b[0m\u001b[0mTF_GetBuffer\u001b[0m\u001b[0;34m(\u001b[0m\u001b[0mrun_metadata_ptr\u001b[0m\u001b[0;34m)\u001b[0m\u001b[0;34m\u001b[0m\u001b[0m\n",
      "\u001b[0;32m/Library/Frameworks/Python.framework/Versions/3.6/lib/python3.6/site-packages/tensorflow/python/client/session.py\u001b[0m in \u001b[0;36m_run\u001b[0;34m(self, handle, fetches, feed_dict, options, run_metadata)\u001b[0m\n\u001b[1;32m   1109\u001b[0m                              \u001b[0;34m'which has shape %r'\u001b[0m \u001b[0;34m%\u001b[0m\u001b[0;34m\u001b[0m\u001b[0m\n\u001b[1;32m   1110\u001b[0m                              (np_val.shape, subfeed_t.name,\n\u001b[0;32m-> 1111\u001b[0;31m                               str(subfeed_t.get_shape())))\n\u001b[0m\u001b[1;32m   1112\u001b[0m           \u001b[0;32mif\u001b[0m \u001b[0;32mnot\u001b[0m \u001b[0mself\u001b[0m\u001b[0;34m.\u001b[0m\u001b[0mgraph\u001b[0m\u001b[0;34m.\u001b[0m\u001b[0mis_feedable\u001b[0m\u001b[0;34m(\u001b[0m\u001b[0msubfeed_t\u001b[0m\u001b[0;34m)\u001b[0m\u001b[0;34m:\u001b[0m\u001b[0;34m\u001b[0m\u001b[0m\n\u001b[1;32m   1113\u001b[0m             \u001b[0;32mraise\u001b[0m \u001b[0mValueError\u001b[0m\u001b[0;34m(\u001b[0m\u001b[0;34m'Tensor %s may not be fed.'\u001b[0m \u001b[0;34m%\u001b[0m \u001b[0msubfeed_t\u001b[0m\u001b[0;34m)\u001b[0m\u001b[0;34m\u001b[0m\u001b[0m\n",
      "\u001b[0;31mValueError\u001b[0m: Cannot feed value of shape (1, 8, 67) for Tensor 'Placeholder:0', which has shape '(1, 1, 67)'"
     ]
    }
   ],
   "source": [
    "tf.reset_default_graph()\n",
    "x = tf.placeholder(tf.float32, shape=[1, 1, 67])\n",
    "a = tf.placeholder(tf.float32, shape=[1, 256])\n",
    "c = tf.placeholder(tf.float32, shape=[1, 256])\n",
    "out = sample_cell(x,a,c)\n",
    "\n",
    "start_char = \"B\"\n",
    "ax = get_one_hot_encoding(start_char) # getting first character to go into model\n",
    "all_chars = start_char\n",
    "\n",
    "saver = tf.train.Saver()\n",
    "sess = tf.InteractiveSession()\n",
    "saver = tf.train.import_meta_graph(\"../../../data/goethe/model/language_model.ckpt.meta\") # loading model\n",
    "saver.restore(sess, \"../../../data/goethe/model/language_model.ckpt\")\n",
    "\n",
    "for i in range(0,1000): # sampling for n iterations\n",
    "    if i == 0:\n",
    "        (achar,past_state) = sess.run(out,feed_dict={x:ax,a:np.zeros((1,256)),c:np.zeros((1,256))})\n",
    "        all_chars += decoder[achar] # adding to the string\n",
    "    else:\n",
    "        a_a = past_state[0]\n",
    "        a_c = past_state[1]\n",
    "        ax = get_one_hot_encoding(decoder[achar])\n",
    "        (achar,past_state) = sess.run(out,feed_dict={x:ax,a:a_a,c:a_c})\n",
    "        all_chars += decoder[achar] # adding to the string\n",
    "        "
   ]
  },
  {
   "cell_type": "code",
   "execution_count": null,
   "metadata": {},
   "outputs": [],
   "source": []
  }
 ],
 "metadata": {
  "kernelspec": {
   "display_name": "Python 3",
   "language": "python",
   "name": "python3"
  },
  "language_info": {
   "codemirror_mode": {
    "name": "ipython",
    "version": 3
   },
   "file_extension": ".py",
   "mimetype": "text/x-python",
   "name": "python",
   "nbconvert_exporter": "python",
   "pygments_lexer": "ipython3",
   "version": "3.6.5"
  }
 },
 "nbformat": 4,
 "nbformat_minor": 2
}
