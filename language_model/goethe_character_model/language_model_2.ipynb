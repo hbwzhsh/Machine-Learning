{
 "cells": [
  {
   "cell_type": "markdown",
   "metadata": {},
   "source": [
    "## Language model for Wilhelm Meister\n",
    "\n",
    "This model corresponds with the fixed length input. This model will also use batch gradient descent rather than stochastic."
   ]
  },
  {
   "cell_type": "code",
   "execution_count": 2,
   "metadata": {},
   "outputs": [],
   "source": [
    "import numpy as np\n",
    "import tensorflow as tf\n",
    "import time\n",
    "np.random.seed(10)\n",
    "\n",
    "import warnings\n",
    "warnings.filterwarnings('ignore')"
   ]
  },
  {
   "cell_type": "markdown",
   "metadata": {},
   "source": [
    "### Loading Data"
   ]
  },
  {
   "cell_type": "code",
   "execution_count": 4,
   "metadata": {},
   "outputs": [
    {
     "name": "stdout",
     "output_type": "stream",
     "text": [
      "(1202437, 15, 67)\n",
      "(1202437, 67)\n"
     ]
    }
   ],
   "source": [
    "X_data = np.load(\"../../../data/goethe/X_arr_traditional.npy\")\n",
    "y_data = np.load(\"../../../data/goethe/y_arr_traditional.npy\")\n",
    "X_data.shape = (1202437,15,67)\n",
    "y_data.shape = (1202437,67)\n",
    "print(X_data.shape)\n",
    "print(y_data.shape)"
   ]
  },
  {
   "cell_type": "code",
   "execution_count": 5,
   "metadata": {},
   "outputs": [],
   "source": [
    "# creating a data set of tuples for easier shuffling\n",
    "all_data = []\n",
    "for i in range(0,X_data.shape[0]):\n",
    "    ax = X_data[i]\n",
    "    ax.shape = (1,15,67)\n",
    "    ay = y_data[i]\n",
    "    ay.shape = (1,67)\n",
    "    all_data.append((ax,ay))"
   ]
  },
  {
   "cell_type": "markdown",
   "metadata": {},
   "source": [
    "### Model Functions"
   ]
  },
  {
   "cell_type": "code",
   "execution_count": 6,
   "metadata": {},
   "outputs": [],
   "source": [
    "def get_placeholders():\n",
    "    X = tf.placeholder(tf.float32, shape=[None,15,67], name='X')\n",
    "    y = tf.placeholder(tf.float32, shape=[None,67], name='Y')\n",
    "    return X,y"
   ]
  },
  {
   "cell_type": "code",
   "execution_count": 7,
   "metadata": {},
   "outputs": [],
   "source": [
    "# Cross entropy loss to compare predicted char with actual char from novel\n",
    "def cost_function(logits,y):\n",
    "    return tf.reduce_mean(tf.nn.softmax_cross_entropy_with_logits_v2(labels=y,logits=logits))"
   ]
  },
  {
   "cell_type": "code",
   "execution_count": 8,
   "metadata": {},
   "outputs": [],
   "source": [
    "# Unidirectional rnn\n",
    "def rnn_cell(the_input):\n",
    "    forward_cell = tf.nn.rnn_cell.LSTMCell(num_units=256,activation=tf.nn.tanh,reuse=tf.AUTO_REUSE,name=\"lstm0\")\n",
    "    outputs,curr_state = tf.nn.dynamic_rnn(forward_cell,inputs=the_input,dtype=tf.float32)\n",
    "    flat = outputs[:,-1,:] # getting the last rnn prediction output for all inputs\n",
    "    out = tf.layers.dense(flat,67,activation=None,kernel_initializer=tf.contrib.layers.xavier_initializer(seed=0))\n",
    "    return out"
   ]
  },
  {
   "cell_type": "code",
   "execution_count": 9,
   "metadata": {},
   "outputs": [
    {
     "name": "stdout",
     "output_type": "stream",
     "text": [
      "(2, 15, 67)\n",
      "(2, 67)\n"
     ]
    }
   ],
   "source": [
    "# Getting testing examples\n",
    "ax1 = all_data[0][0]\n",
    "ax2 = all_data[1][0]\n",
    "ax = np.concatenate([ax1,ax2])\n",
    "print(ax.shape)\n",
    "ay1 = all_data[0][1]\n",
    "ay2 = all_data[1][1]\n",
    "ay = np.concatenate([ay1,ay2])\n",
    "print(ay.shape)"
   ]
  },
  {
   "cell_type": "code",
   "execution_count": 10,
   "metadata": {},
   "outputs": [
    {
     "name": "stdout",
     "output_type": "stream",
     "text": [
      "4.191888\n",
      "(2, 67)\n"
     ]
    }
   ],
   "source": [
    "# Testing the forward prop and cost function\n",
    "X,y = get_placeholders()\n",
    "pred = rnn_cell(X)\n",
    "cost = cost_function(pred,y)\n",
    "\n",
    "init = tf.global_variables_initializer()\n",
    "with tf.Session() as sess:\n",
    "    sess.run(init)\n",
    "    out = sess.run(pred,feed_dict={X:ax,y:ay})\n",
    "    acost = sess.run(cost,feed_dict={X:ax,y:ay})\n",
    "    \n",
    "print(acost)\n",
    "print(out.shape)"
   ]
  },
  {
   "cell_type": "code",
   "execution_count": 11,
   "metadata": {},
   "outputs": [],
   "source": [
    "# takes in a list of x,y pairs and returns a list of numpy vector pairs consisting of 15000 observations each\n",
    "def get_input_data(all_data):\n",
    "    cut_off = 15000\n",
    "    i = 0\n",
    "    end_len = len(all_data)\n",
    "    ret_data = [] # holds the list of return tuple pairs\n",
    "    while(i+15000<end_len):\n",
    "        x_data_temp = np.concatenate([all_data[j][0] for j in range(i,i+cut_off)])\n",
    "        y_data_temp = np.concatenate([all_data[j][1] for j in range(i,i+cut_off)])\n",
    "        ret_data.append((x_data_temp,y_data_temp))\n",
    "        i += cut_off\n",
    "        \n",
    "    return ret_data"
   ]
  },
  {
   "cell_type": "code",
   "execution_count": 12,
   "metadata": {},
   "outputs": [
    {
     "name": "stdout",
     "output_type": "stream",
     "text": [
      "80\n"
     ]
    }
   ],
   "source": [
    "test_out = get_input_data(all_data)\n",
    "print(len(test_out))"
   ]
  },
  {
   "cell_type": "code",
   "execution_count": 13,
   "metadata": {},
   "outputs": [],
   "source": [
    "def model(all_data,lr=0.001,num_epochs=1,retrain=True,print_cost=False):\n",
    "    tf.reset_default_graph() # resetting graph\n",
    "    tf.set_random_seed(1)\n",
    "    costs = []\n",
    "    \n",
    "    X,y = get_placeholders()\n",
    "    pred = rnn_cell(X)\n",
    "    cost = cost_function(pred,y)\n",
    "    \n",
    "    optimizer = tf.train.AdamOptimizer(learning_rate=lr)\n",
    "    grads, variables = zip(*optimizer.compute_gradients(cost))\n",
    "    grads, _ = tf.clip_by_global_norm(grads, 5.0) # gradient clipping\n",
    "    optimizer = optimizer.apply_gradients(zip(grads, variables))\n",
    "    \n",
    "    init = tf.global_variables_initializer()\n",
    "    saver = tf.train.Saver() # to save/load model\n",
    "    with tf.Session() as sess:\n",
    "        if retrain:\n",
    "            saver = tf.train.import_meta_graph(\"../../../data/goethe/model2/language_model.ckpt.meta\")\n",
    "            saver.restore(sess, \"../../../data/goethe/model2/language_model.ckpt\")\n",
    "        else:\n",
    "            sess.run(init) # only run init for new model\n",
    "        \n",
    "        for epoch in range(num_epochs):\n",
    "            start = time.time()\n",
    "            running_cost = 0\n",
    "            old_running_cost = 0 # used to show total cost change per stochastic step\n",
    "            np.random.shuffle(all_data) # shuffling the data each epoch\n",
    "            input_data = get_input_data(all_data) # get list of numpy vector inputs to the model\n",
    "            for aset in input_data:\n",
    "                (ax,ay) = aset\n",
    "                _,temp_cost = sess.run([optimizer,cost], feed_dict={X:ax,y:ay})\n",
    "                running_cost += temp_cost\n",
    "                \n",
    "                if print_cost:\n",
    "                    cost_change = running_cost - old_running_cost\n",
    "                    old_running_cost = running_cost\n",
    "                    print(\"Cost change:\",cost_change)\n",
    "                    \n",
    "            costs.append(running_cost)\n",
    "            print(\"Cost at epoch {}: {}, took: {}\".format(epoch+1,running_cost,time.time()-start))\n",
    "            loc = saver.save(sess, \"../../../data/goethe/model2/language_model.ckpt\") # save model on each epoch\n",
    "            \n",
    "    return costs"
   ]
  },
  {
   "cell_type": "markdown",
   "metadata": {},
   "source": [
    "### Sampling using the novel\n",
    "\n",
    "Model was trained using cloud computing."
   ]
  },
  {
   "cell_type": "code",
   "execution_count": 14,
   "metadata": {},
   "outputs": [],
   "source": [
    "# Making an encoder and decoder for all of the characters in the novel\n",
    "keys = ['B', 'o', 'k', ' ', 'I', 'C', 'h', 'a', 'p', 't', 'e', 'r', '\\n', \n",
    "        'T', 'H', 'E', 'P', 'L', 'A', 'Y', 'w', 's', 'l', 'i', 'n', 'b', \n",
    "        'g', 'u', ':', 'd', 'm', 'c', ',', 'f', '.', 'S', 'M', 'y', '’', \n",
    "        'N', 'v', ';', '-', 'x', 'O', 'q', '!', '“', 'W', '?', '”', 'j', \n",
    "        'z', 'V', 'J', 'G', 'D', 'F', '‘', 'K', '—', 'U', 'Q', 'R', 'X', 'Z']\n",
    "\n",
    "encoder = {}\n",
    "decoder = {}\n",
    "key_no = 1 # the int representing a key\n",
    "for key in keys:\n",
    "    encoder[key] = key_no\n",
    "    decoder[key_no] = key\n",
    "    key_no += 1"
   ]
  },
  {
   "cell_type": "code",
   "execution_count": 15,
   "metadata": {},
   "outputs": [],
   "source": [
    "# returns one hot encoding for a particular character\n",
    "def get_one_hot_encoding(char):\n",
    "    char_enc = encoder[char]\n",
    "    hot_vec = np.zeros((67,1)) # vocab_size = 66 (indexed at 1 so need 67 spots)\n",
    "    hot_vec[char_enc] = 1\n",
    "    hot_vec = hot_vec.T # shape (1,67)\n",
    "    hot_vec.shape = (1,1,67)\n",
    "    return hot_vec"
   ]
  },
  {
   "cell_type": "code",
   "execution_count": 16,
   "metadata": {},
   "outputs": [],
   "source": [
    "# This sample cell samples the model and takes in a previous state of the lstm\n",
    "def sample_cell(the_input,a,c):\n",
    "    past_state = tf.contrib.rnn.LSTMStateTuple(a,c)\n",
    "    forward_cell = tf.nn.rnn_cell.LSTMCell(num_units=256,activation=tf.nn.tanh,reuse=tf.AUTO_REUSE,name=\"lstm0\")\n",
    "    outputs,curr_state = tf.nn.dynamic_rnn(forward_cell,inputs=the_input,initial_state=past_state,dtype=tf.float32)\n",
    "    flat = outputs[:,-1,:]\n",
    "    out = tf.layers.dense(flat,67,activation=None,kernel_initializer=tf.contrib.layers.xavier_initializer(seed=0))\n",
    "    out = tf.nn.softmax(out) # softmax on the logits\n",
    "    achar = tf.argmax(out,axis=-1)\n",
    "    achar = tf.reshape(achar,()) # character in int representation\n",
    "    return achar,curr_state # returns the curr state as well as pred"
   ]
  },
  {
   "cell_type": "code",
   "execution_count": 19,
   "metadata": {},
   "outputs": [],
   "source": [
    "start_seq = \"Mariane was \"\n",
    "ax = np.zeros((1,len(start_seq),67))\n",
    "for i in range(0,len(start_seq)):\n",
    "    ax[0,i,:] = get_one_hot_encoding(start_seq[i])"
   ]
  },
  {
   "cell_type": "code",
   "execution_count": 22,
   "metadata": {},
   "outputs": [
    {
     "name": "stdout",
     "output_type": "stream",
     "text": [
      "INFO:tensorflow:Restoring parameters from ../../../data/goethe/model2/language_model.ckpt\n"
     ]
    }
   ],
   "source": [
    "tf.reset_default_graph()\n",
    "x = tf.placeholder(tf.float32, shape=[1, None, 67])\n",
    "a = tf.placeholder(tf.float32, shape=[1, 256])\n",
    "c = tf.placeholder(tf.float32, shape=[1, 256])\n",
    "out = sample_cell(x,a,c)\n",
    "\n",
    "# start_char = \"B\"\n",
    "# ax = get_one_hot_encoding(start_char) # getting first character to go into model\n",
    "# all_chars = start_char\n",
    "all_chars = start_seq\n",
    "\n",
    "saver = tf.train.Saver()\n",
    "sess = tf.InteractiveSession()\n",
    "saver = tf.train.import_meta_graph(\"../../../data/goethe/model2/language_model.ckpt.meta\") # loading model\n",
    "saver.restore(sess, \"../../../data/goethe/model2/language_model.ckpt\")\n",
    "\n",
    "for i in range(0,5000): # sampling for n iterations\n",
    "    if i == 0:\n",
    "        (achar,past_state) = sess.run(out,feed_dict={x:ax,a:np.zeros((1,256)),c:np.zeros((1,256))})\n",
    "        all_chars += decoder[achar] # adding to the string\n",
    "    else:\n",
    "        a_a = past_state[0]\n",
    "        a_c = past_state[1]\n",
    "        ax = get_one_hot_encoding(decoder[achar])\n",
    "        (achar,past_state) = sess.run(out,feed_dict={x:ax,a:a_a,c:a_c})\n",
    "        all_chars += decoder[achar] # adding to the string\n",
    "        "
   ]
  },
  {
   "cell_type": "code",
   "execution_count": 23,
   "metadata": {
    "scrolled": true
   },
   "outputs": [
    {
     "data": {
      "text/plain": [
       "'Mariane was to terrof, he master ton!\\n\\nMuMperted, might vivaring—O”\\n“Yesselted as allose time efteremazes love fiddy althligggg‘‘Y‘UFU‘UR““Qa?”, doinfuYed, who arrowes not by into allightedmems, And be-fOrTUQg‘‘UUUX“V\\nO those iners, of the brow rogue was life. Chapt notX’ C—RR’Dey, which cheerflan,”—r—YPU‘Q‘CUVYBORO’ I staye it sufferent bleacle.\\nAt rechts\\n\\nQuagubYoF, only there castings from the lapszar-off-kxcte”\\n\\nan accide we dearning honding let beact. Young may natt of one batmQakQ-whXU.\\nCCOR\\nJExTNI”\\nTHE TUuTTuY?\\nOUR from beint!” said Wilh, by matter? Tolorits,—wast, Conor’s cassely we did not aptochmonatincion wandly that, on groun-dis of the unhackse to him, were broid BrisQ-GRdy: “What dow brothe grenattreKKKUUGUV‘R‘UR““‘DEnome, realined at tan. It contids of her prosp-hesh: he “Ax, Howaving particrital, had all; and\\nerignes, with routh haldeally forced hungul manse, “rost Fried! ‘In every Germany,” said!\\nMY\\nJor, not asseet, as enf!’stH I mishel, I weary to measqually of these close-gugning; whit! Dive!”—“‘It mestales of a great reKi‘KKK‘‘‘‘‘‘‘‘‘‘‘‘‘‘‘CE“CR“UU“H—OY! And it mays are cramm be’s ‘mercl. “CHatt? Monjudie awaids, his goatuly we provrnce-tules” replox,” “Hecold has woundliness. “for it hovel—Observal my strickle and haze driggg‘d: owRZQRGRYFDQY?YT!Y\\nUKnd’LASSS FFF‘TJUY!” I GuO!”\\nYet moarce, longer’s arm—V\\nOLYHYCCCOJVVVVVEQETQTAQFIAPyrained that rected; not neves had wis:\\n\\nCORVON better, wall, without that wonewal-QQuOUMKn’DI!\\nOut this violommunsbary,” Sho thindad of Tenle’st yighrigh—‘KKKKKKKE—KKFKKFKKFKKKKE—O‘FKKO‘UUURV“UUUUUNFEX\\nCUneNts, as Phiclly rook tauce to onever, a firry so-conere, “JOQN liked sometity, my walk forward; hear the sabod rosend be spenk’s wish, what!” HrIV‘IJrely hardom, in thes, the young tou hover my sufficed liared, Hin.\\n‘You has continornably actionable; for\\nWerripe.”\\n‘YHa“TR Day it!”\\n“The sate, she, come jutter but to my vieteer; they age of this viewag; on conjecro-Gal..”\\n“How?” cantingle bridly rettrofay! CoJolun, which had versered toguing wep, folQwXX,” WHOR““Dxeless wert notchings:”—“”\\nKYKY! BuBURB“a!”\\nTHen! I could coarcionalaying what us hom yo?”\\n“The morgn became,” said hon is introducing ociaccump livel, have greatth:FQ‘E‘YYUX\\nAd\\n\\nWite it seemed to live.”\\nThis almest of feeling. Molits troux britain; “In tutred not to bed, when, toou as see that gay Ophryh:\\nQCEYXY! You have recouricuan”, with I foved all the nounoan?”oQO! V\\nTHERYONIOTTISQKGRQQUXVFISTQKQKQKUUCKiG“GHH! “Yes, an husbatious by a numbing of that mangers,” reveir follooner. He advened her afficur, wishing-wavel;\\nCournN,” congumed ped alives“YQQJTZUR‘ouX\\nYether felt taiCKKKKKKKGUUV‘UUFOHe of your situation of ut.”\\n“Bols, which hasteHdrEBChQCTHU““By’s Clighnot-DzozFXV\\nYed is still mightered would,\\nWheKnever by helprear-dinn of whole; he strenguced by spleKingKKY-f“‘vent to youth“‘Yow weerearnon.”\\n“But wherepulst are-new at her varafov————QQ‘‘KK‘CVKO’”—“O,—Y—A mory so undicing. O! Yee, how stool renove shoulds of hepon wore all.”—“Well ailest as not you,” arres” “he—ne, to Raggerour the blopsordz“‘‘Yooo Yo!” V report home was, “From your going of the bour\\nof,” She more NreFonoQQZoG withing avoring: “HAY’s how thy oundles worshoo ful; and of that waven”’se, if thr youth we poen fortwUKi‘Q‘KKKKUUFYFFOrty contentipad, Seast erved what, hown moman!” Tillutt then he press?”\\n“It was froo hisQselfrd: “Thay scan foreThen happy lod zeabal corp, it caust off itcestany hairiorslst whend-heart. And what he wearred his consoctnts greattch?” redO!” “Ind, by frant little crew horgowargald hen: “A You lodd!”\\ncried our friesh,” IILX frXensime: smell; N-Exo““QCOUN these trandintion, there occapial was monounced!”—“He woung ont youn busy pressod-bow, down\\n\\nshe stwaired,”\\nWiletatedestings, befarcee frous of decoratcy.”\\nS“O, mylicin TLY-DoO’’sQ—JoVI\\nCCONDII Mil”” cistuente posterationg atteation. Do yo kis\\n\\nthem. Have rendered: wKnncR“QUe that platt-Uphor! darnAss, “dechase the look, witha some has of-crancerding: my starchence“\\nO wKhe Hak he nowles nest was lettereKZFDi““DY I me?” said in the taboes, inquirgatted ligaknRGhly-much—TV—Y Aurul and spited garriftor of lif-keppteHF”oK, In VE\\n“THout is assemed, she holds then were fondaking it too, it must look toweragpel, manner, noud able.\\n“Who or life-re dCKinNeD! dClOND\\n\\nOut of you is light, that yre weldoQivince—“Me!”\\n“This not you would of it,” crit,”—UY—Y—H—Really pathenco! I have righty, I scarcest him, the here. At recollect-hap trwF!!!\\nCVTHOULYA\\n\\nWho they shopperzeK QGeer.—FOR—OY, Laert might are himself effen himon hildselutation constans bately sizud-lat.”\\n“FYTUP “‘Inarness same are intomembtly-renckkKKKUJXZGyAJS\\nArth cannethyt of Trude?”\\n“But I have not one remain him on of histormand sighted-wonded. He agt and concevioald-minzlesso, willing Lord, pren, who contings by meast!” exclaim, frok fro”\\n\\n“Bu““Dr you right thimb‘OQHUUp; ‘Her you exclaided hover coupars, dud our error? was yat methmy what meantly of her sheligandd: Havinks of great, narrow an for, ago, and jargQ'"
      ]
     },
     "execution_count": 23,
     "metadata": {},
     "output_type": "execute_result"
    }
   ],
   "source": [
    "all_chars"
   ]
  },
  {
   "cell_type": "code",
   "execution_count": 24,
   "metadata": {},
   "outputs": [],
   "source": [
    "with open(\"text.txt\",\"w\") as file:\n",
    "    for char in all_chars:\n",
    "        file.write(char)"
   ]
  },
  {
   "cell_type": "code",
   "execution_count": null,
   "metadata": {},
   "outputs": [],
   "source": []
  }
 ],
 "metadata": {
  "kernelspec": {
   "display_name": "Python 3",
   "language": "python",
   "name": "python3"
  },
  "language_info": {
   "codemirror_mode": {
    "name": "ipython",
    "version": 3
   },
   "file_extension": ".py",
   "mimetype": "text/x-python",
   "name": "python",
   "nbconvert_exporter": "python",
   "pygments_lexer": "ipython3",
   "version": "3.6.5"
  }
 },
 "nbformat": 4,
 "nbformat_minor": 2
}
