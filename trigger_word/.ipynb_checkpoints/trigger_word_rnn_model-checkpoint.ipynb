{
 "cells": [
  {
   "cell_type": "markdown",
   "metadata": {},
   "source": [
    "## Trigger word rnn model\n",
    "\n",
    "This notebook is dedicated to developing the rnn model to support this trigger word detection task. The rnn model being implemented for this task consists of a conv1D step to make the input_size=(1,1375,#filters) including dropout and batch normalization, and a multilayered rnn consisting of two GRU cells and dropout. All dropout has a keep_prob=0.8.\n",
    "\n",
    "In order the show an example of using this model, I will be using the trained model to predict where a trigger word is said in an input and compare that vector to the actual vector of when the trigger word is said."
   ]
  },
  {
   "cell_type": "code",
   "execution_count": 2,
   "metadata": {},
   "outputs": [],
   "source": [
    "import numpy as np\n",
    "import tensorflow as tf\n",
    "import matplotlib.pyplot as plt\n",
    "import latex\n",
    "import spacy\n",
    "import math\n",
    "import IPython\n",
    "from sklearn.model_selection import train_test_split\n",
    "from sklearn.utils import shuffle\n",
    "np.random.seed(10)\n",
    "import keras.backend as k\n",
    "\n",
    "%matplotlib inline\n",
    "import warnings\n",
    "warnings.filterwarnings('ignore')"
   ]
  },
  {
   "cell_type": "code",
   "execution_count": 6,
   "metadata": {},
   "outputs": [],
   "source": [
    "# Loading data\n",
    "X_data = np.load(\"../../data/trigger_word/data/x.npy\")\n",
    "y_data = np.load(\"../../data/trigger_word/data/y.npy\")"
   ]
  },
  {
   "cell_type": "code",
   "execution_count": 7,
   "metadata": {},
   "outputs": [],
   "source": [
    "X_data.shape = (1000,1402,118)\n",
    "y_data.shape = (1000,1375)"
   ]
  },
  {
   "cell_type": "code",
   "execution_count": 8,
   "metadata": {},
   "outputs": [
    {
     "name": "stdout",
     "output_type": "stream",
     "text": [
      "(990, 1402, 118)\n",
      "(990, 1375)\n",
      "(10, 1402, 118)\n",
      "(10, 1375)\n"
     ]
    }
   ],
   "source": [
    "# Training data will be first 10 recordings, and these are unshuffled sets of training ex.\n",
    "X_train = X_data[10:] # unshuffled\n",
    "y_train = y_data[10:]\n",
    "X_test = X_data[:10]\n",
    "y_test = y_data[:10]\n",
    "\n",
    "print(X_train.shape)\n",
    "print(y_train.shape)\n",
    "print(X_test.shape)\n",
    "print(y_test.shape)"
   ]
  },
  {
   "cell_type": "code",
   "execution_count": 9,
   "metadata": {},
   "outputs": [],
   "source": [
    "# Placeholder functions for model input\n",
    "def get_placeholders():\n",
    "    X = tf.placeholder(tf.float32, shape=[None,1402,118], name='X')\n",
    "    y = tf.placeholder(tf.float32, shape=[None,1375], name='Y')\n",
    "    return X,y"
   ]
  },
  {
   "cell_type": "code",
   "execution_count": 10,
   "metadata": {},
   "outputs": [],
   "source": [
    "# Forward prop step consisting of conv 1d, multilayered rnn, and dropout usage\n",
    "def rnn_cell(the_input):\n",
    "    # Conv 1D step:\n",
    "    Z = tf.layers.conv1d(the_input,filters=196,kernel_size=28,kernel_initializer=tf.contrib.layers.xavier_initializer(seed=0))\n",
    "    Bn = tf.layers.batch_normalization(Z)\n",
    "    A = tf.nn.relu(Bn)\n",
    "    D = tf.nn.dropout(A,keep_prob=0.8)\n",
    "    \n",
    "    # Multilayered GRU units with dropout:\n",
    "    cell1 = tf.nn.rnn_cell.GRUCell(128,kernel_initializer=tf.contrib.layers.xavier_initializer(seed=0))\n",
    "    cell1 = tf.nn.rnn_cell.DropoutWrapper(cell1,output_keep_prob=0.8)\n",
    "    cell2 = tf.nn.rnn_cell.GRUCell(128,kernel_initializer=tf.contrib.layers.xavier_initializer(seed=0))\n",
    "    cell2 = tf.nn.rnn_cell.DropoutWrapper(cell2,output_keep_prob=0.8)\n",
    "    \n",
    "    multi_cell = tf.nn.rnn_cell.MultiRNNCell([cell1,cell2]) # multilayered cell\n",
    "    outputs,curr_state = tf.nn.dynamic_rnn(multi_cell,inputs=D,dtype=tf.float32)\n",
    "    \n",
    "    flats = tf.map_fn(lambda x: tf.layers.flatten(x),outputs)\n",
    "    out = tf.map_fn(lambda x: tf.layers.dense(x,1,activation=None,kernel_initializer=tf.contrib.layers.xavier_initializer(seed=0),reuse=tf.AUTO_REUSE),flats)\n",
    "    out = tf.reshape(out,[1,1375])\n",
    "    #flats = [tf.layers.flatten(out) for out in outputs] # - for eager_execution\n",
    "    #out = [tf.layers.dense(flat,1,activation=None,kernel_initializer=tf.contrib.layers.xavier_initializer(),reuse=tf.AUTO_REUSE) for flat in flats]\n",
    "    \n",
    "    return out"
   ]
  },
  {
   "cell_type": "code",
   "execution_count": 11,
   "metadata": {},
   "outputs": [],
   "source": [
    "# Cost function, uses sigmoid cross entropy with logits to compare the predictions at each 1375 step\n",
    "def cost_function(logits,y):\n",
    "    return tf.reduce_sum(tf.nn.sigmoid_cross_entropy_with_logits(labels=y,logits=logits))"
   ]
  },
  {
   "cell_type": "code",
   "execution_count": 12,
   "metadata": {},
   "outputs": [],
   "source": [
    "# Sigmoid prediction for a given vector of logits, returns both a sigmoid activation output and discrete classes - 0,1\n",
    "def prediction(logits):\n",
    "    sigmoid_out = tf.nn.sigmoid(logits)\n",
    "    desc_out = tf.to_int32(sigmoid_out > 0.5)\n",
    "    return sigmoid_out,desc_out"
   ]
  },
  {
   "cell_type": "code",
   "execution_count": 13,
   "metadata": {},
   "outputs": [
    {
     "name": "stdout",
     "output_type": "stream",
     "text": [
      "output shape: (1, 1375)\n",
      "example cost: 1196.4111\n",
      "example predictions: [[0.4194148  0.44809484 0.39459923 ... 0.55335313 0.5448271  0.5622999 ]]\n",
      "descrete predictions: [[0 0 0 ... 1 1 1]]\n"
     ]
    }
   ],
   "source": [
    "# Testing forward prop and cost function\n",
    "# Example cost is large because sigmoid cross entropy is being used on 1375 epochs per training example\n",
    "ax = X_train[0]\n",
    "ax.shape = (1,1402, 118)\n",
    "ay = y_train[0]\n",
    "ay.shape = (1,1375)\n",
    "tf.reset_default_graph()\n",
    "x,y = get_placeholders()\n",
    "out = rnn_cell(x)\n",
    "cost = cost_function(out,y)\n",
    "pred = prediction(out)\n",
    "\n",
    "init = tf.global_variables_initializer()\n",
    "with tf.Session() as sess:\n",
    "    sess.run(init)\n",
    "    aout = sess.run(out,feed_dict={x:ax,y:ay})\n",
    "    acost = sess.run(cost,feed_dict={x:ax,y:ay})\n",
    "    apred,adesc_pred = sess.run(pred,feed_dict={x:ax,y:ay})\n",
    "    print(\"output shape:\",aout.shape)\n",
    "    print(\"example cost:\",acost)\n",
    "    print(\"example predictions:\",apred)\n",
    "    print(\"descrete predictions:\",adesc_pred)"
   ]
  },
  {
   "cell_type": "code",
   "execution_count": 14,
   "metadata": {},
   "outputs": [],
   "source": [
    "# Model for trigger word detection using stochastic gradient descent w/ gradient clipping\n",
    "def model(X_train,y_train,lr=0.0001,num_epochs=25,retrain=True,print_each=True):\n",
    "    tf.reset_default_graph() # resetting graph\n",
    "    tf.set_random_seed(1)\n",
    "    seed=0\n",
    "    costs=[]\n",
    "    \n",
    "    x,y = get_placeholders()\n",
    "    logits = rnn_cell(x)\n",
    "    cost = cost_function(logits,y)\n",
    "    pred = prediction(logits) # get binary predictions and sigmoid activation output\n",
    "    \n",
    "    optimizer = tf.train.AdamOptimizer(learning_rate=lr)\n",
    "    grads, variables = zip(*optimizer.compute_gradients(cost))\n",
    "    grads, _ = tf.clip_by_global_norm(grads, 5.0) # gradient clipping\n",
    "    optimizer = optimizer.apply_gradients(zip(grads, variables))\n",
    "    \n",
    "    init = tf.global_variables_initializer()\n",
    "    saver = tf.train.Saver() # to save/load model\n",
    "    with tf.Session() as sess:\n",
    "        if retrain:\n",
    "            saver = tf.train.import_meta_graph(\"../../data/trigger_word/model/trigger_model.ckpt.meta\")\n",
    "            saver.restore(sess, \"../../data/trigger_word/model/trigger_model.ckpt\")\n",
    "        else:\n",
    "            sess.run(init) # only run init when you are training a new model\n",
    "\n",
    "        for epoch in range(num_epochs):\n",
    "            running_cost = 0\n",
    "            seed += 1\n",
    "            X_train = shuffle(X_train,random_state=seed) # shuffle data for each epoch\n",
    "            y_train = shuffle(y_train,random_state=seed)\n",
    "            training_set = [(X_train[i],y_train[i]) for i in range(len(X_train))]\n",
    "                \n",
    "            for aset in training_set:\n",
    "                (ax,ay) = aset\n",
    "                ax.shape = (1,1402, 118)\n",
    "                ay.shape = (1,1375)\n",
    "                _,temp_cost = sess.run([optimizer,cost], feed_dict={x:ax,y:ay})\n",
    "                if print_each:\n",
    "                    print(\"cost increase:\",temp_cost)\n",
    "                running_cost += temp_cost\n",
    "                \n",
    "            costs.append(running_cost)\n",
    "            if (epoch+1) % 1 == 0: # printing costs\n",
    "                print(\"Cost at epoch {}: {}\".format(epoch+1,running_cost))\n",
    "                # model saved on every iteration\n",
    "                loc = saver.save(sess, \"../../data/trigger_word/model/trigger_model.ckpt\")\n",
    "\n",
    "        return costs"
   ]
  },
  {
   "cell_type": "markdown",
   "metadata": {},
   "source": [
    "### Training model"
   ]
  },
  {
   "cell_type": "code",
   "execution_count": 15,
   "metadata": {
    "scrolled": true
   },
   "outputs": [
    {
     "name": "stdout",
     "output_type": "stream",
     "text": [
      "Cost at epoch 1: 244460.5630837679\n",
      "Cost at epoch 2: 215511.24660006166\n",
      "Cost at epoch 3: 216788.40474177897\n",
      "Cost at epoch 4: 217215.01574906334\n",
      "Cost at epoch 5: 222427.56054194365\n",
      "Cost at epoch 6: 221933.6056457674\n",
      "Cost at epoch 7: 223188.62855187058\n",
      "Cost at epoch 8: 223126.67144729383\n",
      "Cost at epoch 9: 224751.38082497893\n",
      "Cost at epoch 10: 223784.41431448795\n",
      "Cost at epoch 11: 223781.16806122358\n",
      "Cost at epoch 12: 216687.84218929382\n",
      "Cost at epoch 13: 213522.7004518928\n",
      "Cost at epoch 14: 214318.77287250082\n",
      "Cost at epoch 15: 215704.49724228936\n",
      "Cost at epoch 16: 213875.48874762352\n",
      "Cost at epoch 17: 212572.3736780421\n",
      "Cost at epoch 18: 208819.0574035796\n",
      "Cost at epoch 19: 206569.39676956157\n",
      "Cost at epoch 20: 200819.31565973244\n",
      "Cost at epoch 21: 206459.86652151519\n",
      "Cost at epoch 22: 199639.66351342946\n",
      "Cost at epoch 23: 200553.67816693592\n",
      "Cost at epoch 24: 203354.4792598947\n",
      "Cost at epoch 25: 195600.2879442681\n"
     ]
    }
   ],
   "source": [
    "costs1 = model(X_train,y_train,lr=0.0001,num_epochs=25,retrain=False,print_each=False)"
   ]
  },
  {
   "cell_type": "code",
   "execution_count": 16,
   "metadata": {
    "scrolled": true
   },
   "outputs": [
    {
     "name": "stdout",
     "output_type": "stream",
     "text": [
      "INFO:tensorflow:Restoring parameters from ../../data/trigger_word/model/trigger_model.ckpt\n",
      "Cost at epoch 1: 200999.11081542855\n",
      "Cost at epoch 2: 200500.82082139968\n",
      "Cost at epoch 3: 197786.09494521224\n",
      "Cost at epoch 4: 190314.69759487023\n",
      "Cost at epoch 5: 189779.15280784294\n",
      "Cost at epoch 6: 190417.10178437014\n",
      "Cost at epoch 7: 185139.5058900268\n",
      "Cost at epoch 8: 188346.45051960554\n",
      "Cost at epoch 9: 187828.3892744684\n",
      "Cost at epoch 10: 185185.60778254864\n",
      "Cost at epoch 11: 182768.0028851619\n",
      "Cost at epoch 12: 184564.7313154966\n",
      "Cost at epoch 13: 180239.9853896848\n",
      "Cost at epoch 14: 179774.02412255405\n",
      "Cost at epoch 15: 177749.86449606856\n",
      "Cost at epoch 16: 184071.0091916708\n",
      "Cost at epoch 17: 175361.08985801338\n",
      "Cost at epoch 18: 178360.5757510803\n",
      "Cost at epoch 19: 179621.6238102264\n",
      "Cost at epoch 20: 173097.4950393464\n",
      "Cost at epoch 21: 173568.57747105212\n",
      "Cost at epoch 22: 173522.6456276583\n",
      "Cost at epoch 23: 177204.46499321994\n",
      "Cost at epoch 24: 175447.83602415962\n",
      "Cost at epoch 25: 167590.52715465645\n"
     ]
    }
   ],
   "source": [
    "costs2 = model(X_train,y_train,lr=0.0001,num_epochs=25,retrain=True,print_each=False)"
   ]
  },
  {
   "cell_type": "code",
   "execution_count": 17,
   "metadata": {
    "scrolled": true
   },
   "outputs": [
    {
     "name": "stdout",
     "output_type": "stream",
     "text": [
      "INFO:tensorflow:Restoring parameters from ../../data/trigger_word/model/trigger_model.ckpt\n",
      "Cost at epoch 1: 169339.1099128094\n",
      "Cost at epoch 2: 175741.76710898854\n",
      "Cost at epoch 3: 169370.69921540777\n",
      "Cost at epoch 4: 164205.69354042446\n",
      "Cost at epoch 5: 166031.36294939014\n",
      "Cost at epoch 6: 165963.57318965252\n",
      "Cost at epoch 7: 166536.70358346528\n",
      "Cost at epoch 8: 168275.62700839195\n",
      "Cost at epoch 9: 166795.76717495243\n",
      "Cost at epoch 10: 162795.35912357236\n",
      "Cost at epoch 11: 164549.72182862903\n",
      "Cost at epoch 12: 168020.84012688766\n",
      "Cost at epoch 13: 158836.16135111713\n",
      "Cost at epoch 14: 166715.4761533065\n",
      "Cost at epoch 15: 162959.9906493605\n",
      "Cost at epoch 16: 159950.1514146445\n",
      "Cost at epoch 17: 160342.11791853886\n",
      "Cost at epoch 18: 159375.08702354704\n",
      "Cost at epoch 19: 162058.37368276462\n",
      "Cost at epoch 20: 157807.66211198914\n",
      "Cost at epoch 21: 157266.79135550847\n",
      "Cost at epoch 22: 154172.78705374885\n",
      "Cost at epoch 23: 163350.48491642793\n",
      "Cost at epoch 24: 155026.90059371814\n",
      "Cost at epoch 25: 153451.61199753522\n"
     ]
    }
   ],
   "source": [
    "costs3 = model(X_train,y_train,lr=0.0001,num_epochs=25,retrain=True,print_each=False)"
   ]
  },
  {
   "cell_type": "code",
   "execution_count": 18,
   "metadata": {
    "scrolled": true
   },
   "outputs": [
    {
     "name": "stdout",
     "output_type": "stream",
     "text": [
      "INFO:tensorflow:Restoring parameters from ../../data/trigger_word/model/trigger_model.ckpt\n",
      "Cost at epoch 1: 151180.2347354658\n",
      "Cost at epoch 2: 149671.30097528195\n",
      "Cost at epoch 3: 144804.34127962854\n",
      "Cost at epoch 4: 145168.94516096424\n",
      "Cost at epoch 5: 142138.60893243892\n",
      "Cost at epoch 6: 142452.46546828302\n",
      "Cost at epoch 7: 137532.31863056525\n",
      "Cost at epoch 8: 140654.59174833287\n",
      "Cost at epoch 9: 140989.17521209255\n",
      "Cost at epoch 10: 141182.87030205183\n",
      "Cost at epoch 11: 135037.3356126391\n",
      "Cost at epoch 12: 133767.84756153575\n",
      "Cost at epoch 13: 136955.48918046313\n",
      "Cost at epoch 14: 132813.76775891476\n",
      "Cost at epoch 15: 138355.64992094773\n",
      "Cost at epoch 16: 136079.24957172366\n",
      "Cost at epoch 17: 133606.34830061195\n",
      "Cost at epoch 18: 131532.74084948713\n",
      "Cost at epoch 19: 133479.61682353658\n",
      "Cost at epoch 20: 130892.36157984486\n",
      "Cost at epoch 21: 128583.26557371875\n",
      "Cost at epoch 22: 124614.82570451495\n",
      "Cost at epoch 23: 130420.20266562226\n",
      "Cost at epoch 24: 125406.53101522019\n",
      "Cost at epoch 25: 118192.4713340719\n"
     ]
    }
   ],
   "source": [
    "costs4 = model(X_train,y_train,lr=0.00003,num_epochs=25,retrain=True,print_each=False)"
   ]
  },
  {
   "cell_type": "code",
   "execution_count": 19,
   "metadata": {
    "scrolled": true
   },
   "outputs": [
    {
     "name": "stdout",
     "output_type": "stream",
     "text": [
      "INFO:tensorflow:Restoring parameters from ../../data/trigger_word/model/trigger_model.ckpt\n",
      "Cost at epoch 1: 127497.93879269772\n",
      "Cost at epoch 2: 128252.98157031863\n",
      "Cost at epoch 3: 127063.61742138809\n",
      "Cost at epoch 4: 124592.05657527829\n",
      "Cost at epoch 5: 126071.76547898732\n",
      "Cost at epoch 6: 125374.9341834956\n",
      "Cost at epoch 7: 123937.1835397961\n",
      "Cost at epoch 8: 123117.64610709924\n",
      "Cost at epoch 9: 123058.60264138646\n",
      "Cost at epoch 10: 122350.18247508649\n",
      "Cost at epoch 11: 120444.43575616591\n",
      "Cost at epoch 12: 122066.43767409354\n",
      "Cost at epoch 13: 119229.4441320848\n",
      "Cost at epoch 14: 122524.89216913508\n",
      "Cost at epoch 15: 119026.10834367825\n",
      "Cost at epoch 16: 122806.44446889624\n",
      "Cost at epoch 17: 123433.96121878392\n",
      "Cost at epoch 18: 119818.37970818614\n",
      "Cost at epoch 19: 120276.12796140136\n",
      "Cost at epoch 20: 116002.71590851326\n",
      "Cost at epoch 21: 117901.22451721958\n",
      "Cost at epoch 22: 114177.41688200079\n",
      "Cost at epoch 23: 118541.70881814788\n",
      "Cost at epoch 24: 115068.40631657837\n",
      "Cost at epoch 25: 110732.02345113285\n"
     ]
    }
   ],
   "source": [
    "costs5 = model(X_train,y_train,lr=0.00003,num_epochs=25,retrain=True,print_each=False)"
   ]
  },
  {
   "cell_type": "code",
   "execution_count": 20,
   "metadata": {
    "scrolled": true
   },
   "outputs": [
    {
     "name": "stdout",
     "output_type": "stream",
     "text": [
      "INFO:tensorflow:Restoring parameters from ../../data/trigger_word/model/trigger_model.ckpt\n",
      "Cost at epoch 1: 115625.54737895611\n",
      "Cost at epoch 2: 117044.56137450218\n",
      "Cost at epoch 3: 115248.32940666066\n",
      "Cost at epoch 4: 113874.6946640016\n",
      "Cost at epoch 5: 113769.03682120124\n",
      "Cost at epoch 6: 114204.77150405967\n",
      "Cost at epoch 7: 114371.42603720799\n",
      "Cost at epoch 8: 110576.42569742845\n",
      "Cost at epoch 9: 112439.06665860636\n",
      "Cost at epoch 10: 111264.66532357041\n",
      "Cost at epoch 11: 113393.65673904118\n",
      "Cost at epoch 12: 110418.38418470159\n",
      "Cost at epoch 13: 111906.07695613973\n",
      "Cost at epoch 14: 109316.01725370648\n",
      "Cost at epoch 15: 113873.23580123577\n",
      "Cost at epoch 16: 110687.47486048096\n",
      "Cost at epoch 17: 111017.7320144514\n",
      "Cost at epoch 18: 111702.70272033887\n",
      "Cost at epoch 19: 108483.8599834724\n",
      "Cost at epoch 20: 106470.38547673309\n",
      "Cost at epoch 21: 110940.89788418225\n",
      "Cost at epoch 22: 104545.84974658275\n",
      "Cost at epoch 23: 111578.19371894622\n",
      "Cost at epoch 24: 106950.69366165872\n",
      "Cost at epoch 25: 105547.65746102587\n"
     ]
    }
   ],
   "source": [
    "costs6 = model(X_train,y_train,lr=0.00003,num_epochs=25,retrain=True,print_each=False)"
   ]
  },
  {
   "cell_type": "code",
   "execution_count": 22,
   "metadata": {},
   "outputs": [
    {
     "name": "stdout",
     "output_type": "stream",
     "text": [
      "[106000.11560572518, 108150.61336611082, 105712.37290493104, 104321.95649055392, 105332.08831603262, 104775.74306584454, 101364.77817816428, 99329.60266778052, 99713.90653642779, 98296.98191191633, 103334.0464004058, 100651.02900518301, 95261.25832177109, 96043.61393266429, 98333.43675789832, 97053.45916634428, 95481.52532127709, 94333.15717574417, 94252.52191264773, 92789.83654063278, 92502.95934762145, 90074.82808120188, 95912.32011893346, 91316.14521952382, 89058.92879202409]\n"
     ]
    }
   ],
   "source": [
    "print(costs7)"
   ]
  },
  {
   "cell_type": "code",
   "execution_count": 23,
   "metadata": {
    "scrolled": true
   },
   "outputs": [
    {
     "name": "stdout",
     "output_type": "stream",
     "text": [
      "INFO:tensorflow:Restoring parameters from ../../data/trigger_word/model/trigger_model.ckpt\n",
      "Cost at epoch 1: 97999.23742326905\n",
      "Cost at epoch 2: 99691.24835531063\n",
      "Cost at epoch 3: 95245.28579807699\n",
      "Cost at epoch 4: 94882.35629958857\n",
      "Cost at epoch 5: 95679.4389814387\n",
      "Cost at epoch 6: 96667.70076363461\n",
      "Cost at epoch 7: 93692.23171624033\n",
      "Cost at epoch 8: 90403.07214618422\n",
      "Cost at epoch 9: 89336.19229599457\n",
      "Cost at epoch 10: 90004.71919248992\n",
      "Cost at epoch 11: 94771.6952966169\n",
      "Cost at epoch 12: 92396.37012034019\n",
      "Cost at epoch 13: 85947.30904572089\n",
      "Cost at epoch 14: 89745.90568740747\n",
      "Cost at epoch 15: 90750.99097895468\n",
      "Cost at epoch 16: 89646.50867356473\n",
      "Cost at epoch 17: 89027.72593729733\n",
      "Cost at epoch 18: 89405.04199426809\n",
      "Cost at epoch 19: 86730.31929846386\n",
      "Cost at epoch 20: 86183.52719893299\n",
      "Cost at epoch 21: 87958.06395633364\n",
      "Cost at epoch 22: 82341.10553237105\n",
      "Cost at epoch 23: 87816.97858563186\n",
      "Cost at epoch 24: 85774.26406396886\n",
      "Cost at epoch 25: 86436.19076728818\n"
     ]
    }
   ],
   "source": [
    "costs8 = model(X_train,y_train,lr=0.00001,num_epochs=25,retrain=True,print_each=False)"
   ]
  },
  {
   "cell_type": "code",
   "execution_count": 25,
   "metadata": {},
   "outputs": [
    {
     "data": {
      "image/png": "[encoded data removed]",
      "text/plain": [
       "<Figure size 432x288 with 1 Axes>"
      ]
     },
     "metadata": {},
     "output_type": "display_data"
    }
   ],
   "source": [
    "# Sample of the high level of variability in cost over time\n",
    "tot_cost = costs1 + costs2 + costs3 + costs4 + costs5 + costs6 + costs7 + costs8\n",
    "x_i = [i for i in range(len(tot_cost))]\n",
    "plt.plot(x_i,tot_cost)\n",
    "plt.xlabel(\"epoch\")\n",
    "plt.ylabel(\"cost\")\n",
    "plt.show()"
   ]
  },
  {
   "cell_type": "code",
   "execution_count": 26,
   "metadata": {
    "scrolled": true
   },
   "outputs": [
    {
     "name": "stdout",
     "output_type": "stream",
     "text": [
      "INFO:tensorflow:Restoring parameters from ../../data/trigger_word/model/trigger_model.ckpt\n",
      "Cost at epoch 1: 86525.29673184552\n",
      "Cost at epoch 2: 91990.8313819531\n",
      "Cost at epoch 3: 86838.74772970314\n",
      "Cost at epoch 4: 86231.6522838966\n",
      "Cost at epoch 5: 87799.0873574282\n",
      "Cost at epoch 6: 88430.85301368913\n",
      "Cost at epoch 7: 88905.67125740414\n",
      "Cost at epoch 8: 82294.13593820996\n",
      "Cost at epoch 9: 83096.29791467988\n",
      "Cost at epoch 10: 82953.55658432088\n",
      "Cost at epoch 11: 83885.85166217735\n",
      "Cost at epoch 12: 85322.52329609654\n",
      "Cost at epoch 13: 78829.84206722392\n",
      "Cost at epoch 14: 82697.28952514596\n",
      "Cost at epoch 15: 81124.75975895219\n",
      "Cost at epoch 16: 82444.57300548791\n",
      "Cost at epoch 17: 78331.37725162595\n",
      "Cost at epoch 18: 80333.0718007786\n",
      "Cost at epoch 19: 77802.05528428333\n",
      "Cost at epoch 20: 78304.48200463547\n",
      "Cost at epoch 21: 79197.73153370258\n",
      "Cost at epoch 22: 73036.51991016795\n",
      "Cost at epoch 23: 78456.7086958994\n",
      "Cost at epoch 24: 76284.81688076326\n",
      "Cost at epoch 25: 72784.36481810428\n"
     ]
    }
   ],
   "source": [
    "costs9 = model(X_train,y_train,lr=0.000003,num_epochs=25,retrain=True,print_each=False)"
   ]
  },
  {
   "cell_type": "code",
   "execution_count": 27,
   "metadata": {
    "scrolled": true
   },
   "outputs": [
    {
     "name": "stdout",
     "output_type": "stream",
     "text": [
      "INFO:tensorflow:Restoring parameters from ../../data/trigger_word/model/trigger_model.ckpt\n",
      "Cost at epoch 1: 85050.81070909106\n",
      "Cost at epoch 2: 89382.38720774718\n",
      "Cost at epoch 3: 82719.44066509616\n",
      "Cost at epoch 4: 82099.74945766067\n",
      "Cost at epoch 5: 83705.32212848685\n",
      "Cost at epoch 6: 83599.97311815695\n",
      "Cost at epoch 7: 84142.55287574779\n",
      "Cost at epoch 8: 77168.5629822267\n",
      "Cost at epoch 9: 77497.35228004547\n",
      "Cost at epoch 10: 78420.97430570947\n",
      "Cost at epoch 11: 79445.74538181676\n",
      "Cost at epoch 12: 77847.81038818977\n",
      "Cost at epoch 13: 72960.06256150319\n",
      "Cost at epoch 14: 78000.44832428762\n",
      "Cost at epoch 15: 76294.64650950112\n",
      "Cost at epoch 16: 76499.6631421334\n",
      "Cost at epoch 17: 72520.53846550873\n",
      "Cost at epoch 18: 75321.05275057438\n",
      "Cost at epoch 19: 71157.58716000488\n",
      "Cost at epoch 20: 72337.11230785743\n",
      "Cost at epoch 21: 72537.29971877273\n",
      "Cost at epoch 22: 67392.68355499327\n",
      "Cost at epoch 23: 70416.64142909217\n",
      "Cost at epoch 24: 69184.44064181973\n",
      "Cost at epoch 25: 65405.489570326914\n"
     ]
    }
   ],
   "source": [
    "costs10 = model(X_train,y_train,lr=0.000001,num_epochs=25,retrain=True,print_each=False)"
   ]
  },
  {
   "cell_type": "code",
   "execution_count": 28,
   "metadata": {
    "scrolled": true
   },
   "outputs": [
    {
     "name": "stdout",
     "output_type": "stream",
     "text": [
      "INFO:tensorflow:Restoring parameters from ../../data/trigger_word/model/trigger_model.ckpt\n",
      "Cost at epoch 1: 83704.9466106445\n",
      "Cost at epoch 2: 88230.32426662542\n",
      "Cost at epoch 3: 81140.36377629793\n",
      "Cost at epoch 4: 80577.67984316956\n",
      "Cost at epoch 5: 82287.97117895978\n",
      "Cost at epoch 6: 82176.50073137603\n",
      "Cost at epoch 7: 81040.92707000521\n",
      "Cost at epoch 8: 74992.53674484702\n",
      "Cost at epoch 9: 74374.59685685474\n",
      "Cost at epoch 10: 75434.25937918876\n",
      "Cost at epoch 11: 76361.86154997812\n",
      "Cost at epoch 12: 74440.17598355774\n",
      "Cost at epoch 13: 69094.69490133613\n",
      "Cost at epoch 14: 74151.08844884994\n",
      "Cost at epoch 15: 73193.87637183325\n",
      "Cost at epoch 16: 72927.05609042195\n",
      "Cost at epoch 17: 68394.33690808297\n",
      "Cost at epoch 18: 71749.40457406295\n",
      "Cost at epoch 19: 67936.18012879275\n",
      "Cost at epoch 20: 68454.7509321934\n",
      "Cost at epoch 21: 67891.14411036536\n",
      "Cost at epoch 22: 63165.14147024098\n",
      "Cost at epoch 23: 67624.63932353855\n",
      "Cost at epoch 24: 65671.90158623955\n",
      "Cost at epoch 25: 62002.10238568732\n"
     ]
    }
   ],
   "source": [
    "costs11 = model(X_train,y_train,lr=0.0000003,num_epochs=25,retrain=True,print_each=False)"
   ]
  },
  {
   "cell_type": "code",
   "execution_count": 30,
   "metadata": {},
   "outputs": [
    {
     "data": {
      "image/png": "[encoded data removed]",
      "text/plain": [
       "<Figure size 432x288 with 1 Axes>"
      ]
     },
     "metadata": {},
     "output_type": "display_data"
    }
   ],
   "source": [
    "# Sample of the high level of variability in cost over time\n",
    "tot_cost = costs1 + costs2 + costs3 + costs4 + costs5 + costs6 + costs7 + costs8 + costs9 + costs10 + costs11\n",
    "x_i = [i for i in range(len(tot_cost))]\n",
    "plt.plot(x_i,tot_cost)\n",
    "plt.xlabel(\"epoch\")\n",
    "plt.ylabel(\"cost\")\n",
    "plt.show()"
   ]
  },
  {
   "cell_type": "markdown",
   "metadata": {},
   "source": [
    "### Predicting using the model"
   ]
  },
  {
   "cell_type": "code",
   "execution_count": 48,
   "metadata": {},
   "outputs": [
    {
     "name": "stdout",
     "output_type": "stream",
     "text": [
      "INFO:tensorflow:Restoring parameters from ../../data/trigger_word/model/trigger_model.ckpt\n",
      "descrete predictions: [[0 0 0 ... 0 0 0]]\n"
     ]
    }
   ],
   "source": [
    "# Getting a prediction for a particular input audio clip\n",
    "ax = X_train[20]\n",
    "ax.shape = (1,1402, 118)\n",
    "\n",
    "tf.reset_default_graph() # computation graph to get binary predictions\n",
    "x,y = get_placeholders()\n",
    "out = rnn_cell(x)\n",
    "pred = prediction(out)\n",
    "\n",
    "saver = tf.train.Saver()\n",
    "with tf.Session() as sess:\n",
    "    saver = tf.train.import_meta_graph(\"../../data/trigger_word/model/trigger_model.ckpt.meta\")\n",
    "    saver.restore(sess, \"../../data/trigger_word/model/trigger_model.ckpt\")\n",
    "    apred,adesc_pred = sess.run(pred,feed_dict={x:ax})\n",
    "    print(\"descrete predictions:\",adesc_pred)"
   ]
  },
  {
   "cell_type": "code",
   "execution_count": 49,
   "metadata": {},
   "outputs": [],
   "source": [
    "act_y = y_train[20]\n",
    "act_y.shape = (1375)\n",
    "pred_y = adesc_pred\n",
    "pred_y.shape = (1375)"
   ]
  },
  {
   "cell_type": "code",
   "execution_count": 50,
   "metadata": {},
   "outputs": [
    {
     "data": {
      "image/png": "[encoded data removed]",
      "text/plain": [
       "<Figure size 432x288 with 1 Axes>"
      ]
     },
     "metadata": {},
     "output_type": "display_data"
    }
   ],
   "source": [
    "plt.plot(act_y)\n",
    "plt.title(\"actual\")\n",
    "plt.show()"
   ]
  },
  {
   "cell_type": "code",
   "execution_count": 51,
   "metadata": {},
   "outputs": [
    {
     "data": {
      "image/png": "[encoded data removed]",
      "text/plain": [
       "<Figure size 432x288 with 1 Axes>"
      ]
     },
     "metadata": {},
     "output_type": "display_data"
    }
   ],
   "source": [
    "plt.plot(pred_y)\n",
    "plt.title(\"prediction\")\n",
    "plt.show()"
   ]
  },
  {
   "cell_type": "code",
   "execution_count": null,
   "metadata": {},
   "outputs": [],
   "source": []
  }
 ],
 "metadata": {
  "kernelspec": {
   "display_name": "Python 3",
   "language": "python",
   "name": "python3"
  },
  "language_info": {
   "codemirror_mode": {
    "name": "ipython",
    "version": 3
   },
   "file_extension": ".py",
   "mimetype": "text/x-python",
   "name": "python",
   "nbconvert_exporter": "python",
   "pygments_lexer": "ipython3",
   "version": "3.6.5"
  }
 },
 "nbformat": 4,
 "nbformat_minor": 2
}
