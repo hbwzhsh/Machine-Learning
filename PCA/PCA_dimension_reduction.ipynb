{
 "cells": [
  {
   "cell_type": "markdown",
   "metadata": {},
   "source": [
    "## Simple PCA Implementation\n",
    "\n",
    "Note - this is simply meant to show how to use PCA to decrease the dimension of a dataset in R<sup>2</sup> to R<sup>1</sup>\n",
    "\n",
    "Steps:\n",
    "\n",
    "1. Standard normalize the data\n",
    "2. Compute the covariance matrix sigma\n",
    "3. Compute eigenvectors of sigma\n",
    "4. Transform the data using the matrix of eigenvectors\n",
    "\n",
    "Additional:\n",
    "\n",
    "1. Get back to original feature data\n",
    "2. Compute the average squared projection error"
   ]
  },
  {
   "cell_type": "code",
   "execution_count": 1,
   "metadata": {},
   "outputs": [],
   "source": [
    "import matplotlib.pyplot as plt\n",
    "import numpy as np\n",
    "from sklearn import datasets\n",
    "import latex\n",
    "import random\n",
    "\n",
    "%matplotlib inline\n",
    "import warnings\n",
    "warnings.filterwarnings('ignore')"
   ]
  },
  {
   "cell_type": "code",
   "execution_count": 2,
   "metadata": {},
   "outputs": [],
   "source": [
    "iris = datasets.load_iris()\n",
    "X = iris.data[:, :2]  # 2x features"
   ]
  },
  {
   "cell_type": "code",
   "execution_count": 3,
   "metadata": {},
   "outputs": [
    {
     "data": {
      "text/plain": [
       "(150, 2)"
      ]
     },
     "execution_count": 3,
     "metadata": {},
     "output_type": "execute_result"
    }
   ],
   "source": [
    "# There are two features and 150 examples\n",
    "X.shape"
   ]
  },
  {
   "cell_type": "markdown",
   "metadata": {},
   "source": [
    "### Performing standard normalization of the data"
   ]
  },
  {
   "cell_type": "code",
   "execution_count": 4,
   "metadata": {},
   "outputs": [
    {
     "data": {
      "text/plain": [
       "(150, 2)"
      ]
     },
     "execution_count": 4,
     "metadata": {},
     "output_type": "execute_result"
    }
   ],
   "source": [
    "x1 = X[:,0]\n",
    "x1.shape = (150,1)\n",
    "x2 = X[:,1]\n",
    "x2.shape = (150,1)\n",
    "x1 = (x1 - np.average(x1)) / np.std(x1)\n",
    "x2 = (x2 - np.average(x2)) / np.std(x2)\n",
    "x1.shape = (150,)\n",
    "x2.shape = (150,)\n",
    "X[:,0] = x1\n",
    "X[:,1] = x2\n",
    "X.shape"
   ]
  },
  {
   "cell_type": "code",
   "execution_count": 12,
   "metadata": {},
   "outputs": [
    {
     "data": {
      "text/plain": [
       "array([[-0.90068117,  1.03205722],\n",
       "       [-1.14301691, -0.1249576 ],\n",
       "       [-1.38535265,  0.33784833],\n",
       "       [-1.50652052,  0.10644536],\n",
       "       [-1.02184904,  1.26346019],\n",
       "       [-0.53717756,  1.95766909],\n",
       "       [-1.50652052,  0.80065426],\n",
       "       [-1.02184904,  0.80065426],\n",
       "       [-1.74885626, -0.35636057],\n",
       "       [-1.14301691,  0.10644536]])"
      ]
     },
     "execution_count": 12,
     "metadata": {},
     "output_type": "execute_result"
    }
   ],
   "source": [
    "# Old data head\n",
    "X[:10]"
   ]
  },
  {
   "cell_type": "markdown",
   "metadata": {},
   "source": [
    "### Computing sigma matrix (covariance matrix)\n",
    "\n",
    "$$ sigma = (\\frac{1}{m}) * X^TX $$\n",
    "\n",
    "- X: shape(150,2)\n",
    "- X<sup>T</sup>: shape(2,150)\n",
    "- X<sup>T</sup>X: shape(2,2)"
   ]
  },
  {
   "cell_type": "code",
   "execution_count": 5,
   "metadata": {},
   "outputs": [
    {
     "data": {
      "text/plain": [
       "(2, 2)"
      ]
     },
     "execution_count": 5,
     "metadata": {},
     "output_type": "execute_result"
    }
   ],
   "source": [
    "m = X.shape[0]\n",
    "sigma = (1/m) * np.dot(X.T,X)\n",
    "sigma.shape"
   ]
  },
  {
   "cell_type": "code",
   "execution_count": 6,
   "metadata": {},
   "outputs": [
    {
     "data": {
      "text/plain": [
       "array([[ 1.        , -0.10936925],\n",
       "       [-0.10936925,  1.        ]])"
      ]
     },
     "execution_count": 6,
     "metadata": {},
     "output_type": "execute_result"
    }
   ],
   "source": [
    "sigma"
   ]
  },
  {
   "cell_type": "markdown",
   "metadata": {},
   "source": [
    "### Compute Eigenvectors for sigma"
   ]
  },
  {
   "cell_type": "code",
   "execution_count": 7,
   "metadata": {},
   "outputs": [
    {
     "data": {
      "text/plain": [
       "(2, 2)"
      ]
     },
     "execution_count": 7,
     "metadata": {},
     "output_type": "execute_result"
    }
   ],
   "source": [
    "u = np.linalg.svd(sigma)\n",
    "U = u[0]\n",
    "S = u[1]\n",
    "U.shape"
   ]
  },
  {
   "cell_type": "code",
   "execution_count": 8,
   "metadata": {},
   "outputs": [],
   "source": [
    "U = U[:,0]\n",
    "U.shape = (2,1)"
   ]
  },
  {
   "cell_type": "code",
   "execution_count": 9,
   "metadata": {},
   "outputs": [
    {
     "data": {
      "text/plain": [
       "array([[-0.70710678],\n",
       "       [ 0.70710678]])"
      ]
     },
     "execution_count": 9,
     "metadata": {},
     "output_type": "execute_result"
    }
   ],
   "source": [
    "U"
   ]
  },
  {
   "cell_type": "markdown",
   "metadata": {},
   "source": [
    "## Calculating new data in R<sup>1</sup> space\n",
    "\n",
    "- X: shape(150,2)\n",
    "- U: shape(2,1)\n",
    "- XU: shape(150,1)"
   ]
  },
  {
   "cell_type": "code",
   "execution_count": 10,
   "metadata": {},
   "outputs": [
    {
     "data": {
      "text/plain": [
       "(150, 1)"
      ]
     },
     "execution_count": 10,
     "metadata": {},
     "output_type": "execute_result"
    }
   ],
   "source": [
    "new_X = np.dot(X,U)\n",
    "new_X.shape"
   ]
  },
  {
   "cell_type": "code",
   "execution_count": 11,
   "metadata": {},
   "outputs": [
    {
     "data": {
      "text/plain": [
       "array([[1.36665243],\n",
       "       [0.71987664],\n",
       "       [1.2184871 ],\n",
       "       [1.14053912],\n",
       "       [1.61595765],\n",
       "       [1.76412298],\n",
       "       [1.63141893],\n",
       "       [1.28870444],\n",
       "       [0.98464315],\n",
       "       [0.88350325]])"
      ]
     },
     "execution_count": 11,
     "metadata": {},
     "output_type": "execute_result"
    }
   ],
   "source": [
    "# New data head\n",
    "new_X[:10]"
   ]
  },
  {
   "cell_type": "markdown",
   "metadata": {},
   "source": [
    "## Getting back to estimate of data in R<sup>2</sup> space (reconstruction)\n",
    "\n",
    "- new_X: shape(150,1)\n",
    "- U<sup>T</sup>: shape(1,2)\n",
    "- XU<sup>T</sup>: shape(150,2)"
   ]
  },
  {
   "cell_type": "code",
   "execution_count": 13,
   "metadata": {},
   "outputs": [
    {
     "data": {
      "text/plain": [
       "(150, 2)"
      ]
     },
     "execution_count": 13,
     "metadata": {},
     "output_type": "execute_result"
    }
   ],
   "source": [
    "old_X_est = np.dot(new_X,U.T)\n",
    "old_X_est.shape"
   ]
  },
  {
   "cell_type": "code",
   "execution_count": 14,
   "metadata": {},
   "outputs": [
    {
     "data": {
      "text/plain": [
       "array([[-0.9663692 ,  0.9663692 ],\n",
       "       [-0.50902966,  0.50902966],\n",
       "       [-0.86160049,  0.86160049],\n",
       "       [-0.80648294,  0.80648294],\n",
       "       [-1.14265462,  1.14265462],\n",
       "       [-1.24742332,  1.24742332],\n",
       "       [-1.15358739,  1.15358739],\n",
       "       [-0.91125165,  0.91125165],\n",
       "       [-0.69624785,  0.69624785],\n",
       "       [-0.62473114,  0.62473114]])"
      ]
     },
     "execution_count": 14,
     "metadata": {},
     "output_type": "execute_result"
    }
   ],
   "source": [
    "# Reconstruction head\n",
    "old_X_est[:10]"
   ]
  },
  {
   "cell_type": "markdown",
   "metadata": {},
   "source": [
    "## Getting the Squared Projection Error\n",
    "\n",
    "$$ error = \\frac{\\sum_{i=1}^{k}S_{ii}}{\\sum_{i=1}^{n} S_{ii}}$$\n",
    "\n",
    "- n: number of original dimensions for data\n",
    "- k: number of dimensions after pca\n",
    "\n",
    "Note that the projection error in this case is relatively attrocious, most likely due to the fact that x1 and x2 in the original dataset are not strongly correlated with each other."
   ]
  },
  {
   "cell_type": "code",
   "execution_count": 15,
   "metadata": {},
   "outputs": [
    {
     "data": {
      "text/plain": [
       "0.5546846249753248"
      ]
     },
     "execution_count": 15,
     "metadata": {},
     "output_type": "execute_result"
    }
   ],
   "source": [
    "S.shape = (2,1)\n",
    "proj_error = np.asscalar(S[0]) / np.sum(S)\n",
    "proj_error"
   ]
  },
  {
   "cell_type": "code",
   "execution_count": 16,
   "metadata": {},
   "outputs": [
    {
     "data": {
      "image/png": "[encoded data removed]",
      "text/plain": [
       "<Figure size 432x288 with 1 Axes>"
      ]
     },
     "metadata": {},
     "output_type": "display_data"
    },
    {
     "name": "stdout",
     "output_type": "stream",
     "text": [
      "correlation value: -0.10936924995064937\n"
     ]
    }
   ],
   "source": [
    "plt.scatter(X[:,0],X[:,1])\n",
    "plt.xlabel(\"x1\")\n",
    "plt.ylabel(\"x2\")\n",
    "plt.show()\n",
    "print(\"correlation value:\",np.corrcoef(X[:,0],X[:,1])[0,1])"
   ]
  },
  {
   "cell_type": "markdown",
   "metadata": {},
   "source": [
    "## Testing implementation with sklearn functions"
   ]
  },
  {
   "cell_type": "code",
   "execution_count": 17,
   "metadata": {},
   "outputs": [],
   "source": [
    "# I am using the implementation from sklearn for comparison\n",
    "from sklearn.decomposition import PCA\n",
    "pca = PCA(n_components=1)\n",
    "new_X_act = pca.fit_transform(X)"
   ]
  },
  {
   "cell_type": "code",
   "execution_count": 18,
   "metadata": {},
   "outputs": [
    {
     "data": {
      "text/plain": [
       "-2.6277591214096674e-14"
      ]
     },
     "execution_count": 18,
     "metadata": {},
     "output_type": "execute_result"
    }
   ],
   "source": [
    "# Testing the new data in R1 space\n",
    "# Note - Due to sklearn implementation choices, the signs of my implementation are all opposite when compared\n",
    "# This checks that the magnitudes and \"signs\" are the same - near 0 so correct\n",
    "np.sum(new_X_act - (-new_X))"
   ]
  },
  {
   "cell_type": "code",
   "execution_count": 19,
   "metadata": {},
   "outputs": [
    {
     "data": {
      "text/plain": [
       "-1.1973061431191923e-13"
      ]
     },
     "execution_count": 19,
     "metadata": {},
     "output_type": "execute_result"
    }
   ],
   "source": [
    "# Testing reconstruction\n",
    "# This checks that the magnitudes and \"signs\" are the same - near 0 so correct\n",
    "old_X_act = pca.inverse_transform(new_X)\n",
    "np.sum(old_X_act - (-old_X_est))"
   ]
  },
  {
   "cell_type": "code",
   "execution_count": 20,
   "metadata": {},
   "outputs": [
    {
     "data": {
      "text/plain": [
       "-1.1102230246251565e-16"
      ]
     },
     "execution_count": 20,
     "metadata": {},
     "output_type": "execute_result"
    }
   ],
   "source": [
    "# Testing the explained ratio variance\n",
    "# Near zero - thus my explained variance value is correct\n",
    "var_act = np.asscalar(pca.explained_variance_ratio_)\n",
    "var_act - proj_error"
   ]
  },
  {
   "cell_type": "code",
   "execution_count": null,
   "metadata": {},
   "outputs": [],
   "source": []
  }
 ],
 "metadata": {
  "kernelspec": {
   "display_name": "Python 3",
   "language": "python",
   "name": "python3"
  },
  "language_info": {
   "codemirror_mode": {
    "name": "ipython",
    "version": 3
   },
   "file_extension": ".py",
   "mimetype": "text/x-python",
   "name": "python",
   "nbconvert_exporter": "python",
   "pygments_lexer": "ipython3",
   "version": "3.6.5"
  }
 },
 "nbformat": 4,
 "nbformat_minor": 2
}
