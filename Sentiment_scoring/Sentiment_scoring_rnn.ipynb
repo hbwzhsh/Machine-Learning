{
 "cells": [
  {
   "cell_type": "markdown",
   "metadata": {},
   "source": [
    "## Simple Non-Static Bidirectional RNN for sentiment classification using Word Embeddings\n",
    "\n",
    "This notebook is geared towards building a model which can read in a sequence of words, and using word embeddings, can give the sequence of words a score based on how positive it is. Given the small size of the dataset (3k phrases) I chose to use word embeddings to represent input words rather than one-hot-vectors. The data is from [UCI](\"https://archive.ics.uci.edu/ml/datasets/Sentiment+Labelled+Sentences#\") and was mentioned in <i>From Group to Individual Labels using Deep Features, Kotzias et. al,. KDD 2015</i>. A sentiment score of 1 means positive and a score of 0 means negative, thus I am using a softmax activation for this prediction. \n",
    "\n",
    "I train both a unidirectional and bidirectional rnn to see if there is a performance boost for either one of these methods. For the bidirectional rnn, It seems most logical for me that I concatenate the activations for the forward and backward lstm cells at different points in the sequence (traditionally with just a forward cell you would get the activation at the last time step). I plan on getting the activation at the RESPECTIVE \"last\" time steps for both the forward and backward lstm cells. Furthermore, based on previous work, I will be using a dense layer on top of the final activation for each model.\n",
    "\n",
    "#### I ultimately found that the unidirectional model has a better accuracy for the testing set than the bidirectional model. Both of the models essentially have the same accuracy score for the training set error."
   ]
  },
  {
   "cell_type": "code",
   "execution_count": 1,
   "metadata": {},
   "outputs": [
    {
     "name": "stderr",
     "output_type": "stream",
     "text": [
      "Using TensorFlow backend.\n"
     ]
    }
   ],
   "source": [
    "import numpy as np\n",
    "import os\n",
    "import tensorflow as tf\n",
    "import matplotlib.pyplot as plt\n",
    "import latex\n",
    "import spacy\n",
    "from sklearn.model_selection import train_test_split\n",
    "from sklearn.utils import shuffle\n",
    "np.random.seed(10)\n",
    "import keras.backend as k\n",
    "\n",
    "%matplotlib inline\n",
    "import warnings\n",
    "warnings.filterwarnings('ignore')"
   ]
  },
  {
   "cell_type": "code",
   "execution_count": 2,
   "metadata": {},
   "outputs": [],
   "source": [
    "os.environ['TF_CPP_MIN_LOG_LEVEL'] = '3'"
   ]
  },
  {
   "cell_type": "markdown",
   "metadata": {},
   "source": [
    "### Data Preprocessing"
   ]
  },
  {
   "cell_type": "code",
   "execution_count": 3,
   "metadata": {},
   "outputs": [],
   "source": [
    "# Loading word spacy embeddings, for any given word the embedding is of shape (300,)\n",
    "# Embeddings can handle different punctuated text so I will not be text.lower()\n",
    "# Embeddings can also handle punctuation so I will not be removing punctuation\n",
    "nlp = spacy.load('en_core_web_lg')"
   ]
  },
  {
   "cell_type": "code",
   "execution_count": 4,
   "metadata": {},
   "outputs": [],
   "source": [
    "# Returns the sentiment score and sentence in vectorized form using word embeddings\n",
    "# Only words which have a corresponding embeddings are used as input for X \n",
    "def clean_line_data(line):\n",
    "    no_vec = 0\n",
    "    token_len = 0 # counts the number of tokens read\n",
    "    aX = []\n",
    "    line_seg = line.split(\"\\t\") # deliminated by tabs\n",
    "    ay = line_seg[1]\n",
    "    \n",
    "    tokens = nlp(line_seg[0])\n",
    "    for token in tokens:\n",
    "        if token.has_vector: # keep only words w/ word embeddings\n",
    "            aX.append(token.vector) # save word embedding\n",
    "            token_len += 1\n",
    "        else:\n",
    "            no_vec += 1\n",
    "    \n",
    "    aX = np.array(aX) # array representation for X data\n",
    "    aX.shape = (token_len,300)\n",
    "    return aX,ay,no_vec"
   ]
  },
  {
   "cell_type": "code",
   "execution_count": 5,
   "metadata": {},
   "outputs": [],
   "source": [
    "# Opens all of the files holding the text and sentiment scores and returns lists of X and y data\n",
    "def get_data(paths):\n",
    "    no_vec = 0 # counts the number of instances of a word having no corresponding embedding vector\n",
    "    X = []\n",
    "    y = []\n",
    "    for path in paths:\n",
    "        with open(path) as file:\n",
    "            i = 0\n",
    "            lines = file.readlines()\n",
    "            for line in lines:\n",
    "                if i != 0: # skip first line\n",
    "                    line = line.strip(\"\\n\")\n",
    "                    aX,ay,a_no_vec = clean_line_data(line)\n",
    "                    no_vec += a_no_vec\n",
    "                    X.append(aX)\n",
    "                    y.append(ay)\n",
    "                    \n",
    "                i += 1\n",
    "                \n",
    "    return X,y,no_vec"
   ]
  },
  {
   "cell_type": "code",
   "execution_count": 6,
   "metadata": {},
   "outputs": [],
   "source": [
    "# Paths for the different labeled text\n",
    "paths = [\"../../data/sentiment_scoring_data/amazon_cells_labelled.txt\",\n",
    "         \"../../data/sentiment_scoring_data/yelp_labelled.txt\",\n",
    "         \"../../data/sentiment_scoring_data/imdb_labelled.txt\"]"
   ]
  },
  {
   "cell_type": "code",
   "execution_count": 7,
   "metadata": {},
   "outputs": [],
   "source": [
    "X,y,no_vec = get_data(paths)"
   ]
  },
  {
   "cell_type": "code",
   "execution_count": 8,
   "metadata": {},
   "outputs": [
    {
     "name": "stdout",
     "output_type": "stream",
     "text": [
      "2997\n",
      "Number of words disgarded b/c no word embedding 1249\n"
     ]
    }
   ],
   "source": [
    "# Number of examples\n",
    "print(len(X))\n",
    "print(\"Number of words disgarded b/c no word embedding\",no_vec)"
   ]
  },
  {
   "cell_type": "code",
   "execution_count": 9,
   "metadata": {},
   "outputs": [
    {
     "name": "stdout",
     "output_type": "stream",
     "text": [
      "max sequence length: 86\n"
     ]
    }
   ],
   "source": [
    "# max length of all of my x input\n",
    "the_max = 0\n",
    "for phrase in X:\n",
    "    let_count = phrase.shape[0]\n",
    "    if let_count > the_max:\n",
    "        the_max = let_count\n",
    "        \n",
    "print(\"max sequence length:\",the_max)"
   ]
  },
  {
   "cell_type": "code",
   "execution_count": 10,
   "metadata": {},
   "outputs": [],
   "source": [
    "# pads all entries to be shape (1,86,27) to be valid input to dynamic rnn\n",
    "def pad_entries(x):\n",
    "    for i in range(len(x)): # each entry is shape (m,27)\n",
    "        to_add = 86 - x[i].shape[0] # the number of zeros to pad\n",
    "        new_entry = np.pad(x[i],(0,to_add),\"constant\",constant_values=0)\n",
    "        new_entry = new_entry[:,0:27]\n",
    "        new_entry.shape = (1,86,27)\n",
    "        x[i] = new_entry\n",
    "    \n",
    "    return x"
   ]
  },
  {
   "cell_type": "code",
   "execution_count": 11,
   "metadata": {},
   "outputs": [],
   "source": [
    "X = pad_entries(X)"
   ]
  },
  {
   "cell_type": "code",
   "execution_count": 12,
   "metadata": {},
   "outputs": [
    {
     "data": {
      "text/plain": [
       "(1, 86, 27)"
      ]
     },
     "execution_count": 12,
     "metadata": {},
     "output_type": "execute_result"
    }
   ],
   "source": [
    "# shape after padding\n",
    "X[0].shape"
   ]
  },
  {
   "cell_type": "code",
   "execution_count": 13,
   "metadata": {},
   "outputs": [
    {
     "data": {
      "text/plain": [
       "array([[-0.42625 ,  0.4431  , -0.34517 , -0.1326  , -0.05816 ,  0.052598,\n",
       "         0.21575 , -0.36721 , -0.04519 ,  2.2444  , -0.29089 ,  0.1667  ,\n",
       "        -0.052051,  0.15964 , -0.42759 , -0.11147 , -0.14951 ,  1.18    ,\n",
       "        -0.19603 ,  0.15592 , -0.06112 , -0.011576,  0.26849 , -0.30175 ,\n",
       "        -0.055796,  0.12116 ,  0.010542]], dtype=float32)"
      ]
     },
     "execution_count": 13,
     "metadata": {},
     "output_type": "execute_result"
    }
   ],
   "source": [
    "# showing what padding has done, original data had 6 dimensions of data, as shown here with the 0 pad\n",
    "X[0][0:10,0]"
   ]
  },
  {
   "cell_type": "code",
   "execution_count": 14,
   "metadata": {},
   "outputs": [
    {
     "name": "stdout",
     "output_type": "stream",
     "text": [
      "Training data set size: 2847\n",
      "Test data set size: 150\n"
     ]
    }
   ],
   "source": [
    "# Getting training and testing data\n",
    "X_train,X_test,y_train,y_test = train_test_split(X,y,test_size=0.05,stratify=y)\n",
    "print(\"Training data set size:\",len(X_train))\n",
    "print(\"Test data set size:\",len(X_test))"
   ]
  },
  {
   "cell_type": "code",
   "execution_count": 22,
   "metadata": {},
   "outputs": [],
   "source": [
    "# change the y encodings from string to a numpy array of shape (1,1)\n",
    "def change_y_shape(y):\n",
    "    for i in range(len(y)):\n",
    "        y_upt = int(y[i])\n",
    "        y_upt = np.array([y_upt])\n",
    "        y_upt.shape = (1,1)\n",
    "        y[i] = y_upt\n",
    "        \n",
    "    return y"
   ]
  },
  {
   "cell_type": "code",
   "execution_count": 23,
   "metadata": {},
   "outputs": [
    {
     "name": "stdout",
     "output_type": "stream",
     "text": [
      "(1, 1)\n"
     ]
    }
   ],
   "source": [
    "y_train = change_y_shape(y_train)\n",
    "y_test = change_y_shape(y_test)\n",
    "print(y_train[0].shape) # new shape of y input values"
   ]
  },
  {
   "cell_type": "markdown",
   "metadata": {},
   "source": [
    "### Unidirectional model"
   ]
  },
  {
   "cell_type": "code",
   "execution_count": 16,
   "metadata": {},
   "outputs": [],
   "source": [
    "def get_len(seq):\n",
    "    lis_ints = tf.sign(tf.reduce_max(tf.abs(seq),2)) \n",
    "    len_seq = tf.reduce_sum(lis_ints, 1) # squash the (?,27) last dim and sum all nonzero entries\n",
    "    len_seq = tf.cast(len_seq, tf.int32)\n",
    "    return len_seq"
   ]
  },
  {
   "cell_type": "code",
   "execution_count": 45,
   "metadata": {},
   "outputs": [],
   "source": [
    "def get_placeholders():\n",
    "    X = tf.placeholder(tf.float32, shape=[None,86,27], name='X')\n",
    "    y = tf.placeholder(tf.float32, shape=[None,1], name='Y')\n",
    "    return X,y"
   ]
  },
  {
   "cell_type": "code",
   "execution_count": 18,
   "metadata": {},
   "outputs": [],
   "source": [
    "# Unidirectional rnn\n",
    "def rnn_cell_unidirectional(the_input):\n",
    "    # the_input = tf.unstack(the_input, axis=1)\n",
    "    forward_cell = tf.nn.rnn_cell.LSTMCell(num_units=128,activation=tf.nn.tanh,reuse=tf.AUTO_REUSE) # forward moving lstm \n",
    "    outputs,curr_state = tf.nn.dynamic_rnn(forward_cell,inputs=the_input,dtype=tf.float32,sequence_length=get_len(the_input))\n",
    "    \n",
    "    flat = tf.reshape(outputs[-1],[1,11008]) # tf.layers.flatten(outputs[-1])\n",
    "    dense = tf.layers.dense(flat,100,activation=tf.nn.relu,kernel_initializer=tf.contrib.layers.xavier_initializer())\n",
    "    out = tf.layers.dense(dense,1,activation=None,kernel_initializer=tf.contrib.layers.xavier_initializer()) # Linear activation, return 1D logits\n",
    "    return out"
   ]
  },
  {
   "cell_type": "code",
   "execution_count": 50,
   "metadata": {},
   "outputs": [],
   "source": [
    "# rnn sigmoid prediction, simply sigmoid activation is used for an input logit value\n",
    "def rnn_cell_pred(logit):\n",
    "    return tf.nn.sigmoid(logit)"
   ]
  },
  {
   "cell_type": "code",
   "execution_count": 38,
   "metadata": {},
   "outputs": [],
   "source": [
    "def pred_threshold(logit):\n",
    "    sig = tf.nn.sigmoid(logit)\n",
    "    thresh = tf.to_int32(sig > 0.5)\n",
    "    return thresh"
   ]
  },
  {
   "cell_type": "code",
   "execution_count": 20,
   "metadata": {},
   "outputs": [],
   "source": [
    "# Cost function for 1D sigmoid logits, this cost function will be used for both of the models\n",
    "def cost_function(logit,label):\n",
    "    return tf.reduce_sum(tf.nn.sigmoid_cross_entropy_with_logits(labels=label,logits=logit))"
   ]
  },
  {
   "cell_type": "code",
   "execution_count": 24,
   "metadata": {},
   "outputs": [
    {
     "name": "stdout",
     "output_type": "stream",
     "text": [
      "cost: 0.6772385\n",
      "logit: [[0.03207447]]\n",
      "pred value: 0.50801796\n"
     ]
    }
   ],
   "source": [
    "ax = X_train[0]\n",
    "ax.shape = (1,86,27)\n",
    "ay = y_train[0]\n",
    "ay.shape = (1,1)\n",
    "tf.reset_default_graph()\n",
    "x,y = get_placeholders() # x is shape(None,86,27)\n",
    "logits = rnn_cell_unidirectional(x)\n",
    "pred = rnn_cell_pred(logits)\n",
    "cost = cost_function(logits,y)\n",
    "\n",
    "init = tf.global_variables_initializer()\n",
    "with tf.Session() as sess:\n",
    "    sess.run(init)\n",
    "    acost = sess.run(cost,feed_dict={x:ax,y:ay})\n",
    "    alogit = sess.run(logits,feed_dict={x:ax})\n",
    "    apred = sess.run(pred,feed_dict={x:ax})\n",
    "    print(\"cost:\",acost)\n",
    "    print(\"logit:\",alogit)\n",
    "    print(\"pred value:\",apred)"
   ]
  },
  {
   "cell_type": "code",
   "execution_count": 28,
   "metadata": {},
   "outputs": [],
   "source": [
    "# Model for sentiment scoring using stochastic gradient descent w/ gradient clipping\n",
    "def model(X_train,y_train,lr=0.01,num_epochs=15,retrain=True,model_n=\"unidirectional\"):\n",
    "    tf.reset_default_graph() # resetting graph\n",
    "    tf.set_random_seed(1)\n",
    "    seed=0\n",
    "    costs=[]\n",
    "    \n",
    "    x,y = get_placeholders()\n",
    "    if model_n == \"unidirectional\":\n",
    "        logits = rnn_cell_unidirectional(x)\n",
    "    else: # bidirectional model\n",
    "        logits = rnn_cell_bidirectional(x)\n",
    "    \n",
    "    cost = cost_function(logits,y)\n",
    "    optimizer = tf.train.AdamOptimizer(learning_rate=lr)\n",
    "    grads, variables = zip(*optimizer.compute_gradients(cost))\n",
    "    grads, _ = tf.clip_by_global_norm(grads, 5.0) # gradient clipping\n",
    "    optimizer = optimizer.apply_gradients(zip(grads, variables))\n",
    "    \n",
    "    init = tf.global_variables_initializer()\n",
    "    saver = tf.train.Saver() # to save/load model\n",
    "    with tf.Session() as sess:\n",
    "        if retrain:\n",
    "            if model_n == \"unidirectional\": # uni-model\n",
    "                saver = tf.train.import_meta_graph(\"../../data/sentiment_scoring_data/uni_model/sent_model.ckpt.meta\")\n",
    "                saver.restore(sess, \"../../data/sentiment_scoring_data/uni_model/sent_model.ckpt\")\n",
    "            else: # bi-model\n",
    "                saver = tf.train.import_meta_graph(\"../../data/sentiment_scoring_data/bi_model/sent_model.ckpt.meta\")\n",
    "                saver.restore(sess, \"../../data/sentiment_scoring_data/bi_model/sent_model.ckpt\")\n",
    "        else:\n",
    "            sess.run(init) # only run init when you are training a new model\n",
    "\n",
    "        for epoch in range(num_epochs):\n",
    "            running_cost = 0\n",
    "            seed += 1\n",
    "            \n",
    "            X_train = shuffle(X_train,random_state=seed) # shuffle data for each epoch\n",
    "            y_train = shuffle(y_train,random_state=seed)\n",
    "            training_set = [(X_train[i],y_train[i]) for i in range(len(X_train))]\n",
    "                \n",
    "            for aset in training_set:\n",
    "                (ax,ay) = aset\n",
    "                _,temp_cost = sess.run([optimizer,cost], feed_dict={x:ax,y:ay})\n",
    "                running_cost += temp_cost\n",
    "                \n",
    "            costs.append(running_cost)\n",
    "            if (epoch+1) % 1 == 0: # printing costs\n",
    "                print(\"Cost at epoch {}: {}\".format(epoch+1,running_cost))\n",
    "                # model saved on every iteration\n",
    "                if model_n == \"unidirectional\": # uni-model\n",
    "                    loc = saver.save(sess, \"../../data/sentiment_scoring_data/uni_model/sent_model.ckpt\")\n",
    "                else: # bi-model\n",
    "                    loc = saver.save(sess, \"../../data/sentiment_scoring_data/bi_model/sent_model.ckpt\")\n",
    "\n",
    "        return costs"
   ]
  },
  {
   "cell_type": "code",
   "execution_count": 29,
   "metadata": {},
   "outputs": [
    {
     "name": "stdout",
     "output_type": "stream",
     "text": [
      "2847\n",
      "2847\n"
     ]
    }
   ],
   "source": [
    "# sanity check\n",
    "print(len(X_train))\n",
    "print(len(y_train))"
   ]
  },
  {
   "cell_type": "code",
   "execution_count": 31,
   "metadata": {},
   "outputs": [
    {
     "name": "stdout",
     "output_type": "stream",
     "text": [
      "Cost at epoch 1: 1955.5669231087486\n",
      "Cost at epoch 2: 1783.3506447506293\n",
      "Cost at epoch 3: 1503.7010729158378\n",
      "Cost at epoch 4: 1181.4088206838853\n",
      "Cost at epoch 5: 851.0725245879033\n",
      "Cost at epoch 6: 527.7145652643511\n",
      "Cost at epoch 7: 346.07508650701794\n",
      "Cost at epoch 8: 232.58740778782834\n",
      "Cost at epoch 9: 170.57248345069718\n",
      "Cost at epoch 10: 117.33293482017939\n",
      "Cost at epoch 11: 78.294432694508\n",
      "Cost at epoch 12: 90.03336765585487\n",
      "Cost at epoch 13: 118.07628174191733\n",
      "Cost at epoch 14: 108.15578115831998\n",
      "Cost at epoch 15: 58.43420699318277\n",
      "Cost at epoch 16: 64.33020812451474\n",
      "Cost at epoch 17: 68.29613438278462\n",
      "Cost at epoch 18: 86.37891139981105\n",
      "Cost at epoch 19: 39.03697910867653\n",
      "Cost at epoch 20: 53.68726428793989\n"
     ]
    }
   ],
   "source": [
    "acosts_uni_1 = model(X_train,y_train,lr=0.001,num_epochs=20,retrain=False,model_n=\"unidirectional\")"
   ]
  },
  {
   "cell_type": "code",
   "execution_count": 33,
   "metadata": {},
   "outputs": [
    {
     "name": "stdout",
     "output_type": "stream",
     "text": [
      "INFO:tensorflow:Restoring parameters from ../../data/sentiment_scoring_data/uni_model/sent_model.ckpt\n",
      "Cost at epoch 1: 11.948031426010399\n",
      "Cost at epoch 2: 2.281987719489817\n",
      "Cost at epoch 3: 2.045294225845879\n",
      "Cost at epoch 4: 2.0119813880712263\n",
      "Cost at epoch 5: 2.014501629047362\n",
      "Cost at epoch 6: 2.0088480683047423\n",
      "Cost at epoch 7: 2.0045826051283586\n",
      "Cost at epoch 8: 1.9899073810322416\n",
      "Cost at epoch 9: 2.0229986808096805\n",
      "Cost at epoch 10: 2.011455059641085\n"
     ]
    }
   ],
   "source": [
    "acosts_uni_2 = model(X_train,y_train,lr=0.0001,num_epochs=10,retrain=True,model_n=\"unidirectional\")"
   ]
  },
  {
   "cell_type": "code",
   "execution_count": 36,
   "metadata": {},
   "outputs": [
    {
     "data": {
      "image/png": "[encoded data removed]",
      "text/plain": [
       "<Figure size 432x288 with 1 Axes>"
      ]
     },
     "metadata": {},
     "output_type": "display_data"
    }
   ],
   "source": [
    "uni_costs = acosts_uni_1 + acosts_uni_2\n",
    "axi_uni = [i for i in range(30)]\n",
    "plt.plot(axi_uni,uni_costs)\n",
    "plt.title(\"Cost vs Epoch, uni-model\")\n",
    "plt.show()"
   ]
  },
  {
   "cell_type": "code",
   "execution_count": 54,
   "metadata": {},
   "outputs": [],
   "source": [
    "from sklearn.metrics import accuracy_score"
   ]
  },
  {
   "cell_type": "code",
   "execution_count": 77,
   "metadata": {},
   "outputs": [],
   "source": [
    "# returns the accuracy of the model - defined by correct_guesses / total_guesses\n",
    "def get_accuracy(X,y,model_n=\"unidirectional\"):\n",
    "    tf.reset_default_graph()\n",
    "    in_x,in_y = get_placeholders()\n",
    "    if model_n == \"unidirectional\":\n",
    "        logits = rnn_cell_unidirectional(in_x)\n",
    "    else:\n",
    "        logits = rnn_cell_bidirectional(in_x)\n",
    "    pred = pred_threshold(logits)\n",
    "    \n",
    "    correct = [] # actual values as 0 or 1 - scalar\n",
    "    guesses = [] # predictions as 0 or 1 - scalar\n",
    "    saver = tf.train.Saver()\n",
    "    init = tf.global_variables_initializer()\n",
    "    with tf.Session() as sess:\n",
    "        if model_n == \"unidirectional\": # uni-model\n",
    "            saver = tf.train.import_meta_graph(\"../../data/sentiment_scoring_data/uni_model/sent_model.ckpt.meta\")\n",
    "            saver.restore(sess, \"../../data/sentiment_scoring_data/uni_model/sent_model.ckpt\")\n",
    "        else: # bi-model\n",
    "            saver = tf.train.import_meta_graph(\"../../data/sentiment_scoring_data/bi_model/sent_model.ckpt.meta\")\n",
    "            saver.restore(sess, \"../../data/sentiment_scoring_data/bi_model/sent_model.ckpt\")\n",
    "        \n",
    "        for i in range(len(X)):\n",
    "            ax = X[i]\n",
    "            apred = sess.run(pred,feed_dict={in_x:ax})\n",
    "            guesses.append(np.asscalar(apred))\n",
    "            \n",
    "    for i in range(len(y)):\n",
    "        correct.append(np.asscalar(y[i]))\n",
    "        \n",
    "    return accuracy_score(correct,guesses)"
   ]
  },
  {
   "cell_type": "code",
   "execution_count": 78,
   "metadata": {},
   "outputs": [
    {
     "name": "stdout",
     "output_type": "stream",
     "text": [
      "INFO:tensorflow:Restoring parameters from ../../data/sentiment_scoring_data/uni_model/sent_model.ckpt\n",
      "INFO:tensorflow:Restoring parameters from ../../data/sentiment_scoring_data/uni_model/sent_model.ckpt\n",
      "unidirectional model train accuracy error: 0.9996487530734106\n",
      "unidirectional model test accuracy error: 0.76\n"
     ]
    }
   ],
   "source": [
    "uni_train_acc = get_accuracy(X_train,y_train,model_n=\"unidirectional\")\n",
    "unit_test_acc = get_accuracy(X_test,y_test,model_n=\"unidirectional\")\n",
    "\n",
    "print(\"unidirectional model train accuracy error:\",uni_train_acc)\n",
    "print(\"unidirectional model test accuracy error:\",unit_test_acc)"
   ]
  },
  {
   "cell_type": "code",
   "execution_count": 53,
   "metadata": {},
   "outputs": [
    {
     "name": "stdout",
     "output_type": "stream",
     "text": [
      "thresh value: [[1]]\n",
      "logits value: [[0.0568537]]\n",
      "pred value: [[0.5142096]]\n"
     ]
    }
   ],
   "source": [
    "ax = X_train[0]\n",
    "ax.shape = (1,86,27)\n",
    "ay = y_train[0]\n",
    "ay.shape = (1,1)\n",
    "tf.reset_default_graph()\n",
    "x,y = get_placeholders()\n",
    "logits = rnn_cell_unidirectional(x)\n",
    "pred = rnn_cell_pred(logits)\n",
    "thresh = pred_threshold(logits)\n",
    "\n",
    "init = tf.global_variables_initializer()\n",
    "with tf.Session() as sess:\n",
    "    sess.run(init)\n",
    "    athresh = sess.run(thresh,feed_dict={x:ax,y:ay})\n",
    "    alogits = sess.run(logits,feed_dict={x:ax,y:ay})\n",
    "    apred = sess.run(pred,feed_dict={x:ax,y:ay})\n",
    "    print(\"thresh value:\",athresh)\n",
    "    print(\"logits value:\",alogits)\n",
    "    print(\"pred value:\",apred)"
   ]
  },
  {
   "cell_type": "markdown",
   "metadata": {},
   "source": [
    "### Bidirectional model"
   ]
  },
  {
   "cell_type": "code",
   "execution_count": 25,
   "metadata": {},
   "outputs": [],
   "source": [
    "# Bidirectional rnn, only accounting for the final activation from both the forward and backward cells\n",
    "def rnn_cell_bidirectional(the_input):\n",
    "    forward_cell = tf.nn.rnn_cell.LSTMCell(num_units=128,activation=tf.nn.tanh) # forward moving lstm \n",
    "    backward_cell = tf.nn.rnn_cell.LSTMCell(num_units=128,activation=tf.nn.tanh) # backwards moving lstm\n",
    "    (output_fw,output_bw),output_states = tf.nn.bidirectional_dynamic_rnn(forward_cell,backward_cell,the_input,dtype=tf.float32,sequence_length=get_len(the_input))\n",
    "    flat = tf.stack([output_fw[-1],output_bw[-1]],axis=0)\n",
    "    flat = tf.layers.flatten(flat)\n",
    "    flat = tf.reshape(flat,[1,22016])\n",
    "    dense = tf.layers.dense(flat,100,activation=tf.nn.relu,kernel_initializer=tf.contrib.layers.xavier_initializer())\n",
    "    out = tf.layers.dense(dense,1,activation=None,kernel_initializer=tf.contrib.layers.xavier_initializer()) # Linear activation, return 1D logits\n",
    "    return out"
   ]
  },
  {
   "cell_type": "code",
   "execution_count": 51,
   "metadata": {},
   "outputs": [
    {
     "name": "stdout",
     "output_type": "stream",
     "text": [
      "cost: 0.74530613\n",
      "logit: [[-0.10173175]]\n",
      "pred value: [[0.474589]]\n"
     ]
    }
   ],
   "source": [
    "# Testing out the bidirectional model computation graph\n",
    "ax = X_train[0]\n",
    "ax.shape = (1,86,27)\n",
    "ay = y_train[0]\n",
    "ay.shape = (1,1)\n",
    "tf.reset_default_graph()\n",
    "x,y = get_placeholders() # x is shape(None,86,27)\n",
    "logits = rnn_cell_bidirectional(x)\n",
    "pred = rnn_cell_pred(logits)\n",
    "cost = cost_function(logits,y)\n",
    "\n",
    "init = tf.global_variables_initializer()\n",
    "with tf.Session() as sess:\n",
    "    sess.run(init)\n",
    "    acost = sess.run(cost,feed_dict={x:ax,y:ay})\n",
    "    alogit = sess.run(logits,feed_dict={x:ax})\n",
    "    apred = sess.run(pred,feed_dict={x:ax})\n",
    "    print(\"cost:\",acost)\n",
    "    print(\"logit:\",alogit)\n",
    "    print(\"pred value:\",apred)"
   ]
  },
  {
   "cell_type": "code",
   "execution_count": 32,
   "metadata": {
    "scrolled": true
   },
   "outputs": [
    {
     "name": "stdout",
     "output_type": "stream",
     "text": [
      "Cost at epoch 1: 1950.8085884859725\n",
      "Cost at epoch 2: 1674.6264602640194\n",
      "Cost at epoch 3: 1323.3944950089603\n",
      "Cost at epoch 4: 967.0723646387777\n",
      "Cost at epoch 5: 626.7452456724732\n",
      "Cost at epoch 6: 360.0742524244736\n",
      "Cost at epoch 7: 286.23958671416074\n",
      "Cost at epoch 8: 134.65471558706813\n",
      "Cost at epoch 9: 207.515838171609\n",
      "Cost at epoch 10: 151.3999953450445\n",
      "Cost at epoch 11: 66.53325084243198\n",
      "Cost at epoch 12: 74.10580087662296\n",
      "Cost at epoch 13: 76.1603340634997\n",
      "Cost at epoch 14: 56.925247481853596\n",
      "Cost at epoch 15: 50.30078152669971\n",
      "Cost at epoch 16: 84.50240859897683\n",
      "Cost at epoch 17: 46.5910469261229\n",
      "Cost at epoch 18: 65.51284217001809\n",
      "Cost at epoch 19: 41.11308770264161\n",
      "Cost at epoch 20: 62.776584311033396\n"
     ]
    }
   ],
   "source": [
    "acosts_bi_1 = model(X_train,y_train,lr=0.001,num_epochs=20,retrain=False,model_n=\"bidirectional\")"
   ]
  },
  {
   "cell_type": "code",
   "execution_count": 34,
   "metadata": {},
   "outputs": [
    {
     "name": "stdout",
     "output_type": "stream",
     "text": [
      "INFO:tensorflow:Restoring parameters from ../../data/sentiment_scoring_data/bi_model/sent_model.ckpt\n",
      "Cost at epoch 1: 17.112968602047655\n",
      "Cost at epoch 2: 2.125315983339957\n",
      "Cost at epoch 3: 2.0195084349674963\n",
      "Cost at epoch 4: 1.9972872729960554\n",
      "Cost at epoch 5: 1.996239569736724\n",
      "Cost at epoch 6: 1.9937614428776549\n",
      "Cost at epoch 7: 1.989487077111228\n",
      "Cost at epoch 8: 1.9808393009001175\n",
      "Cost at epoch 9: 1.9997864094411817\n",
      "Cost at epoch 10: 1.9939129222374499\n"
     ]
    }
   ],
   "source": [
    "acosts_bi_2 = model(X_train,y_train,lr=0.0001,num_epochs=10,retrain=True,model_n=\"bidirectional\")"
   ]
  },
  {
   "cell_type": "code",
   "execution_count": 35,
   "metadata": {},
   "outputs": [
    {
     "data": {
      "image/png": "[encoded data removed]",
      "text/plain": [
       "<Figure size 432x288 with 1 Axes>"
      ]
     },
     "metadata": {},
     "output_type": "display_data"
    }
   ],
   "source": [
    "bi_costs = acosts_bi_1 + acosts_bi_2\n",
    "axi_bi = [i for i in range(30)]\n",
    "plt.plot(axi_bi,bi_costs)\n",
    "plt.title(\"Cost vs Epoch, bi-model\")\n",
    "plt.show()"
   ]
  },
  {
   "cell_type": "code",
   "execution_count": 79,
   "metadata": {},
   "outputs": [
    {
     "name": "stdout",
     "output_type": "stream",
     "text": [
      "INFO:tensorflow:Restoring parameters from ../../data/sentiment_scoring_data/bi_model/sent_model.ckpt\n",
      "INFO:tensorflow:Restoring parameters from ../../data/sentiment_scoring_data/bi_model/sent_model.ckpt\n",
      "bidirectional model train accuracy error: 0.9996487530734106\n",
      "bidirectional model test accuracy error: 0.6933333333333334\n"
     ]
    }
   ],
   "source": [
    "bi_train_acc = get_accuracy(X_train,y_train,model_n=\"bidirectional\")\n",
    "bi_test_acc = get_accuracy(X_test,y_test,model_n=\"bidirectional\")\n",
    "\n",
    "print(\"bidirectional model train accuracy error:\",bi_train_acc)\n",
    "print(\"bidirectional model test accuracy error:\",bi_test_acc)"
   ]
  },
  {
   "cell_type": "code",
   "execution_count": null,
   "metadata": {},
   "outputs": [],
   "source": []
  }
 ],
 "metadata": {
  "kernelspec": {
   "display_name": "Python 3",
   "language": "python",
   "name": "python3"
  },
  "language_info": {
   "codemirror_mode": {
    "name": "ipython",
    "version": 3
   },
   "file_extension": ".py",
   "mimetype": "text/x-python",
   "name": "python",
   "nbconvert_exporter": "python",
   "pygments_lexer": "ipython3",
   "version": "3.6.5"
  }
 },
 "nbformat": 4,
 "nbformat_minor": 2
}
