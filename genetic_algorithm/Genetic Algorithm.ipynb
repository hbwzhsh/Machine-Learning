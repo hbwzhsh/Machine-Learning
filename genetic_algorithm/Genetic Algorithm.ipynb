{
 "cells": [
  {
   "cell_type": "markdown",
   "metadata": {},
   "source": [
    "### Genetic algorithm to maximize a function by changing parameters"
   ]
  },
  {
   "cell_type": "code",
   "execution_count": 1,
   "metadata": {},
   "outputs": [],
   "source": [
    "import matplotlib.pyplot as plt\n",
    "import numpy as np\n",
    "import latex\n",
    "import random\n",
    "from sklearn.utils import shuffle\n",
    "from statistics import mean\n",
    "\n",
    "%matplotlib inline\n",
    "import warnings\n",
    "warnings.filterwarnings('ignore')"
   ]
  },
  {
   "cell_type": "markdown",
   "metadata": {},
   "source": [
    "#### Optimization Objective, Maximize:\n",
    "$$ f(\\beta_{1},\\beta_{2},\\beta_{3},\\beta_{4},\\beta_{5},\\beta_{6}) = -\\beta_{1} + \\beta_{2} + \\beta_{3} - \\beta_{4} - \\beta_{5} + \\beta_{6} $$\n",
    "\n",
    "This is a toy problem, with the only complexity being the occurance of mixed sign parameters. Note - this is especially trivial because the parameters are independent from one another."
   ]
  },
  {
   "cell_type": "code",
   "execution_count": 2,
   "metadata": {},
   "outputs": [],
   "source": [
    "def initialize_parameters():\n",
    "    \"\"\" Returns random values between (-10,10)\n",
    "    \"\"\"    \n",
    "    return np.random.rand(6)*10 * np.random.choice([1,-1],6)"
   ]
  },
  {
   "cell_type": "code",
   "execution_count": 3,
   "metadata": {},
   "outputs": [],
   "source": [
    "def evaluate_fitness(parameters):\n",
    "    \"\"\" Returns the evaluation of the function f(beta_1,...)\n",
    "    \"\"\"\n",
    "    p = parameters\n",
    "    return -p[0]+p[1]+p[2]-p[3]-p[4]+p[5]"
   ]
  },
  {
   "cell_type": "code",
   "execution_count": 4,
   "metadata": {},
   "outputs": [],
   "source": [
    "def select_stongest_parents(parents):\n",
    "    \"\"\" Returns the 4 (out of 8) parents with the largest fitness values\n",
    "    \"\"\"\n",
    "    scores = [(parent,evaluate_fitness(parent)) for parent in parents] # [(parameters,score),...]\n",
    "    scores.sort(key=lambda tup:tup[1], reverse=True)\n",
    "    best_parents = [tup[0] for tup in scores[0:4]]\n",
    "    best_fitness_values = [tup[1] for tup in scores[0:4]]\n",
    "    return best_parents,best_fitness_values"
   ]
  },
  {
   "cell_type": "code",
   "execution_count": 5,
   "metadata": {},
   "outputs": [],
   "source": [
    "def create_offspring(parents):\n",
    "    \"\"\" Creates all possible parent/children genetic combinations (3!) and randomly selects 4\n",
    "        Includes crossover and mutation.\n",
    "    \"\"\"\n",
    "    children = [] # all created children\n",
    "    for i in range(len(parents)):\n",
    "        parent = parents[i]\n",
    "        for j in range(i+1,len(parents)): # ging through remaining parents\n",
    "            sub_parent = parents[j]\n",
    "            cross_over_point = random.randint(1,4) # cross point allows each parent at least one parameter to change\n",
    "            child = np.zeros((6,))\n",
    "            child[:cross_over_point] = parent[:cross_over_point]\n",
    "            child[cross_over_point:] = sub_parent[cross_over_point:]\n",
    "            child = child * (np.random.rand(6)*2*np.random.choice([1,0],6)) # on avg half of the child cells will have mutations\n",
    "            children.append(child)\n",
    "            \n",
    "    shuffle(children)\n",
    "    return children[:4]"
   ]
  },
  {
   "cell_type": "code",
   "execution_count": 6,
   "metadata": {},
   "outputs": [],
   "source": [
    "def genetric_algorithm(generations=50):\n",
    "    \"\"\" Runs \"natural selection\" process for a set number of generations\n",
    "    \"\"\"\n",
    "    parents = [initialize_parameters() for _ in range(8)] # initialize population of 8\n",
    "    fitness_values = []\n",
    "    for _ in range(generations):\n",
    "        strongest_parents,best_fitness_values = select_stongest_parents(parents)\n",
    "        fitness_values.append(mean(best_fitness_values))\n",
    "        children = create_offspring(strongest_parents)\n",
    "        parents = strongest_parents + children\n",
    "    return fitness_values"
   ]
  },
  {
   "cell_type": "code",
   "execution_count": 7,
   "metadata": {},
   "outputs": [],
   "source": [
    "fitness_values = genetric_algorithm(100)"
   ]
  },
  {
   "cell_type": "code",
   "execution_count": 8,
   "metadata": {},
   "outputs": [
    {
     "data": {
      "image/png": "[encoded data removed]",
      "text/plain": [
       "<Figure size 432x288 with 1 Axes>"
      ]
     },
     "metadata": {},
     "output_type": "display_data"
    }
   ],
   "source": [
    "plt.plot([i for i in range(1,101)],fitness_values)\n",
    "plt.title(\"Fitness per Generation\")\n",
    "plt.xlabel(\"Generation\")\n",
    "plt.ylabel(\"Fitness\")\n",
    "plt.show()"
   ]
  },
  {
   "cell_type": "code",
   "execution_count": null,
   "metadata": {},
   "outputs": [],
   "source": []
  }
 ],
 "metadata": {
  "kernelspec": {
   "display_name": "Python 3",
   "language": "python",
   "name": "python3"
  },
  "language_info": {
   "codemirror_mode": {
    "name": "ipython",
    "version": 3
   },
   "file_extension": ".py",
   "mimetype": "text/x-python",
   "name": "python",
   "nbconvert_exporter": "python",
   "pygments_lexer": "ipython3",
   "version": "3.6.5"
  }
 },
 "nbformat": 4,
 "nbformat_minor": 2
}
