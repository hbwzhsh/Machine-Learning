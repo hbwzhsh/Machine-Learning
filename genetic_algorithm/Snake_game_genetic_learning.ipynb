{
 "cells": [
  {
   "cell_type": "markdown",
   "metadata": {},
   "source": [
    "## Applying a genetic algorithm to train a bot to play the snake game"
   ]
  },
  {
   "cell_type": "code",
   "execution_count": 1,
   "metadata": {},
   "outputs": [],
   "source": [
    "import numpy as np\n",
    "import scipy\n",
    "import random\n",
    "from statistics import mean\n",
    "import json"
   ]
  },
  {
   "cell_type": "markdown",
   "metadata": {},
   "source": [
    "### Snake Game Logic"
   ]
  },
  {
   "cell_type": "code",
   "execution_count": 2,
   "metadata": {},
   "outputs": [],
   "source": [
    "class snake_game:\n",
    "    \"\"\" Representing the snake game\n",
    "    \"\"\"\n",
    "    def __init__(self,x,y):\n",
    "        \"\"\" initialize the board to an initial state, ideally atleast 10x10\n",
    "        \"\"\"\n",
    "        self.x = x # the x-dimension for the game window\n",
    "        self.y = y # the y-dimension for the game window\n",
    "        self.board = np.zeros((x,y)) # zeros are area which contain nothing\n",
    "        self.non_snake_positions = self.get_all_board_indices() # tuples of (x,y) pairs where the snake is not\n",
    "        self.snake_positions = [] # tuples of (x,y) pairs where the snake is\n",
    "        self.points = 0 # the player points (fitness)\n",
    "        self.reward_position = None # (x,y) position on the board will always be the reward\n",
    "        self.game_over = False # specifies when the game is complete\n",
    "        self.head_position = None # (x,y) position on the board for the head of snake\n",
    "    \n",
    "    def get_all_board_indices(self):\n",
    "        \"\"\" Makes indices for all board positions\n",
    "        \"\"\"\n",
    "        indices = []\n",
    "        for i in range(self.x):\n",
    "            for j in range(self.y):\n",
    "                indices.append((i,j))\n",
    "        return indices\n",
    "    \n",
    "    def start_game(self):\n",
    "        \"\"\" Initializes the snake and the first reward\n",
    "        \"\"\"\n",
    "        mid_point_x = self.x // 2\n",
    "        mid_point_y = self.y // 2\n",
    "        \n",
    "        self.snake_positions.append((mid_point_x,mid_point_y)) # head\n",
    "        self.snake_positions.append((mid_point_x,mid_point_y-1)) # body\n",
    "        self.snake_positions.append((mid_point_x,mid_point_y-2)) # body\n",
    "        self.head_position = (mid_point_x,mid_point_y)\n",
    "        \n",
    "        self.non_snake_positions.remove((mid_point_x,mid_point_y)) # remove snake-positions\n",
    "        self.non_snake_positions.remove((mid_point_x,mid_point_y-1))\n",
    "        self.non_snake_positions.remove((mid_point_x,mid_point_y-2))\n",
    "        \n",
    "        self.board[mid_point_x,mid_point_y] = 3 # head\n",
    "        self.board[mid_point_x,mid_point_y-1] = 2 # body\n",
    "        self.board[mid_point_x,mid_point_y-2] = 2 # body\n",
    "        \n",
    "        reward_spot = self.place_reward()\n",
    "        self.board[reward_spot[0],reward_spot[1]] = 1 # reward\n",
    "    \n",
    "    def make_a_move(self, move):\n",
    "        \"\"\" move = \"left\",\"right\",\"up\",\"down\" (absolute positioning)\n",
    "        \"\"\"\n",
    "        old_head = self.snake_positions[0]\n",
    "        old_tail = self.snake_positions[-1]\n",
    "        new_head = old_head\n",
    "        \n",
    "        if move == \"up\":\n",
    "            new_head = (new_head[0]-1,new_head[1]) # updating x position\n",
    "        elif move == \"down\":\n",
    "            new_head = (new_head[0]+1,new_head[1]) # updating x position\n",
    "        elif move == \"left\":\n",
    "            new_head = (new_head[0],new_head[1]-1) # updating y position\n",
    "        else: # right\n",
    "            new_head = (new_head[0],new_head[1]+1) # updating y position\n",
    "        \n",
    "        game_over = self.check_if_game_over(new_head)\n",
    "        self.game_over = game_over\n",
    "        \n",
    "        if not game_over:\n",
    "            new_reward = self.check_if_reward_found(new_head)\n",
    "            self.head_position = new_head\n",
    "            self.snake_positions.insert(0,new_head) # add the new head\n",
    "            self.non_snake_positions.remove(new_head) # update the non-snake positions\n",
    "            self.board[old_head[0],old_head[1]] = 2 # updating old head to be body\n",
    "            self.board[new_head[0],new_head[1]] = 3 # appending the the head\n",
    "            \n",
    "            if new_reward == None: # did not reach the reward\n",
    "                del self.snake_positions[-1] # remove the old tail\n",
    "                self.non_snake_positions.append(old_tail)\n",
    "                self.board[old_tail[0],old_tail[1]] = 0 # removing old tail from board\n",
    "            \n",
    "            else: # the reward was reached, keep the old tail\n",
    "                self.board[new_reward[0],new_reward[1]] = 1\n",
    "                \n",
    "        return self.board,self.points,self.game_over\n",
    "        \n",
    "    def check_if_reward_found(self,new_head):\n",
    "        \"\"\" If reached a reward, updates position of new reward and gets position of new tail\n",
    "        \"\"\"\n",
    "        if new_head == self.reward_position:\n",
    "            self.points += 1\n",
    "            new_reward = self.place_reward()\n",
    "            return new_reward\n",
    "        return None\n",
    "    \n",
    "    def check_if_game_over(self,new_head):\n",
    "        \"\"\" Returns True if the game is over\n",
    "        \"\"\"\n",
    "        if new_head in self.snake_positions[1:]: # hit own body\n",
    "            return True\n",
    "        elif new_head[0] < 0 or new_head[0] >= self.x: # x-coordinate out of bounds\n",
    "            return True\n",
    "        elif new_head[1] < 0 or new_head[1] >= self.y: # y-coordinate out of bounds\n",
    "            return True\n",
    "        elif len(self.snake_positions) == self.x*self.y-1: # won the game\n",
    "            return True\n",
    "        else:\n",
    "            return False\n",
    "    \n",
    "    def place_reward(self):\n",
    "        \"\"\" Randomly places the reward \n",
    "        \"\"\"\n",
    "        spot = random.choice(self.non_snake_positions)\n",
    "        self.reward_position = spot\n",
    "        return spot\n"
   ]
  },
  {
   "cell_type": "code",
   "execution_count": 3,
   "metadata": {},
   "outputs": [],
   "source": [
    "game = snake_game(10,10)"
   ]
  },
  {
   "cell_type": "code",
   "execution_count": 4,
   "metadata": {},
   "outputs": [],
   "source": [
    "game.start_game()"
   ]
  },
  {
   "cell_type": "code",
   "execution_count": 5,
   "metadata": {},
   "outputs": [
    {
     "data": {
      "text/plain": [
       "array([[0., 0., 0., 0., 0., 0., 0., 0., 0., 0.],\n",
       "       [0., 0., 0., 0., 1., 0., 0., 0., 0., 0.],\n",
       "       [0., 0., 0., 0., 0., 0., 0., 0., 0., 0.],\n",
       "       [0., 0., 0., 0., 0., 0., 0., 0., 0., 0.],\n",
       "       [0., 0., 0., 0., 0., 0., 0., 0., 0., 0.],\n",
       "       [0., 0., 0., 2., 2., 3., 0., 0., 0., 0.],\n",
       "       [0., 0., 0., 0., 0., 0., 0., 0., 0., 0.],\n",
       "       [0., 0., 0., 0., 0., 0., 0., 0., 0., 0.],\n",
       "       [0., 0., 0., 0., 0., 0., 0., 0., 0., 0.],\n",
       "       [0., 0., 0., 0., 0., 0., 0., 0., 0., 0.]])"
      ]
     },
     "execution_count": 5,
     "metadata": {},
     "output_type": "execute_result"
    }
   ],
   "source": [
    "game.board"
   ]
  },
  {
   "cell_type": "code",
   "execution_count": 6,
   "metadata": {},
   "outputs": [
    {
     "name": "stdout",
     "output_type": "stream",
     "text": [
      "0 False\n"
     ]
    },
    {
     "data": {
      "text/plain": [
       "array([[0., 0., 0., 0., 0., 0., 0., 0., 0., 0.],\n",
       "       [0., 0., 0., 0., 1., 0., 0., 0., 0., 0.],\n",
       "       [0., 0., 0., 0., 0., 0., 0., 0., 0., 0.],\n",
       "       [0., 0., 0., 0., 0., 0., 0., 0., 0., 0.],\n",
       "       [0., 0., 0., 0., 0., 3., 0., 0., 0., 0.],\n",
       "       [0., 0., 0., 0., 2., 2., 0., 0., 0., 0.],\n",
       "       [0., 0., 0., 0., 0., 0., 0., 0., 0., 0.],\n",
       "       [0., 0., 0., 0., 0., 0., 0., 0., 0., 0.],\n",
       "       [0., 0., 0., 0., 0., 0., 0., 0., 0., 0.],\n",
       "       [0., 0., 0., 0., 0., 0., 0., 0., 0., 0.]])"
      ]
     },
     "execution_count": 6,
     "metadata": {},
     "output_type": "execute_result"
    }
   ],
   "source": [
    "board,points,game_over = game.make_a_move(\"up\")\n",
    "print(points,game_over)\n",
    "board"
   ]
  },
  {
   "cell_type": "markdown",
   "metadata": {},
   "source": [
    "### Genetic Algorithm"
   ]
  },
  {
   "cell_type": "code",
   "execution_count": 7,
   "metadata": {},
   "outputs": [
    {
     "name": "stdout",
     "output_type": "stream",
     "text": [
      "[(0, 1), (0, 2), (0, 3), (0, 4), (1, 2), (1, 3), (1, 4), (2, 3), (2, 4), (3, 4)]\n",
      "[(2, 3), (2, 4), (3, 4), (1, 2), (1, 4)]\n"
     ]
    }
   ],
   "source": [
    "num_parents = 10\n",
    "num_offspring = int(num_parents / 2)\n",
    "parent_combos = [] # list of tuples of all possible parent combinations, for crossover\n",
    "for i in range(num_offspring):\n",
    "    for j in range(num_offspring):\n",
    "        if i != j and (j,i) not in parent_combos:\n",
    "            parent_combos.append((i,j))\n",
    "            \n",
    "print(parent_combos)\n",
    "print(random.sample(parent_combos,int(len(parent_combos)/2)))"
   ]
  },
  {
   "cell_type": "code",
   "execution_count": 8,
   "metadata": {},
   "outputs": [],
   "source": [
    "def initialize_parameters(h_size,board_width,num_parents):\n",
    "    \"\"\" Initialized dictionaries with parameters w1,b1,w2,b2\n",
    "    args:\n",
    "        board_width: length of a side of the board (assuming square)\n",
    "        h_size: the number of nodes in hidden layer\n",
    "        num_parents: number of parents to initialize\n",
    "    \"\"\"\n",
    "    parameter_list = [] # list of dicts which each hold random initializations for all the parameters\n",
    "    for _ in range(num_parents):\n",
    "        parent_dict = {}\n",
    "        parent_dict[\"w1\"] = np.random.rand(5,h_size) # board_width**2 @@@@\n",
    "        parent_dict[\"b1\"] = np.random.rand(h_size)\n",
    "        parent_dict[\"w2\"] = np.random.rand(h_size,4)\n",
    "        parent_dict[\"b2\"] = np.random.rand(4)\n",
    "        parameter_list.append(parent_dict)\n",
    "    return parameter_list"
   ]
  },
  {
   "cell_type": "code",
   "execution_count": 9,
   "metadata": {},
   "outputs": [],
   "source": [
    "def softmax(x):\n",
    "    return np.exp(x)/sum(np.exp(x))"
   ]
  },
  {
   "cell_type": "code",
   "execution_count": 10,
   "metadata": {},
   "outputs": [],
   "source": [
    "def forward_prop(board_flat,parameters):\n",
    "    \"\"\" forward propagation to get the prediction, tanh activation and softmax -> hardmax output, prediction for direction to move\n",
    "        Used to make a single move in a game.\n",
    "    args:\n",
    "        board_flat: the flattened board, as input\n",
    "        parameters: the weight and bias parameters in dict (for a single parent)\n",
    "    \"\"\"\n",
    "    z1 = board_flat.dot(parameters[\"w1\"]) + parameters[\"b1\"]\n",
    "    a1 = np.tanh(z1)\n",
    "    z2 = a1.dot(parameters[\"w2\"]) + parameters[\"b2\"]\n",
    "    pred = np.argmax(softmax(z2))\n",
    "    return pred"
   ]
  },
  {
   "cell_type": "code",
   "execution_count": 21,
   "metadata": {},
   "outputs": [],
   "source": [
    "def evaluate_fitness(parameters,show_moves=False): \n",
    "    \"\"\" Play the game with the parent to determine fitness (score from game)\n",
    "    \"\"\"\n",
    "    game = snake_game(10,10)\n",
    "    game.start_game()\n",
    "    board = game.board\n",
    "    game_over = False\n",
    "    i = 0\n",
    "    while not game_over: # while the bot has not lost yet\n",
    "        i += 1\n",
    "        if show_moves == True:\n",
    "            print(board)\n",
    "            print(\"-----------------------------------------\")\n",
    "        \n",
    "        current_head = game.head_position # position where the bot is\n",
    "        reward_position = game.reward_position\n",
    "        features = np.zeros(5)\n",
    "        if current_head[1]+1 <= 9:\n",
    "            features[0] += board[current_head[0],current_head[1]+1] / max(board[current_head[0],current_head[1]+1],1)\n",
    "        if current_head[1]-1 >= 0:\n",
    "            features[1] += board[current_head[0],current_head[1]-1] / max(board[current_head[0],current_head[1]-1],1)\n",
    "        if current_head[0]+1 <= 9:\n",
    "            features[2] += board[current_head[0]+1,current_head[1]] / max(board[current_head[0]+1,current_head[1]],1)\n",
    "        if current_head[0]-1 >= 0:\n",
    "            features[3] += board[current_head[0]-1,current_head[1]] / max(board[current_head[0]-1,current_head[1]],1)\n",
    "        if current_head[0]-reward_position[0] != 0:\n",
    "            features[4] = (current_head[1]-reward_position[1]) / (current_head[0]-reward_position[0]) # angle to reward\n",
    "        \n",
    "        # features = board.flatten()\n",
    "        pred = forward_prop(features,parameters)\n",
    "        if pred == 0:\n",
    "            move = \"up\"\n",
    "        elif pred == 1:\n",
    "            move = \"down\"\n",
    "        elif pred == 2:\n",
    "            move = \"left\"\n",
    "        else:\n",
    "            move = \"right\"\n",
    "            \n",
    "        board,points,game_over = game.make_a_move(move)\n",
    "        if i == 1500:\n",
    "            break\n",
    "        \n",
    "    return points # returns the points at the end of the game"
   ]
  },
  {
   "cell_type": "code",
   "execution_count": 12,
   "metadata": {},
   "outputs": [
    {
     "name": "stdout",
     "output_type": "stream",
     "text": [
      "0\n"
     ]
    }
   ],
   "source": [
    "h_size = 500\n",
    "board_width = 10\n",
    "num_parents = 10\n",
    "parameters_list = initialize_parameters(h_size,board_width,num_parents)\n",
    "parameters = parameters_list[0]\n",
    "score = evaluate_fitness(parameters)\n",
    "print(score)"
   ]
  },
  {
   "cell_type": "code",
   "execution_count": 13,
   "metadata": {},
   "outputs": [],
   "source": [
    "def select_stongest_parents(parents):\n",
    "    \"\"\" Returns 50% of the parents with the highest fitness\n",
    "    \"\"\"\n",
    "    len_parents = len(parents)\n",
    "    scores = [(parameters,evaluate_fitness(parameters)) for parameters in parents] # [(parameters,score),...]\n",
    "    scores.sort(key=lambda tup:tup[1], reverse=True)\n",
    "    best_parents = [tup[0] for tup in scores[0:int(len_parents/2)]]\n",
    "    best_fitness_values = [tup[1] for tup in scores[0:int(len_parents/2)]]\n",
    "    return best_parents,best_fitness_values"
   ]
  },
  {
   "cell_type": "code",
   "execution_count": 14,
   "metadata": {},
   "outputs": [],
   "source": [
    "def get_parent_combos(num_parents):\n",
    "    \"\"\" Returns list of tuples of all possible parent combinations, for crossover\n",
    "    \"\"\"\n",
    "    num_offspring = int(num_parents / 2)\n",
    "    parent_combos = []\n",
    "    for i in range(num_offspring):\n",
    "        for j in range(num_offspring):\n",
    "            if i != j and (j,i) not in parent_combos:\n",
    "                parent_combos.append((i,j))\n",
    "    return parent_combos"
   ]
  },
  {
   "cell_type": "code",
   "execution_count": 40,
   "metadata": {},
   "outputs": [],
   "source": [
    "def create_offspring(parents,parent_combos):\n",
    "    \"\"\" Creates len_parents/2 children crossover combinations. Includes crossover and mutation.\n",
    "    \"\"\"\n",
    "    parent_combos = random.sample(parent_combos,int(len(parent_combos)/2))\n",
    "    children = [] # all created children\n",
    "    for combo in parent_combos:\n",
    "        parent_1 = parents[combo[0]]\n",
    "        parent_2 = parents[combo[1]]\n",
    "        \n",
    "        w1_shape = parent_1[\"w1\"].shape\n",
    "        w1_mask = np.random.choice([1,0],w1_shape[0]*w1_shape[1])\n",
    "        b1_shape = parent_1[\"b1\"].shape\n",
    "        b1_mask = np.random.choice([1,0],len(b1_shape))\n",
    "        w2_shape = parent_1[\"w2\"].shape\n",
    "        w2_mask = np.random.choice([1,0],w2_shape[0]*w2_shape[1])\n",
    "        b2_shape = parent_1[\"b2\"].shape\n",
    "        b2_mask = np.random.choice([1,0],len(b2_shape))\n",
    "        \n",
    "        # crossover:\n",
    "        child_w1 = (parent_1[\"w1\"].flatten() * w1_mask) + (parent_2[\"w1\"].flatten() * (w1_mask ^ 1))\n",
    "        child_b1 = (parent_1[\"b1\"] * b1_mask) + (parent_2[\"b1\"] * (b1_mask ^ 1)) # no need to flatten\n",
    "        child_w2 = (parent_1[\"w2\"].flatten() * w2_mask) + (parent_2[\"w2\"].flatten() * (w2_mask ^ 1))\n",
    "        child_b2 = (parent_1[\"b2\"] * b2_mask) + (parent_2[\"b2\"] * (b2_mask ^ 1))\n",
    "        \n",
    "        #mutation (50% of chromosomes mutated):\n",
    "        child_w1 = child_w1 + (np.random.rand(len(child_w1))*1*np.random.choice([0,1],len(child_w1)))\n",
    "        child_w1.shape = w1_shape\n",
    "        child_b1 = child_b1 + (np.random.rand(len(child_b1))*1*np.random.choice([0,1],len(child_b1)))\n",
    "        child_w2 = child_w2 + (np.random.rand(len(child_w2))*1*np.random.choice([0,1],len(child_w2)))\n",
    "        child_w2.shape = w2_shape\n",
    "        child_b2 = child_b2 + (np.random.rand(len(child_b2))*1*np.random.choice([0,1],len(child_b2)))\n",
    "        \n",
    "        new_child = {} # creating new child\n",
    "        new_child[\"w1\"] = child_w1\n",
    "        new_child[\"b1\"] = child_b1\n",
    "        new_child[\"w2\"] = child_w2\n",
    "        new_child[\"b2\"] = child_b2\n",
    "        children.append(new_child)\n",
    "            \n",
    "    return children"
   ]
  },
  {
   "cell_type": "code",
   "execution_count": 16,
   "metadata": {},
   "outputs": [
    {
     "name": "stdout",
     "output_type": "stream",
     "text": [
      "0\n",
      "5 [0, 0, 0, 0, 0]\n",
      "5 dict_keys(['w1', 'b1', 'w2', 'b2'])\n"
     ]
    }
   ],
   "source": [
    "## testing intermediate steps\n",
    "h_size = 200\n",
    "board_width = 10\n",
    "num_parents = 10\n",
    "parameters_list = initialize_parameters(h_size,board_width,num_parents)\n",
    "parameters = parameters_list[0]\n",
    "score = evaluate_fitness(parameters)\n",
    "print(score)\n",
    "\n",
    "best_parents,best_fitness_values = select_stongest_parents(parameters_list)\n",
    "print(len(best_parents),best_fitness_values)\n",
    "\n",
    "new_children = create_offspring(best_parents,parent_combos)\n",
    "print(len(new_children),new_children[0].keys())"
   ]
  },
  {
   "cell_type": "code",
   "execution_count": 38,
   "metadata": {},
   "outputs": [],
   "source": [
    "def genetric_algorithm(generations=5,h_size=200,board_width=10,num_parents=80):\n",
    "    \"\"\" Runs \"natural selection\" process for a set number of generations\n",
    "    \"\"\"\n",
    "    parent_combos = get_parent_combos(num_parents)\n",
    "    parents = initialize_parameters(h_size,board_width,num_parents) # initialize population\n",
    "    fitness_values = []\n",
    "    for i in range(generations):\n",
    "        strongest_parents,best_fitness_values = select_stongest_parents(parents)\n",
    "        fitness_values.append(mean(best_fitness_values))\n",
    "        children = create_offspring(strongest_parents,parent_combos)\n",
    "        parents = strongest_parents + children\n",
    "    return fitness_values,parents"
   ]
  },
  {
   "cell_type": "code",
   "execution_count": 29,
   "metadata": {},
   "outputs": [
    {
     "data": {
      "image/png": "[encoded data removed]",
      "text/plain": [
       "<Figure size 432x288 with 1 Axes>"
      ]
     },
     "metadata": {},
     "output_type": "display_data"
    }
   ],
   "source": [
    "# fitness values over generations\n",
    "import matplotlib.pyplot as plt\n",
    "plt.plot([i for i in range(len(fitness_values))],fitness_values)\n",
    "plt.show()"
   ]
  },
  {
   "cell_type": "code",
   "execution_count": 163,
   "metadata": {},
   "outputs": [],
   "source": [
    "\"\"\"w1 = best_parent[\"w1\"]\n",
    "np.save(\"./w1.npy\",w1)\n",
    "b1 = best_parent[\"b1\"]\n",
    "np.save(\"./b1.npy\",b1)\n",
    "w2 = best_parent[\"w2\"]\n",
    "np.save(\"./w2.npy\",w2)\n",
    "b2 = best_parent[\"b2\"]\n",
    "np.save(\"./b2.npy\",b2)\"\"\""
   ]
  },
  {
   "cell_type": "code",
   "execution_count": 158,
   "metadata": {},
   "outputs": [
    {
     "name": "stdout",
     "output_type": "stream",
     "text": [
      "[[0. 0. 0. 0. 0. 0. 0. 0. 0. 0.]\n",
      " [0. 0. 0. 0. 0. 0. 0. 0. 0. 0.]\n",
      " [0. 0. 0. 0. 0. 0. 0. 0. 0. 0.]\n",
      " [0. 0. 0. 0. 0. 0. 1. 0. 0. 0.]\n",
      " [0. 0. 0. 0. 0. 0. 0. 0. 0. 0.]\n",
      " [0. 0. 0. 2. 2. 3. 0. 0. 0. 0.]\n",
      " [0. 0. 0. 0. 0. 0. 0. 0. 0. 0.]\n",
      " [0. 0. 0. 0. 0. 0. 0. 0. 0. 0.]\n",
      " [0. 0. 0. 0. 0. 0. 0. 0. 0. 0.]\n",
      " [0. 0. 0. 0. 0. 0. 0. 0. 0. 0.]]\n",
      "-----------------------------------------\n",
      "[[0. 0. 0. 0. 0. 0. 0. 0. 0. 0.]\n",
      " [0. 0. 0. 0. 0. 0. 0. 0. 0. 0.]\n",
      " [0. 0. 0. 0. 0. 0. 0. 0. 0. 0.]\n",
      " [0. 0. 0. 0. 0. 0. 1. 0. 0. 0.]\n",
      " [0. 0. 0. 0. 0. 0. 0. 0. 0. 0.]\n",
      " [0. 0. 0. 0. 2. 2. 3. 0. 0. 0.]\n",
      " [0. 0. 0. 0. 0. 0. 0. 0. 0. 0.]\n",
      " [0. 0. 0. 0. 0. 0. 0. 0. 0. 0.]\n",
      " [0. 0. 0. 0. 0. 0. 0. 0. 0. 0.]\n",
      " [0. 0. 0. 0. 0. 0. 0. 0. 0. 0.]]\n",
      "-----------------------------------------\n",
      "[[0. 0. 0. 0. 0. 0. 0. 0. 0. 0.]\n",
      " [0. 0. 0. 0. 0. 0. 0. 0. 0. 0.]\n",
      " [0. 0. 0. 0. 0. 0. 0. 0. 0. 0.]\n",
      " [0. 0. 0. 0. 0. 0. 1. 0. 0. 0.]\n",
      " [0. 0. 0. 0. 0. 0. 3. 0. 0. 0.]\n",
      " [0. 0. 0. 0. 0. 2. 2. 0. 0. 0.]\n",
      " [0. 0. 0. 0. 0. 0. 0. 0. 0. 0.]\n",
      " [0. 0. 0. 0. 0. 0. 0. 0. 0. 0.]\n",
      " [0. 0. 0. 0. 0. 0. 0. 0. 0. 0.]\n",
      " [0. 0. 0. 0. 0. 0. 0. 0. 0. 0.]]\n",
      "-----------------------------------------\n",
      "[[0. 0. 0. 0. 0. 0. 0. 0. 0. 0.]\n",
      " [0. 0. 0. 0. 0. 0. 0. 0. 0. 0.]\n",
      " [0. 0. 0. 0. 0. 0. 0. 0. 0. 0.]\n",
      " [0. 0. 0. 0. 0. 0. 3. 0. 0. 0.]\n",
      " [0. 0. 0. 0. 0. 0. 2. 0. 0. 0.]\n",
      " [0. 0. 0. 0. 0. 2. 2. 0. 0. 0.]\n",
      " [0. 0. 0. 0. 0. 0. 0. 0. 1. 0.]\n",
      " [0. 0. 0. 0. 0. 0. 0. 0. 0. 0.]\n",
      " [0. 0. 0. 0. 0. 0. 0. 0. 0. 0.]\n",
      " [0. 0. 0. 0. 0. 0. 0. 0. 0. 0.]]\n",
      "-----------------------------------------\n",
      "[[0. 0. 0. 0. 0. 0. 0. 0. 0. 0.]\n",
      " [0. 0. 0. 0. 0. 0. 0. 0. 0. 0.]\n",
      " [0. 0. 0. 0. 0. 0. 3. 0. 0. 0.]\n",
      " [0. 0. 0. 0. 0. 0. 2. 0. 0. 0.]\n",
      " [0. 0. 0. 0. 0. 0. 2. 0. 0. 0.]\n",
      " [0. 0. 0. 0. 0. 0. 2. 0. 0. 0.]\n",
      " [0. 0. 0. 0. 0. 0. 0. 0. 1. 0.]\n",
      " [0. 0. 0. 0. 0. 0. 0. 0. 0. 0.]\n",
      " [0. 0. 0. 0. 0. 0. 0. 0. 0. 0.]\n",
      " [0. 0. 0. 0. 0. 0. 0. 0. 0. 0.]]\n",
      "-----------------------------------------\n",
      "[[0. 0. 0. 0. 0. 0. 0. 0. 0. 0.]\n",
      " [0. 0. 0. 0. 0. 0. 3. 0. 0. 0.]\n",
      " [0. 0. 0. 0. 0. 0. 2. 0. 0. 0.]\n",
      " [0. 0. 0. 0. 0. 0. 2. 0. 0. 0.]\n",
      " [0. 0. 0. 0. 0. 0. 2. 0. 0. 0.]\n",
      " [0. 0. 0. 0. 0. 0. 0. 0. 0. 0.]\n",
      " [0. 0. 0. 0. 0. 0. 0. 0. 1. 0.]\n",
      " [0. 0. 0. 0. 0. 0. 0. 0. 0. 0.]\n",
      " [0. 0. 0. 0. 0. 0. 0. 0. 0. 0.]\n",
      " [0. 0. 0. 0. 0. 0. 0. 0. 0. 0.]]\n",
      "-----------------------------------------\n",
      "[[0. 0. 0. 0. 0. 0. 3. 0. 0. 0.]\n",
      " [0. 0. 0. 0. 0. 0. 2. 0. 0. 0.]\n",
      " [0. 0. 0. 0. 0. 0. 2. 0. 0. 0.]\n",
      " [0. 0. 0. 0. 0. 0. 2. 0. 0. 0.]\n",
      " [0. 0. 0. 0. 0. 0. 0. 0. 0. 0.]\n",
      " [0. 0. 0. 0. 0. 0. 0. 0. 0. 0.]\n",
      " [0. 0. 0. 0. 0. 0. 0. 0. 1. 0.]\n",
      " [0. 0. 0. 0. 0. 0. 0. 0. 0. 0.]\n",
      " [0. 0. 0. 0. 0. 0. 0. 0. 0. 0.]\n",
      " [0. 0. 0. 0. 0. 0. 0. 0. 0. 0.]]\n",
      "-----------------------------------------\n"
     ]
    },
    {
     "data": {
      "text/plain": [
       "1"
      ]
     },
     "execution_count": 158,
     "metadata": {},
     "output_type": "execute_result"
    }
   ],
   "source": [
    "### demo\n",
    "evaluate_fitness(parents[0],True)"
   ]
  }
 ],
 "metadata": {
  "kernelspec": {
   "display_name": "Python 3",
   "language": "python",
   "name": "python3"
  },
  "language_info": {
   "codemirror_mode": {
    "name": "ipython",
    "version": 3
   },
   "file_extension": ".py",
   "mimetype": "text/x-python",
   "name": "python",
   "nbconvert_exporter": "python",
   "pygments_lexer": "ipython3",
   "version": "3.6.5"
  }
 },
 "nbformat": 4,
 "nbformat_minor": 2
}
