{
 "cells": [
  {
   "cell_type": "markdown",
   "metadata": {},
   "source": [
    "## Simple Variational Autoencoder for MNIST Generation\n",
    "\n",
    "Based on the following paper: <i>Auto-Encoding Variational Bayes</i>; this is a good [guide](https://towardsdatascience.com/understanding-variational-autoencoders-vaes-f70510919f73)."
   ]
  },
  {
   "cell_type": "code",
   "execution_count": 1,
   "metadata": {},
   "outputs": [],
   "source": [
    "from tensorflow.keras.layers import Dense,Flatten,Input\n",
    "from tensorflow.keras import backend as K\n",
    "from tensorflow.keras.models import Model\n",
    "from tensorflow.keras.optimizers import Adam\n",
    "import tensorflow as tf\n",
    "import matplotlib.pyplot as plt\n",
    "import numpy as np\n",
    "tf.keras.backend.set_floatx('float32')\n",
    "import warnings\n",
    "warnings.filterwarnings('ignore')\n",
    "tf.compat.v1.enable_eager_execution()"
   ]
  },
  {
   "cell_type": "code",
   "execution_count": 2,
   "metadata": {},
   "outputs": [
    {
     "data": {
      "text/plain": [
       "((60000, 28, 28), (60000,))"
      ]
     },
     "execution_count": 2,
     "metadata": {},
     "output_type": "execute_result"
    }
   ],
   "source": [
    "(x_train,y_train),(x_test,y_test) = tf.keras.datasets.mnist.load_data()\n",
    "x_train.shape,y_train.shape # pre-shuffled"
   ]
  },
  {
   "cell_type": "code",
   "execution_count": 3,
   "metadata": {},
   "outputs": [
    {
     "name": "stdout",
     "output_type": "stream",
     "text": [
      "(24754, 28, 28) (24754,) [0 1 2 1 3 1 3 3 1 2]\n"
     ]
    }
   ],
   "source": [
    "x_train = x_train[y_train <= 3]\n",
    "y_train = y_train[y_train <= 3]\n",
    "x_train = x_train.astype(\"float32\")\n",
    "print(x_train.shape,y_train.shape,y_train[:10])"
   ]
  },
  {
   "cell_type": "code",
   "execution_count": 4,
   "metadata": {},
   "outputs": [
    {
     "data": {
      "image/png": "[encoded data removed]",
      "text/plain": [
       "<Figure size 432x288 with 3 Axes>"
      ]
     },
     "metadata": {},
     "output_type": "display_data"
    }
   ],
   "source": [
    "plt.subplot(1,3,1)\n",
    "plt.imshow(x_train[0],cmap=\"gray\")\n",
    "plt.subplot(1,3,2)\n",
    "plt.imshow(x_train[1],cmap=\"gray\")\n",
    "plt.subplot(1,3,3)\n",
    "plt.imshow(x_train[2],cmap=\"gray\")\n",
    "plt.show()"
   ]
  },
  {
   "cell_type": "code",
   "execution_count": 5,
   "metadata": {},
   "outputs": [],
   "source": [
    "x_train.shape = (len(x_train),784)"
   ]
  },
  {
   "cell_type": "code",
   "execution_count": 12,
   "metadata": {},
   "outputs": [],
   "source": [
    "def vae():\n",
    "    \"\"\" encoder and decoder for VAE\n",
    "    \"\"\"\n",
    "    x = Input(shape=(784))\n",
    "    r = Input(shape=(32)) # the random component ~N(0,1)\n",
    "    # encoder\n",
    "    h1 = Dense(128,activation=\"relu\")(x) # shared layer\n",
    "    h2 = Dense(64,activation=\"relu\")(h1)\n",
    "    h = Dense(32,activation=None)(h2) # for Sigma\n",
    "    h = tf.sqrt(tf.square(h)) # sigma must be positive\n",
    "    g2 = Dense(64,activation=\"relu\")(h1)\n",
    "    g = Dense(32,activation=None)(g2) # for Mu\n",
    "    z = g + h*r # re-parametarization (sample from latent space, L=1), z.shape:(N,32)\n",
    "    # decoder\n",
    "    f1 = Dense(64,activation=\"relu\")(z)\n",
    "    f2 = Dense(128,activation=\"relu\")(f1)\n",
    "    f = Dense(784,activation=None)(f2)\n",
    "    \n",
    "    model = Model(inputs=[x,r],outputs=[f,g,h])\n",
    "    return model"
   ]
  },
  {
   "cell_type": "code",
   "execution_count": 13,
   "metadata": {},
   "outputs": [],
   "source": [
    "def vae_cost(x,f,g,h):\n",
    "    \"\"\" latent_loss + reconstruction_loss\n",
    "    \"\"\"\n",
    "    g = g**2 # Mu\n",
    "    h = h**2 # Sigma\n",
    "    latent_loss = 1 + tf.log(h) - g - h # (N,32)\n",
    "    latent_loss = -0.5*tf.reduce_sum(latent_loss,axis=-1) # closed form, from KL divergence\n",
    "    reconstruction_loss = tf.keras.losses.MSE(x,f) # MSE for measuring reconstruction\n",
    "    total_loss = tf.reduce_sum(latent_loss + reconstruction_loss,axis=0)\n",
    "    return total_loss"
   ]
  },
  {
   "cell_type": "code",
   "execution_count": 14,
   "metadata": {},
   "outputs": [],
   "source": [
    "model = vae()"
   ]
  },
  {
   "cell_type": "code",
   "execution_count": null,
   "metadata": {},
   "outputs": [],
   "source": []
  },
  {
   "cell_type": "code",
   "execution_count": 26,
   "metadata": {},
   "outputs": [],
   "source": [
    "optimizer = Adam(0.001)"
   ]
  },
  {
   "cell_type": "code",
   "execution_count": 29,
   "metadata": {
    "scrolled": true
   },
   "outputs": [
    {
     "name": "stdout",
     "output_type": "stream",
     "text": [
      "epoch 1 loss: 178308.05819838058\n",
      "epoch 2 loss: 178111.1140561741\n",
      "epoch 3 loss: 177845.85304908906\n",
      "epoch 4 loss: 177502.07376012145\n",
      "epoch 5 loss: 177412.20628795546\n",
      "epoch 6 loss: 177165.4726720648\n",
      "epoch 7 loss: 176926.38739878542\n",
      "epoch 8 loss: 176744.41599190285\n",
      "epoch 9 loss: 176494.76189271256\n",
      "epoch 10 loss: 176494.08755060728\n",
      "epoch 11 loss: 176180.71792763157\n",
      "epoch 12 loss: 175917.01113360323\n",
      "epoch 13 loss: 175764.18857540487\n",
      "epoch 14 loss: 175583.1005187247\n",
      "epoch 15 loss: 175403.57660678137\n",
      "epoch 16 loss: 175223.18237601215\n",
      "epoch 17 loss: 175115.56547317814\n",
      "epoch 18 loss: 174830.08609564777\n",
      "epoch 19 loss: 174716.87411437248\n",
      "epoch 20 loss: 174550.39347165992\n",
      "epoch 21 loss: 174497.06003289475\n",
      "epoch 22 loss: 174319.37664473685\n",
      "epoch 23 loss: 174122.83046558703\n",
      "epoch 24 loss: 173925.25056933198\n",
      "epoch 25 loss: 173826.29719129554\n",
      "epoch 26 loss: 173753.12594888665\n",
      "epoch 27 loss: 173644.05086032388\n",
      "epoch 28 loss: 173417.1391700405\n",
      "epoch 29 loss: 173489.0605389676\n",
      "epoch 30 loss: 173187.47583502025\n",
      "epoch 31 loss: 173141.25132844129\n",
      "epoch 32 loss: 172938.9204832996\n",
      "epoch 33 loss: 172974.42642965587\n",
      "epoch 34 loss: 172833.77112854252\n",
      "epoch 35 loss: 172642.21558704454\n",
      "epoch 36 loss: 172447.97931427124\n",
      "epoch 37 loss: 172475.25240384616\n",
      "epoch 38 loss: 172388.6535298583\n",
      "epoch 39 loss: 172332.79523026315\n",
      "epoch 40 loss: 172186.01322115384\n",
      "epoch 41 loss: 172094.89771002025\n",
      "epoch 42 loss: 172002.64309210525\n",
      "epoch 43 loss: 171862.3886639676\n",
      "epoch 44 loss: 171789.27555668016\n",
      "epoch 45 loss: 171599.15745192306\n",
      "epoch 46 loss: 171535.30528846153\n",
      "epoch 47 loss: 171493.68028846153\n",
      "epoch 48 loss: 171483.18693066802\n",
      "epoch 49 loss: 171376.68174342104\n",
      "epoch 50 loss: 171229.80193572876\n"
     ]
    }
   ],
   "source": [
    "# displaying loss values after earlier training\n",
    "for epoch in range(50): # training the model, num. epochs\n",
    "    losses = []\n",
    "    for i in range(0,len(x_train)-100,100): # batch size of 100\n",
    "        x = x_train[i:i+100]\n",
    "        r = np.random.normal(loc=0.0,scale=1.0,size=(100,32)).astype(\"float32\")\n",
    "        with tf.GradientTape() as tape:\n",
    "            f,g,h = model([x,r]) # prediction/decoding\n",
    "            loss = vae_cost(x,f,g,h)\n",
    "        losses.append(float(loss))\n",
    "        gradients = tape.gradient(loss, model.trainable_variables)\n",
    "        optimizer.apply_gradients(zip(gradients, model.trainable_variables))\n",
    "    print(\"epoch {} loss: {}\".format(epoch+1,sum(losses)/len(losses)))"
   ]
  },
  {
   "cell_type": "code",
   "execution_count": 6,
   "metadata": {},
   "outputs": [
    {
     "name": "stdout",
     "output_type": "stream",
     "text": [
      "WARNING:tensorflow:No training configuration found in save file: the model was *not* compiled. Compile it manually.\n"
     ]
    }
   ],
   "source": [
    "model = tf.keras.models.load_model('my_model.h5')"
   ]
  },
  {
   "cell_type": "code",
   "execution_count": 19,
   "metadata": {},
   "outputs": [],
   "source": [
    "def generate_example(i):\n",
    "    x = x_train[i]\n",
    "    x = np.expand_dims(x,axis=0)\n",
    "    r1 = np.random.normal(loc=0.0,scale=1.0,size=(1,32)).astype(\"float32\")\n",
    "    r2 = np.random.normal(loc=0.0,scale=1.0,size=(1,32)).astype(\"float32\")\n",
    "    f1,_,_ = model([x,r1])\n",
    "    f2,_,_ = model([x,r2])\n",
    "    pred1 = np.maximum(0,f1.numpy())\n",
    "    pred2 = np.maximum(0,f2.numpy())\n",
    "    pred1.shape = (28,28) ; pred2.shape = (28,28) ; x.shape = (28,28)\n",
    "    plt.subplot(1,3,1)\n",
    "    plt.imshow(x,cmap=\"gray\")\n",
    "    plt.subplot(1,3,2)\n",
    "    plt.imshow(pred1,cmap=\"gray\")\n",
    "    plt.subplot(1,3,3)\n",
    "    plt.imshow(pred2,cmap=\"gray\")\n",
    "    plt.show()"
   ]
  },
  {
   "cell_type": "code",
   "execution_count": 20,
   "metadata": {},
   "outputs": [
    {
     "data": {
      "image/png": "[encoded data removed]",
      "text/plain": [
       "<Figure size 432x288 with 3 Axes>"
      ]
     },
     "metadata": {},
     "output_type": "display_data"
    }
   ],
   "source": [
    "generate_example(0)"
   ]
  },
  {
   "cell_type": "code",
   "execution_count": 21,
   "metadata": {},
   "outputs": [
    {
     "data": {
      "image/png": "[encoded data removed]",
      "text/plain": [
       "<Figure size 432x288 with 3 Axes>"
      ]
     },
     "metadata": {},
     "output_type": "display_data"
    }
   ],
   "source": [
    "generate_example(1)"
   ]
  },
  {
   "cell_type": "code",
   "execution_count": 22,
   "metadata": {},
   "outputs": [
    {
     "data": {
      "image/png": "[encoded data removed]",
      "text/plain": [
       "<Figure size 432x288 with 3 Axes>"
      ]
     },
     "metadata": {},
     "output_type": "display_data"
    }
   ],
   "source": [
    "generate_example(2)"
   ]
  },
  {
   "cell_type": "code",
   "execution_count": 23,
   "metadata": {},
   "outputs": [],
   "source": [
    "decoder = tf.keras.models.Sequential()"
   ]
  },
  {
   "cell_type": "code",
   "execution_count": 26,
   "metadata": {},
   "outputs": [],
   "source": [
    "decoder.add(Input(32)) # extracting just the decoder portion of the model\n",
    "decoder.add(model.layers[-3])\n",
    "decoder.add(model.layers[-2])\n",
    "decoder.add(model.layers[-1])"
   ]
  },
  {
   "cell_type": "code",
   "execution_count": 27,
   "metadata": {},
   "outputs": [
    {
     "data": {
      "text/plain": [
       "[<tensorflow.python.keras.engine.input_layer.InputLayer at 0x14bd1ee48>,\n",
       " <tensorflow.python.keras.layers.core.Dense at 0x1461c3f60>,\n",
       " <tensorflow.python.keras.layers.core.Dense at 0x1461c3d68>,\n",
       " <tensorflow.python.keras.layers.core.Dense at 0x1461cb240>]"
      ]
     },
     "execution_count": 27,
     "metadata": {},
     "output_type": "execute_result"
    }
   ],
   "source": [
    "decoder.layers"
   ]
  },
  {
   "cell_type": "code",
   "execution_count": null,
   "metadata": {},
   "outputs": [],
   "source": []
  },
  {
   "cell_type": "code",
   "execution_count": 30,
   "metadata": {},
   "outputs": [
    {
     "data": {
      "image/png": "[encoded data removed]",
      "text/plain": [
       "<Figure size 432x288 with 1 Axes>"
      ]
     },
     "metadata": {},
     "output_type": "display_data"
    }
   ],
   "source": [
    "ainput = np.random.normal(loc=0.0,scale=1.0,size=(1,32)).astype(\"float32\")\n",
    "aoutput = decoder(ainput)\n",
    "aoutput = aoutput.numpy()\n",
    "aoutput.shape = (28,28)\n",
    "aoutput = np.maximum(0,aoutput)\n",
    "plt.imshow(aoutput,cmap=\"gray\")\n",
    "plt.show()"
   ]
  },
  {
   "cell_type": "code",
   "execution_count": 32,
   "metadata": {},
   "outputs": [
    {
     "data": {
      "image/png": "[encoded data removed]",
      "text/plain": [
       "<Figure size 432x288 with 1 Axes>"
      ]
     },
     "metadata": {},
     "output_type": "display_data"
    }
   ],
   "source": []
  },
  {
   "cell_type": "code",
   "execution_count": 33,
   "metadata": {},
   "outputs": [
    {
     "data": {
      "image/png": "[encoded data removed]",
      "text/plain": [
       "<Figure size 432x288 with 1 Axes>"
      ]
     },
     "metadata": {},
     "output_type": "display_data"
    }
   ],
   "source": []
  },
  {
   "cell_type": "code",
   "execution_count": 37,
   "metadata": {},
   "outputs": [
    {
     "data": {
      "image/png": "[encoded data removed]",
      "text/plain": [
       "<Figure size 432x288 with 1 Axes>"
      ]
     },
     "metadata": {},
     "output_type": "display_data"
    }
   ],
   "source": []
  },
  {
   "cell_type": "code",
   "execution_count": 43,
   "metadata": {},
   "outputs": [
    {
     "data": {
      "image/png": "[encoded data removed]",
      "text/plain": [
       "<Figure size 432x288 with 1 Axes>"
      ]
     },
     "metadata": {},
     "output_type": "display_data"
    }
   ],
   "source": []
  }
 ],
 "metadata": {
  "kernelspec": {
   "display_name": "Python 3",
   "language": "python",
   "name": "python3"
  },
  "language_info": {
   "codemirror_mode": {
    "name": "ipython",
    "version": 3
   },
   "file_extension": ".py",
   "mimetype": "text/x-python",
   "name": "python",
   "nbconvert_exporter": "python",
   "pygments_lexer": "ipython3",
   "version": "3.6.5"
  }
 },
 "nbformat": 4,
 "nbformat_minor": 2
}
