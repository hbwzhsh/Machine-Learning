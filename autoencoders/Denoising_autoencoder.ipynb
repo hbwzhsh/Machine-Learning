{
 "cells": [
  {
   "cell_type": "markdown",
   "metadata": {},
   "source": [
    "## Denoising Autoencoder for MNIST\n",
    "\n",
    "Examples of simple autoencoders (DNN,CNN) built for the task of learning a useful latent representation of an input image from MNIST, such that it is able to denoise input images. The CNN autoencoder does a better job than the simpler DNN autoencoder, but neither of the models does a remarkable job, due to their relative simplicity."
   ]
  },
  {
   "cell_type": "code",
   "execution_count": 1,
   "metadata": {},
   "outputs": [],
   "source": [
    "import tensorflow as tf\n",
    "import numpy as np\n",
    "import matplotlib.pyplot as plt\n",
    "import torch\n",
    "import torch.nn as nn\n",
    "import torch.nn.functional as F\n",
    "import torch.optim as optim"
   ]
  },
  {
   "cell_type": "code",
   "execution_count": 2,
   "metadata": {},
   "outputs": [],
   "source": [
    "(x_train, y_train), (x_test, y_test) = tf.keras.datasets.mnist.load_data()"
   ]
  },
  {
   "cell_type": "code",
   "execution_count": 3,
   "metadata": {},
   "outputs": [
    {
     "data": {
      "text/plain": [
       "((60000, 28, 28), (60000,), (10000, 28, 28), (10000,))"
      ]
     },
     "execution_count": 3,
     "metadata": {},
     "output_type": "execute_result"
    }
   ],
   "source": [
    "x_train.shape,y_train.shape,x_test.shape,y_test.shape"
   ]
  },
  {
   "cell_type": "code",
   "execution_count": 4,
   "metadata": {},
   "outputs": [
    {
     "data": {
      "text/plain": [
       "array([5, 0, 4, ..., 5, 6, 8], dtype=uint8)"
      ]
     },
     "execution_count": 4,
     "metadata": {},
     "output_type": "execute_result"
    }
   ],
   "source": [
    "y_train # labels are pre-shuffled for testing and training"
   ]
  },
  {
   "cell_type": "markdown",
   "metadata": {},
   "source": [
    "### Data Preparation"
   ]
  },
  {
   "cell_type": "code",
   "execution_count": 5,
   "metadata": {},
   "outputs": [
    {
     "data": {
      "image/png": "[encoded data removed]",
      "text/plain": [
       "<Figure size 432x288 with 1 Axes>"
      ]
     },
     "metadata": {},
     "output_type": "display_data"
    },
    {
     "data": {
      "image/png": "[encoded data removed]",
      "text/plain": [
       "<Figure size 432x288 with 1 Axes>"
      ]
     },
     "metadata": {},
     "output_type": "display_data"
    }
   ],
   "source": [
    "example = x_train[0]\n",
    "\n",
    "noise = np.random.randn(28,28)*20\n",
    "example_with_noise = np.minimum(255,np.maximum(0,example+noise)) # ensuring valid pixel values\n",
    "\n",
    "plt.imshow(example,cmap=\"gray\")\n",
    "plt.title(\"MNIST Without Noise\")\n",
    "plt.show()\n",
    "\n",
    "plt.imshow(example_with_noise,cmap=\"gray\")\n",
    "plt.title(\"MNIST With Noise\")\n",
    "plt.show()"
   ]
  },
  {
   "cell_type": "code",
   "execution_count": 6,
   "metadata": {},
   "outputs": [],
   "source": [
    "x_train = x_train.astype(\"float32\")\n",
    "x_test = x_test.astype(\"float32\")"
   ]
  },
  {
   "cell_type": "code",
   "execution_count": 7,
   "metadata": {},
   "outputs": [],
   "source": [
    "# adding noise to the MNIST data\n",
    "noise_train = np.random.randn(x_train.shape[0],28,28)*20\n",
    "noise_test = np.random.randn(x_test.shape[0],28,28)*20"
   ]
  },
  {
   "cell_type": "code",
   "execution_count": 8,
   "metadata": {},
   "outputs": [],
   "source": [
    "x_train_w_noise = np.minimum(255,np.maximum(0,x_train+noise_train))\n",
    "x_test_w_noise = np.minimum(255,np.maximum(0,x_test+noise_test))"
   ]
  },
  {
   "cell_type": "markdown",
   "metadata": {},
   "source": [
    "### Simple DNN Autoencoder"
   ]
  },
  {
   "cell_type": "code",
   "execution_count": 9,
   "metadata": {},
   "outputs": [],
   "source": [
    "class SimpleNet(nn.Module):\n",
    "    \"\"\" 784x1 -> 300x1 -> 100x1(h) -> 300x1 -> 784x1\n",
    "    \"\"\"\n",
    "    def __init__(self):\n",
    "        super().__init__()\n",
    "        self.h1 = nn.Linear(784,300)\n",
    "        self.h2 = nn.Linear(300,100) # encoding to 100x1\n",
    "        self.h3 = nn.Linear(100,300) # upsampling\n",
    "        self.h4 = nn.Linear(300,784)\n",
    "    \n",
    "    def forward(self, x):\n",
    "        x = x.view(x.shape[0],784) # 784x1\n",
    "        x = F.relu(self.h1(x)) # 300x1\n",
    "        x = self.h2(x) # 100x1\n",
    "        x = F.relu(self.h3(x)) # 300x1\n",
    "        x = self.h4(x) # 784x1\n",
    "        return x"
   ]
  },
  {
   "cell_type": "code",
   "execution_count": 10,
   "metadata": {},
   "outputs": [],
   "source": [
    "net = SimpleNet()"
   ]
  },
  {
   "cell_type": "code",
   "execution_count": 11,
   "metadata": {},
   "outputs": [
    {
     "data": {
      "text/plain": [
       "(torch.Size([60000, 28, 28]),\n",
       " torch.Size([60000, 784]),\n",
       " torch.float32,\n",
       " torch.float32)"
      ]
     },
     "execution_count": 11,
     "metadata": {},
     "output_type": "execute_result"
    }
   ],
   "source": [
    "X = torch.from_numpy(x_train_w_noise)\n",
    "y = torch.from_numpy(x_train.reshape(x_train.shape[0],784))\n",
    "X = X.float()\n",
    "y = y.float()\n",
    "X.shape,y.shape,X.dtype,y.dtype"
   ]
  },
  {
   "cell_type": "code",
   "execution_count": 12,
   "metadata": {},
   "outputs": [],
   "source": [
    "optimizer = optim.Adam(net.parameters(),lr=0.005)\n",
    "loss_criterion = nn.MSELoss()\n",
    "epochs = 30\n",
    "batch_size=500"
   ]
  },
  {
   "cell_type": "code",
   "execution_count": 13,
   "metadata": {
    "scrolled": true
   },
   "outputs": [
    {
     "name": "stdout",
     "output_type": "stream",
     "text": [
      "Epoch 1 loss: 3138.690673828125\n",
      "Epoch 2 loss: 1577.53271484375\n",
      "Epoch 3 loss: 1229.474365234375\n",
      "Epoch 4 loss: 1110.9134521484375\n",
      "Epoch 5 loss: 1049.030517578125\n",
      "Epoch 6 loss: 1007.853271484375\n",
      "Epoch 7 loss: 981.7706909179688\n",
      "Epoch 8 loss: 959.144775390625\n",
      "Epoch 9 loss: 940.164794921875\n",
      "Epoch 10 loss: 931.7214965820312\n",
      "Epoch 11 loss: 911.4169311523438\n",
      "Epoch 12 loss: 907.1371459960938\n",
      "Epoch 13 loss: 891.6802978515625\n",
      "Epoch 14 loss: 880.6165771484375\n",
      "Epoch 15 loss: 870.0957641601562\n",
      "Epoch 16 loss: 860.2465209960938\n",
      "Epoch 17 loss: 852.556640625\n",
      "Epoch 18 loss: 854.451416015625\n",
      "Epoch 19 loss: 842.8101196289062\n",
      "Epoch 20 loss: 847.0745239257812\n",
      "Epoch 21 loss: 841.5383911132812\n",
      "Epoch 22 loss: 837.0052490234375\n",
      "Epoch 23 loss: 834.0585327148438\n",
      "Epoch 24 loss: 830.212890625\n",
      "Epoch 25 loss: 828.0018310546875\n",
      "Epoch 26 loss: 827.013916015625\n",
      "Epoch 27 loss: 824.7169799804688\n",
      "Epoch 28 loss: 826.421875\n",
      "Epoch 29 loss: 823.4769897460938\n",
      "Epoch 30 loss: 817.7437133789062\n"
     ]
    }
   ],
   "source": [
    "# training iteration\n",
    "for i in range(epochs):\n",
    "    batch_losses = []\n",
    "    for j in range(0,X.shape[0],batch_size):\n",
    "        temp_X = X[j:j+500,:,:]\n",
    "        temp_y = y[j:j+500,:]\n",
    "        optimizer.zero_grad()\n",
    "        output = net(temp_X)\n",
    "        loss = loss_criterion(output,temp_y)\n",
    "        loss.backward()\n",
    "        optimizer.step()\n",
    "        batch_losses.append(loss)\n",
    "    print(\"Epoch {} loss: {}\".format(i+1,sum(batch_losses)/len(batch_losses)))"
   ]
  },
  {
   "cell_type": "code",
   "execution_count": 14,
   "metadata": {},
   "outputs": [
    {
     "data": {
      "image/png": "[encoded data removed]",
      "text/plain": [
       "<Figure size 432x288 with 3 Axes>"
      ]
     },
     "metadata": {},
     "output_type": "display_data"
    }
   ],
   "source": [
    "# training set example, using the simple denoising autoencoder\n",
    "img_i = 12\n",
    "example = x_train[img_i]\n",
    "example_w_noise = x_train_w_noise[img_i]\n",
    "with torch.no_grad():\n",
    "    torch_example = torch.from_numpy(example_w_noise)\n",
    "    torch_example = torch_example.float()\n",
    "    torch_example = torch_example.unsqueeze(0)\n",
    "    out = net.forward(torch_example) # denoised from the model\n",
    "    out = out.numpy()\n",
    "    out = np.maximum(0,out)\n",
    "    out.shape = (28,28)\n",
    "\n",
    "plt.subplot(1,3,1)\n",
    "plt.title(\"Actual\")\n",
    "plt.imshow(example,cmap=\"gray\")\n",
    "plt.subplot(1,3,2)\n",
    "plt.title(\"Actual + Noise\")\n",
    "plt.imshow(example_w_noise,cmap=\"gray\")\n",
    "plt.subplot(1,3,3)\n",
    "plt.title(\"Denoised\")\n",
    "plt.imshow(out,cmap=\"gray\")\n",
    "plt.show()"
   ]
  },
  {
   "cell_type": "code",
   "execution_count": 15,
   "metadata": {},
   "outputs": [
    {
     "data": {
      "image/png": "[encoded data removed]",
      "text/plain": [
       "<Figure size 432x288 with 3 Axes>"
      ]
     },
     "metadata": {},
     "output_type": "display_data"
    }
   ],
   "source": [
    "# testing set example, using the simple denoising autoencoder\n",
    "img_i = 12\n",
    "example = x_test[img_i]\n",
    "example_w_noise = x_test_w_noise[img_i]\n",
    "with torch.no_grad():\n",
    "    torch_example = torch.from_numpy(example_w_noise)\n",
    "    torch_example = torch_example.float()\n",
    "    torch_example = torch_example.unsqueeze(0)\n",
    "    out = net.forward(torch_example) # denoised from the model\n",
    "    out = out.numpy()\n",
    "    out = np.maximum(0,out)\n",
    "    out.shape = (28,28)\n",
    "\n",
    "plt.subplot(1,3,1)\n",
    "plt.title(\"Actual\")\n",
    "plt.imshow(example,cmap=\"gray\")\n",
    "plt.subplot(1,3,2)\n",
    "plt.title(\"Actual + Noise\")\n",
    "plt.imshow(example_w_noise,cmap=\"gray\")\n",
    "plt.subplot(1,3,3)\n",
    "plt.title(\"Denoised\")\n",
    "plt.imshow(out,cmap=\"gray\")\n",
    "plt.show()"
   ]
  },
  {
   "cell_type": "markdown",
   "metadata": {},
   "source": [
    "### Simple CNN Autoencoder"
   ]
  },
  {
   "cell_type": "code",
   "execution_count": 16,
   "metadata": {},
   "outputs": [],
   "source": [
    "class CnnNet(nn.Module):\n",
    "    \"\"\" input shape: (batch_size,num_channels,length,width)\n",
    "    \"\"\"\n",
    "    def __init__(self):\n",
    "        super().__init__()\n",
    "        self.up = nn.UpsamplingNearest2d(scale_factor=2)\n",
    "        self.conv1 = nn.Conv2d(1,8,kernel_size=3,padding=1)\n",
    "        self.conv2 = nn.Conv2d(8,8,kernel_size=3,padding=1)\n",
    "        self.conv3 = nn.Conv2d(8,8,kernel_size=3,padding=1)\n",
    "        self.conv4 = nn.Conv2d(8,1,kernel_size=3,padding=1)\n",
    "        \n",
    "    def forward(self, x):\n",
    "        x = F.relu(self.conv1(x)) # (1,1,28,28)\n",
    "        x = F.max_pool2d(x,(2,2)) # (1,8,14,14)\n",
    "        x = self.conv2(x) # (1,8,14,14)\n",
    "        x = F.max_pool2d(x,(2,2)) # (1,8,7,7) latent representation\n",
    "        x = self.up(x) # (1,8,14,14)\n",
    "        x = F.relu(self.conv3(x)) # (1,8,14,14)\n",
    "        x = self.up(x) # (1,8,28,28)\n",
    "        x = self.conv4(x) # (1,1,28,28)\n",
    "        x = x.view(x.shape[0],784) # (1,784)\n",
    "        return x"
   ]
  },
  {
   "cell_type": "code",
   "execution_count": 17,
   "metadata": {},
   "outputs": [],
   "source": [
    "net2 = CnnNet()"
   ]
  },
  {
   "cell_type": "code",
   "execution_count": 18,
   "metadata": {},
   "outputs": [],
   "source": [
    "optimizer = optim.Adam(net2.parameters(),lr=0.003)\n",
    "loss_criterion = nn.MSELoss()\n",
    "epochs = 9\n",
    "batch_size=500"
   ]
  },
  {
   "cell_type": "code",
   "execution_count": 19,
   "metadata": {
    "scrolled": true
   },
   "outputs": [
    {
     "name": "stdout",
     "output_type": "stream",
     "text": [
      "Epoch 1 loss: 1974.9964599609375\n",
      "Epoch 2 loss: 920.5838012695312\n",
      "Epoch 3 loss: 703.7294311523438\n",
      "Epoch 4 loss: 625.4559326171875\n",
      "Epoch 5 loss: 590.2215576171875\n",
      "Epoch 6 loss: 567.8115844726562\n",
      "Epoch 7 loss: 551.0848999023438\n",
      "Epoch 8 loss: 538.6051025390625\n",
      "Epoch 9 loss: 528.2007446289062\n"
     ]
    }
   ],
   "source": [
    "# training iteration\n",
    "for i in range(epochs):\n",
    "    batch_losses = []\n",
    "    for j in range(0,X.shape[0],batch_size):\n",
    "        temp_X = X[j:j+500,:,:]\n",
    "        temp_y = y[j:j+500,:]\n",
    "        temp_X = temp_X.unsqueeze(1)\n",
    "        optimizer.zero_grad()\n",
    "        output = net2(temp_X)\n",
    "        loss = loss_criterion(output,temp_y)\n",
    "        loss.backward()\n",
    "        optimizer.step()\n",
    "        batch_losses.append(loss)\n",
    "    print(\"Epoch {} loss: {}\".format(i+1,sum(batch_losses)/len(batch_losses)))"
   ]
  },
  {
   "cell_type": "code",
   "execution_count": 20,
   "metadata": {},
   "outputs": [
    {
     "data": {
      "image/png": "[encoded data removed]",
      "text/plain": [
       "<Figure size 432x288 with 3 Axes>"
      ]
     },
     "metadata": {},
     "output_type": "display_data"
    }
   ],
   "source": [
    "# training set example, using the cnn denoising autoencoder (same example as with the simpler autoencoder)\n",
    "img_i = 12\n",
    "example = x_train[img_i]\n",
    "example_w_noise = x_train_w_noise[img_i]\n",
    "with torch.no_grad():\n",
    "    torch_example = torch.from_numpy(example_w_noise)\n",
    "    torch_example = torch_example.float()\n",
    "    torch_example = torch_example.unsqueeze(0)\n",
    "    torch_example = torch_example.unsqueeze(0)\n",
    "    out = net2.forward(torch_example) # denoised from the model\n",
    "    out = out.numpy()\n",
    "    out = np.maximum(0,out)\n",
    "    out.shape = (28,28)\n",
    "\n",
    "plt.subplot(1,3,1)\n",
    "plt.title(\"Actual\")\n",
    "plt.imshow(example,cmap=\"gray\")\n",
    "plt.subplot(1,3,2)\n",
    "plt.title(\"Actual + Noise\")\n",
    "plt.imshow(example_w_noise,cmap=\"gray\")\n",
    "plt.subplot(1,3,3)\n",
    "plt.title(\"Denoised\")\n",
    "plt.imshow(out,cmap=\"gray\")\n",
    "plt.show()"
   ]
  },
  {
   "cell_type": "code",
   "execution_count": 21,
   "metadata": {},
   "outputs": [
    {
     "data": {
      "image/png": "[encoded data removed]",
      "text/plain": [
       "<Figure size 432x288 with 3 Axes>"
      ]
     },
     "metadata": {},
     "output_type": "display_data"
    }
   ],
   "source": [
    "# testing set example, using the cnn denoising autoencoder (same example as with the simpler autoencoder)\n",
    "img_i = 12\n",
    "example = x_test[img_i]\n",
    "example_w_noise = x_test_w_noise[img_i]\n",
    "with torch.no_grad():\n",
    "    torch_example = torch.from_numpy(example_w_noise)\n",
    "    torch_example = torch_example.float()\n",
    "    torch_example = torch_example.unsqueeze(0)\n",
    "    torch_example = torch_example.unsqueeze(0)\n",
    "    out = net2.forward(torch_example) # denoised from the model\n",
    "    out = out.numpy()\n",
    "    out = np.maximum(0,out)\n",
    "    out.shape = (28,28)\n",
    "\n",
    "plt.subplot(1,3,1)\n",
    "plt.title(\"Actual\")\n",
    "plt.imshow(example,cmap=\"gray\")\n",
    "plt.subplot(1,3,2)\n",
    "plt.title(\"Actual + Noise\")\n",
    "plt.imshow(example_w_noise,cmap=\"gray\")\n",
    "plt.subplot(1,3,3)\n",
    "plt.title(\"Denoised\")\n",
    "plt.imshow(out,cmap=\"gray\")\n",
    "plt.show()"
   ]
  }
 ],
 "metadata": {
  "kernelspec": {
   "display_name": "Python 3",
   "language": "python",
   "name": "python3"
  },
  "language_info": {
   "codemirror_mode": {
    "name": "ipython",
    "version": 3
   },
   "file_extension": ".py",
   "mimetype": "text/x-python",
   "name": "python",
   "nbconvert_exporter": "python",
   "pygments_lexer": "ipython3",
   "version": "3.6.5"
  }
 },
 "nbformat": 4,
 "nbformat_minor": 2
}
