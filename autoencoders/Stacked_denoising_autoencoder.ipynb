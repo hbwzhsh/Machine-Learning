{
 "cells": [
  {
   "cell_type": "markdown",
   "metadata": {},
   "source": [
    "## Stacked Denoising Auto-encoder for Sentiment Analysis in Domain Adaptation Setting\n",
    "\n",
    "Based on the work in the following papers: <i>Is Joint Training Better for Deep Auto-Encoders?</i> (Global optimization objective vs greedy training), <i>Domain Adaptation for Large-Scale Sentiment Classification: A Deep Learning Approach</i> (Framework for DAEs in domain adaptation), <i>Estimating User Location in Social Media with Stacked Denoising Auto-encoders</i>, <i>Stacked Denoising Autoencoders: Learning Useful Representations in a Deep Network with a Local Denoising Criterion</i>.\n",
    "\n",
    "Using the global optimization objective, with the task being domain adaptation in the setting of sentiment review data (the distribution of text is different, but the task of sentiment classification is the same) from different companies (Amazon & Yelp). The assumption is that we only have labeled training data for the Amazon reviews."
   ]
  },
  {
   "cell_type": "code",
   "execution_count": 1,
   "metadata": {},
   "outputs": [],
   "source": [
    "import numpy as np\n",
    "import tensorflow as tf\n",
    "from tensorflow.keras.layers import Dense,Input,Layer\n",
    "from tensorflow.keras import backend as K\n",
    "from tensorflow.keras.activations import relu\n",
    "from tensorflow.keras.models import Model\n",
    "from tensorflow.keras.optimizers import Adam\n",
    "from tensorflow.keras.regularizers import l2\n",
    "from sklearn.feature_extraction.text import CountVectorizer\n",
    "from sklearn.model_selection import train_test_split\n",
    "tf.keras.backend.set_floatx('float32')\n",
    "tf.compat.v1.enable_eager_execution()\n",
    "\n",
    "import spacy\n",
    "nlp = spacy.load(\"en_core_web_lg\")\n",
    "\n",
    "import warnings\n",
    "warnings.filterwarnings('ignore')"
   ]
  },
  {
   "cell_type": "markdown",
   "metadata": {},
   "source": [
    "### Cleaning the sentiment data\n",
    "\n",
    "Text reviews with a binary classification of whether or not something is positive. Features are averag word-embeddings. This was also tested with bag-of-words in which there was an even smaller difference between the two model performances."
   ]
  },
  {
   "cell_type": "code",
   "execution_count": 2,
   "metadata": {},
   "outputs": [],
   "source": [
    "def clean_data(path):\n",
    "    x = [] # list of text\n",
    "    y = [] # list of numerical labels\n",
    "    with open(path) as text_file:\n",
    "        for line in text_file.readlines():\n",
    "            line = line.strip()\n",
    "            sent,score = line.split(\"\\t\")\n",
    "            score = float(score)\n",
    "            x.append(sent)\n",
    "            y.append(score)\n",
    "        return x,y"
   ]
  },
  {
   "cell_type": "code",
   "execution_count": 3,
   "metadata": {},
   "outputs": [
    {
     "name": "stdout",
     "output_type": "stream",
     "text": [
      "You can not answer calls with the unit, never worked once! 0.0\n",
      "Then, as if I hadn't wasted enough of my life there, they poured salt in the wound by drawing out the time it took to bring the check. 0.0\n"
     ]
    }
   ],
   "source": [
    "amazon_x,amazon_y = clean_data(\"../data/sentiment/amazon.txt\")\n",
    "yelp_x,yelp_y = clean_data(\"../data/sentiment/yelp.txt\")\n",
    "print(amazon_x[-1],amazon_y[-1])\n",
    "print(yelp_x[-1],yelp_y[-1])"
   ]
  },
  {
   "cell_type": "code",
   "execution_count": 4,
   "metadata": {},
   "outputs": [],
   "source": [
    "def vectorize_text(text_list):\n",
    "    x = []\n",
    "    for string in text_list:\n",
    "        vecs = [token.vector for token in nlp(string) if not token.is_stop and token.has_vector and not token.is_punct]\n",
    "        if len(vecs)==0:\n",
    "            x.append(np.zeros((300,)))\n",
    "        else:\n",
    "            x.append(np.mean(np.array(vecs),axis=0))\n",
    "    return x"
   ]
  },
  {
   "cell_type": "code",
   "execution_count": 5,
   "metadata": {},
   "outputs": [],
   "source": [
    "amazon_x = np.array(vectorize_text(amazon_x))\n",
    "amazon_x = amazon_x.astype(\"float32\")\n",
    "yelp_x = np.array(vectorize_text(yelp_x))\n",
    "yelp_x = yelp_x.astype(\"float32\")\n",
    "x = np.vstack([amazon_x,yelp_x])\n",
    "\n",
    "amazon_y = np.expand_dims(np.array(amazon_y),axis=-1).astype(\"float32\")\n",
    "yelp_y = np.expand_dims(np.array(yelp_y),axis=-1).astype(\"float32\")"
   ]
  },
  {
   "cell_type": "markdown",
   "metadata": {},
   "source": [
    "## Baseline Modeling"
   ]
  },
  {
   "cell_type": "code",
   "execution_count": 6,
   "metadata": {},
   "outputs": [],
   "source": [
    "def loss_function(pred,y):\n",
    "    \"\"\" binary crossentropy loss function\n",
    "    \"\"\"\n",
    "    return tf.reduce_sum(K.binary_crossentropy(y,pred,from_logits=True))"
   ]
  },
  {
   "cell_type": "code",
   "execution_count": 7,
   "metadata": {},
   "outputs": [],
   "source": [
    "def predict(pred):\n",
    "    \"\"\" returns the most likely class, 0 or 1\n",
    "    \"\"\"\n",
    "    scaled = tf.sigmoid(pred)\n",
    "    predictions = scaled >= 0.5 # setting cutoff at 0.5\n",
    "    predictions = tf.cast(predictions,tf.float32)\n",
    "    return predictions"
   ]
  },
  {
   "cell_type": "code",
   "execution_count": 8,
   "metadata": {},
   "outputs": [],
   "source": [
    "def accuracy(pred,y):\n",
    "    \"\"\" returns the accuracy based on class labels\n",
    "    \"\"\"\n",
    "    return tf.keras.metrics.Accuracy()(y,pred) #(labels=y,predictions=pred)"
   ]
  },
  {
   "cell_type": "code",
   "execution_count": 9,
   "metadata": {},
   "outputs": [],
   "source": [
    "def baseline_model():\n",
    "    \"\"\" DNN with the same architecture as the \"encoder\" for the SDAE\n",
    "    \"\"\"\n",
    "    x = Input(shape=(300))\n",
    "    # encoder\n",
    "    h1 = Dense(256,activation=\"relu\")(x)\n",
    "    h2 = Dense(128,activation=\"relu\")(h1)\n",
    "    # linear model\n",
    "    out = Dense(1,activation=None)(h2)\n",
    "    model = Model(inputs=x,outputs=out)\n",
    "    return model"
   ]
  },
  {
   "cell_type": "code",
   "execution_count": 10,
   "metadata": {},
   "outputs": [],
   "source": [
    "baseline = baseline_model()"
   ]
  },
  {
   "cell_type": "code",
   "execution_count": 11,
   "metadata": {},
   "outputs": [],
   "source": [
    "def train_model(x_train,y_train,x_val,y_val,model,epochs=100,lr=0.001):\n",
    "    optimizer = Adam(lr)\n",
    "    for epoch in range(epochs):\n",
    "        losses = []\n",
    "        for i in range(0,len(x_train)-100,100): # batch size of 100\n",
    "            x = x_train[i:i+100]\n",
    "            y = y_train[i:i+100]\n",
    "            with tf.GradientTape() as tape:\n",
    "                pred = model(x)\n",
    "                loss = loss_function(pred,y)\n",
    "            losses.append(float(loss))\n",
    "            gradients = tape.gradient(loss, model.trainable_variables)\n",
    "            optimizer.apply_gradients(zip(gradients, model.trainable_variables))\n",
    "            \n",
    "        train_accuracy = accuracy(predict(model(x_train)),y_train)\n",
    "        test_accuracy = accuracy(predict(model(x_val)),y_val)\n",
    "        avg_loss = sum(losses)/len(losses)\n",
    "        \n",
    "        print(\"epoch {}; loss:{}; train_acc:{}; test_acc:{};\".format(epoch+1,avg_loss,train_accuracy,test_accuracy))"
   ]
  },
  {
   "cell_type": "code",
   "execution_count": 12,
   "metadata": {
    "scrolled": true
   },
   "outputs": [
    {
     "name": "stdout",
     "output_type": "stream",
     "text": [
      "WARNING:tensorflow:From /Library/Frameworks/Python.framework/Versions/3.6/lib/python3.6/site-packages/tensorflow_core/python/ops/nn_impl.py:183: where (from tensorflow.python.ops.array_ops) is deprecated and will be removed in a future version.\n",
      "Instructions for updating:\n",
      "Use tf.where in 2.0, which has the same broadcast rule as np.where\n",
      "epoch 1; loss:61.496163262261284; train_acc:0.8140000104904175; test_acc:0.7919999957084656;\n",
      "epoch 2; loss:44.87359703911675; train_acc:0.8349999785423279; test_acc:0.800000011920929;\n",
      "epoch 3; loss:36.59075948927138; train_acc:0.8460000157356262; test_acc:0.8029999732971191;\n",
      "epoch 4; loss:31.989912668863933; train_acc:0.8700000047683716; test_acc:0.7919999957084656;\n",
      "epoch 5; loss:28.347305085923935; train_acc:0.890999972820282; test_acc:0.777999997138977;\n",
      "epoch 6; loss:25.075159284803604; train_acc:0.9020000100135803; test_acc:0.7710000276565552;\n",
      "epoch 7; loss:22.090785132514107; train_acc:0.9129999876022339; test_acc:0.7699999809265137;\n",
      "epoch 8; loss:19.238612916734482; train_acc:0.9290000200271606; test_acc:0.7689999938011169;\n",
      "epoch 9; loss:16.453226195441353; train_acc:0.9430000185966492; test_acc:0.7699999809265137;\n",
      "epoch 10; loss:13.792529477013481; train_acc:0.9559999704360962; test_acc:0.7720000147819519;\n"
     ]
    }
   ],
   "source": [
    "train_model(amazon_x,amazon_y,yelp_x,yelp_y,baseline,epochs=10,lr=0.001)"
   ]
  },
  {
   "cell_type": "markdown",
   "metadata": {},
   "source": [
    "## SDAE Modeling"
   ]
  },
  {
   "cell_type": "code",
   "execution_count": 13,
   "metadata": {},
   "outputs": [],
   "source": [
    "def reconstruction_loss(pred,y):\n",
    "    \"\"\" binary crossentropy loss function\n",
    "    \"\"\"\n",
    "    return tf.reduce_sum(tf.keras.losses.MSE(y,pred))"
   ]
  },
  {
   "cell_type": "code",
   "execution_count": 14,
   "metadata": {},
   "outputs": [],
   "source": [
    "class AddBias(Layer): # ultimately this was not used because it was found using the transpose didn't perform well\n",
    "    \"\"\" custom layer for adding bias terms into the decoder portion of the SDAE\n",
    "    \"\"\"\n",
    "    def __init__(self,output_dim,**kwargs):\n",
    "        self.output_dim = output_dim\n",
    "        super(AddBias,self).__init__(**kwargs)\n",
    "    \n",
    "    def build(self,input_shape):\n",
    "        self.bias_term = self.add_weight(name=\"bias\",shape=(self.output_dim,),initializer=\"zeros\",trainable=True)\n",
    "        super(AddBias,self).build(input_shape)\n",
    "        \n",
    "    def call(self,x):\n",
    "        return x+self.bias_term\n",
    "    \n",
    "    def compute_output_shape(self,input_shape):\n",
    "        return input_shape"
   ]
  },
  {
   "cell_type": "code",
   "execution_count": 15,
   "metadata": {},
   "outputs": [],
   "source": [
    "def sdae(dense1,dense2):\n",
    "    \"\"\" 2-layered stacked denoising auto-encoder, using masking noise\n",
    "    \"\"\"\n",
    "    x = Input(shape=(300))\n",
    "    \n",
    "    # encoder\n",
    "    input_mask = tf.cast(tf.random.uniform((100,300),minval=0,maxval=1)<=0.25,tf.float32) # 25% of values are zeros\n",
    "    x_masked = x*input_mask\n",
    "    h1 = dense1(x_masked)\n",
    "    h_mask = tf.cast(tf.random.uniform((100,256),minval=0,maxval=1)<=0.25,tf.float32) # 25% of values are zeros\n",
    "    h1_masked = h1*h_mask\n",
    "    h2 = dense2(h1_masked) # latent layer\n",
    "    \n",
    "    # decoder\n",
    "    d1 = Dense(256,activation=\"relu\")(h2)  # AddBias(256)(K.dot(h2,K.transpose(dense2.get_weights()[0]))) << using the transpose of encoder weight matrix\n",
    "    d2 = Dense(300)(d1) # AddBias(300)(K.dot(d1,K.transpose(dense1.get_weights()[0])))\n",
    "    \n",
    "    model = Model(inputs=x,outputs=d2)\n",
    "    return model"
   ]
  },
  {
   "cell_type": "code",
   "execution_count": 25,
   "metadata": {},
   "outputs": [],
   "source": [
    "dense1 = Dense(256,activation=\"relu\",kernel_regularizer=l2(10)) # as specified in the first paper, regularization is important for the global loss \n",
    "dense2 = Dense(128,activation=\"relu\",kernel_regularizer=l2(10))\n",
    "model = sdae(dense1,dense2)"
   ]
  },
  {
   "cell_type": "code",
   "execution_count": 26,
   "metadata": {},
   "outputs": [],
   "source": [
    "np.random.shuffle(x)"
   ]
  },
  {
   "cell_type": "code",
   "execution_count": 27,
   "metadata": {
    "scrolled": true
   },
   "outputs": [
    {
     "name": "stdout",
     "output_type": "stream",
     "text": [
      "epoch 1; loss:5.492444966968737\n",
      "epoch 2; loss:3.734927440944471\n",
      "epoch 3; loss:3.458477911196257\n",
      "epoch 4; loss:3.3228472784945837\n",
      "epoch 5; loss:3.134611543856169\n",
      "epoch 6; loss:2.9703965689006604\n",
      "epoch 7; loss:2.8086777486299215\n",
      "epoch 8; loss:2.6499110648506568\n",
      "epoch 9; loss:2.506976416236476\n",
      "epoch 10; loss:2.3767161494807194\n",
      "epoch 11; loss:2.258667883120085\n",
      "epoch 12; loss:2.1541127091959904\n",
      "epoch 13; loss:2.0633562615043237\n",
      "epoch 14; loss:1.98483491571326\n",
      "epoch 15; loss:1.9188478808653981\n",
      "epoch 16; loss:1.877349106889022\n",
      "epoch 17; loss:1.8645670413970947\n",
      "epoch 18; loss:1.8210481342516447\n",
      "epoch 19; loss:1.7436867073962563\n",
      "epoch 20; loss:1.7020318696373387\n",
      "epoch 21; loss:1.6692597677833156\n",
      "epoch 22; loss:1.6198507672862004\n",
      "epoch 23; loss:1.5741715368471647\n",
      "epoch 24; loss:1.539167793173539\n",
      "epoch 25; loss:1.50889411725496\n",
      "epoch 26; loss:1.4803690910339355\n",
      "epoch 27; loss:1.4503541306445473\n",
      "epoch 28; loss:1.4245770793212087\n",
      "epoch 29; loss:1.4000361342179148\n",
      "epoch 30; loss:1.3782022438551251\n",
      "epoch 31; loss:1.3543497135764675\n",
      "epoch 32; loss:1.3343932816856785\n",
      "epoch 33; loss:1.313595175743103\n",
      "epoch 34; loss:1.2864817129938226\n",
      "epoch 35; loss:1.2630956172943115\n",
      "epoch 36; loss:1.2443778201153404\n",
      "epoch 37; loss:1.224722849695306\n",
      "epoch 38; loss:1.207032925204227\n",
      "epoch 39; loss:1.1934065065885846\n",
      "epoch 40; loss:1.1838015882592452\n",
      "epoch 41; loss:1.1791630167710154\n",
      "epoch 42; loss:1.1697794387215061\n",
      "epoch 43; loss:1.164778565105639\n",
      "epoch 44; loss:1.17183476372769\n",
      "epoch 45; loss:1.166719725257472\n",
      "epoch 46; loss:1.1396083957270573\n",
      "epoch 47; loss:1.1431780300642316\n",
      "epoch 48; loss:1.1408979077088206\n",
      "epoch 49; loss:1.1364018854342008\n",
      "epoch 50; loss:1.1618789622658177\n",
      "epoch 51; loss:1.2029970131422345\n",
      "epoch 52; loss:1.2429704854362889\n",
      "epoch 53; loss:1.2790899653183787\n",
      "epoch 54; loss:1.31337571144104\n",
      "epoch 55; loss:1.2692224853917171\n",
      "epoch 56; loss:1.1935675018712093\n",
      "epoch 57; loss:1.1585654710468494\n",
      "epoch 58; loss:1.1588044919465716\n",
      "epoch 59; loss:1.1609322805153697\n",
      "epoch 60; loss:1.159485980084068\n",
      "epoch 61; loss:1.1354926510861045\n",
      "epoch 62; loss:1.0978041008899087\n",
      "epoch 63; loss:1.075989029909435\n",
      "epoch 64; loss:1.0739627762844688\n",
      "epoch 65; loss:1.085569281327097\n",
      "epoch 66; loss:1.1037639630468268\n",
      "epoch 67; loss:1.1356610373446816\n",
      "epoch 68; loss:1.1878609970996254\n",
      "epoch 69; loss:1.261698133067081\n",
      "epoch 70; loss:1.3399383959017301\n",
      "epoch 71; loss:1.3720973792829012\n",
      "epoch 72; loss:1.3620906754543907\n",
      "epoch 73; loss:1.2816578400762457\n",
      "epoch 74; loss:1.2243504273264032\n",
      "epoch 75; loss:1.1732825730976306\n",
      "epoch 76; loss:1.1172166247116893\n",
      "epoch 77; loss:1.0622746034672386\n",
      "epoch 78; loss:1.01669043302536\n",
      "epoch 79; loss:0.9828465926019769\n",
      "epoch 80; loss:0.9612903594970703\n",
      "epoch 81; loss:0.9491907828732541\n",
      "epoch 82; loss:0.9433136205924185\n",
      "epoch 83; loss:0.9391442380453411\n",
      "epoch 84; loss:0.9329709881230405\n",
      "epoch 85; loss:0.9259662000756514\n",
      "epoch 86; loss:0.9217122479488975\n",
      "epoch 87; loss:0.9159687161445618\n",
      "epoch 88; loss:0.9066788428708127\n",
      "epoch 89; loss:0.9000618489165055\n",
      "epoch 90; loss:0.8978147694939062\n",
      "epoch 91; loss:0.8958596398955897\n",
      "epoch 92; loss:0.8890706018397683\n",
      "epoch 93; loss:0.8822817865170931\n",
      "epoch 94; loss:0.8811327375863728\n",
      "epoch 95; loss:0.8808235369230571\n",
      "epoch 96; loss:0.8740273714065552\n",
      "epoch 97; loss:0.8699760499753451\n",
      "epoch 98; loss:0.8705154876959952\n",
      "epoch 99; loss:0.8662706299831993\n",
      "epoch 100; loss:0.8587673494690343\n"
     ]
    }
   ],
   "source": [
    "# training the feature extractor\n",
    "epochs=100\n",
    "optimizer = Adam(0.001)\n",
    "for epoch in range(epochs):\n",
    "    losses = []\n",
    "    for i in range(0,len(x)-100,100): # batch size of 100\n",
    "        a_x = x[i:i+100] # auto-encoder, so y=a_x\n",
    "        with tf.GradientTape() as tape:\n",
    "            pred = model(a_x)\n",
    "            loss = reconstruction_loss(pred,a_x)\n",
    "        losses.append(float(loss))\n",
    "        gradients = tape.gradient(loss, model.trainable_variables)\n",
    "        optimizer.apply_gradients(zip(gradients, model.trainable_variables))\n",
    "\n",
    "    avg_loss = sum(losses)/len(losses)\n",
    "\n",
    "    print(\"epoch {}; loss:{}\".format(epoch+1,avg_loss))"
   ]
  },
  {
   "cell_type": "code",
   "execution_count": 28,
   "metadata": {},
   "outputs": [],
   "source": [
    "amazon_feat = dense2(dense1(amazon_x)) # 1000x128\n",
    "yelp_feat = dense2(dense1(yelp_x)) # 1000x128"
   ]
  },
  {
   "cell_type": "code",
   "execution_count": 29,
   "metadata": {},
   "outputs": [],
   "source": [
    "amazon_feat = amazon_feat.numpy()\n",
    "yelp_feat = yelp_feat.numpy()"
   ]
  },
  {
   "cell_type": "code",
   "execution_count": 30,
   "metadata": {},
   "outputs": [],
   "source": [
    "def sdae_model():\n",
    "    \"\"\" Linear model for the extracted features of SDAE\n",
    "    \"\"\"\n",
    "    x = Input(shape=(128))\n",
    "    # linear model\n",
    "    out = Dense(1,activation=None)(x)\n",
    "    model = Model(inputs=x,outputs=out)\n",
    "    return model"
   ]
  },
  {
   "cell_type": "code",
   "execution_count": 31,
   "metadata": {},
   "outputs": [],
   "source": [
    "sdae_model = sdae_model()"
   ]
  },
  {
   "cell_type": "code",
   "execution_count": 32,
   "metadata": {
    "scrolled": false
   },
   "outputs": [
    {
     "name": "stdout",
     "output_type": "stream",
     "text": [
      "epoch 1; loss:75.29274410671658; train_acc:0.6309999823570251; test_acc:0.5590000152587891;\n",
      "epoch 2; loss:59.13066864013672; train_acc:0.7210000157356262; test_acc:0.6940000057220459;\n",
      "epoch 3; loss:51.987831115722656; train_acc:0.7559999823570251; test_acc:0.7250000238418579;\n",
      "epoch 4; loss:48.97614500257704; train_acc:0.765999972820282; test_acc:0.7419999837875366;\n",
      "epoch 5; loss:47.30768076578776; train_acc:0.7749999761581421; test_acc:0.7639999985694885;\n",
      "epoch 6; loss:46.167416678534615; train_acc:0.781000018119812; test_acc:0.777999997138977;\n",
      "epoch 7; loss:45.321928872002495; train_acc:0.7879999876022339; test_acc:0.7879999876022339;\n",
      "epoch 8; loss:44.64265018039279; train_acc:0.7940000295639038; test_acc:0.7919999957084656;\n",
      "epoch 9; loss:44.077796936035156; train_acc:0.7929999828338623; test_acc:0.7950000166893005;\n",
      "epoch 10; loss:43.588846842447914; train_acc:0.8009999990463257; test_acc:0.800000011920929;\n"
     ]
    }
   ],
   "source": [
    "train_model(amazon_feat,amazon_y,yelp_feat,yelp_y,sdae_model,epochs=10,lr=0.005)"
   ]
  },
  {
   "cell_type": "code",
   "execution_count": null,
   "metadata": {},
   "outputs": [],
   "source": []
  }
 ],
 "metadata": {
  "kernelspec": {
   "display_name": "Python 3",
   "language": "python",
   "name": "python3"
  },
  "language_info": {
   "codemirror_mode": {
    "name": "ipython",
    "version": 3
   },
   "file_extension": ".py",
   "mimetype": "text/x-python",
   "name": "python",
   "nbconvert_exporter": "python",
   "pygments_lexer": "ipython3",
   "version": "3.6.5"
  }
 },
 "nbformat": 4,
 "nbformat_minor": 2
}
